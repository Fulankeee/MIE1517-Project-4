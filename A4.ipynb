{
  "nbformat": 4,
  "nbformat_minor": 0,
  "metadata": {
    "colab": {
      "provenance": [],
      "gpuType": "T4",
      "collapsed_sections": [
        "M0jLI9LBa90C"
      ]
    },
    "kernelspec": {
      "name": "python3",
      "display_name": "Python 3"
    },
    "language_info": {
      "name": "python"
    },
    "accelerator": "GPU",
    "widgets": {
      "application/vnd.jupyter.widget-state+json": {
        "74ef5e2c615e49dcaaafb79ed9f23af0": {
          "model_module": "@jupyter-widgets/controls",
          "model_name": "HBoxModel",
          "model_module_version": "1.5.0",
          "state": {
            "_dom_classes": [],
            "_model_module": "@jupyter-widgets/controls",
            "_model_module_version": "1.5.0",
            "_model_name": "HBoxModel",
            "_view_count": null,
            "_view_module": "@jupyter-widgets/controls",
            "_view_module_version": "1.5.0",
            "_view_name": "HBoxView",
            "box_style": "",
            "children": [
              "IPY_MODEL_8949a95c8df849cbbcadc2fad41daa1f",
              "IPY_MODEL_7063deadbbe34fddbc0234418d913950",
              "IPY_MODEL_1fbd6d219e0b4448b0f6b02c1c735d3a"
            ],
            "layout": "IPY_MODEL_e94bd988119e4aa4a48e742f97b46c97"
          }
        },
        "8949a95c8df849cbbcadc2fad41daa1f": {
          "model_module": "@jupyter-widgets/controls",
          "model_name": "HTMLModel",
          "model_module_version": "1.5.0",
          "state": {
            "_dom_classes": [],
            "_model_module": "@jupyter-widgets/controls",
            "_model_module_version": "1.5.0",
            "_model_name": "HTMLModel",
            "_view_count": null,
            "_view_module": "@jupyter-widgets/controls",
            "_view_module_version": "1.5.0",
            "_view_name": "HTMLView",
            "description": "",
            "description_tooltip": null,
            "layout": "IPY_MODEL_4e3466c3bae642cea973b53d4c2e969a",
            "placeholder": "​",
            "style": "IPY_MODEL_ffe5991a37bf464e83f0d3da03720e50",
            "value": "tokenizer_config.json: 100%"
          }
        },
        "7063deadbbe34fddbc0234418d913950": {
          "model_module": "@jupyter-widgets/controls",
          "model_name": "FloatProgressModel",
          "model_module_version": "1.5.0",
          "state": {
            "_dom_classes": [],
            "_model_module": "@jupyter-widgets/controls",
            "_model_module_version": "1.5.0",
            "_model_name": "FloatProgressModel",
            "_view_count": null,
            "_view_module": "@jupyter-widgets/controls",
            "_view_module_version": "1.5.0",
            "_view_name": "ProgressView",
            "bar_style": "success",
            "description": "",
            "description_tooltip": null,
            "layout": "IPY_MODEL_bc943ddbfc1d42ca98824b51bfeab0e2",
            "max": 49,
            "min": 0,
            "orientation": "horizontal",
            "style": "IPY_MODEL_9ac7840869714b16b2f2053b640f8e85",
            "value": 49
          }
        },
        "1fbd6d219e0b4448b0f6b02c1c735d3a": {
          "model_module": "@jupyter-widgets/controls",
          "model_name": "HTMLModel",
          "model_module_version": "1.5.0",
          "state": {
            "_dom_classes": [],
            "_model_module": "@jupyter-widgets/controls",
            "_model_module_version": "1.5.0",
            "_model_name": "HTMLModel",
            "_view_count": null,
            "_view_module": "@jupyter-widgets/controls",
            "_view_module_version": "1.5.0",
            "_view_name": "HTMLView",
            "description": "",
            "description_tooltip": null,
            "layout": "IPY_MODEL_b247cb3c39d4482381608c4fd67ecfe2",
            "placeholder": "​",
            "style": "IPY_MODEL_355c3b2da4314eedb9f4c04f6c2903fd",
            "value": " 49.0/49.0 [00:00&lt;00:00, 2.01kB/s]"
          }
        },
        "e94bd988119e4aa4a48e742f97b46c97": {
          "model_module": "@jupyter-widgets/base",
          "model_name": "LayoutModel",
          "model_module_version": "1.2.0",
          "state": {
            "_model_module": "@jupyter-widgets/base",
            "_model_module_version": "1.2.0",
            "_model_name": "LayoutModel",
            "_view_count": null,
            "_view_module": "@jupyter-widgets/base",
            "_view_module_version": "1.2.0",
            "_view_name": "LayoutView",
            "align_content": null,
            "align_items": null,
            "align_self": null,
            "border": null,
            "bottom": null,
            "display": null,
            "flex": null,
            "flex_flow": null,
            "grid_area": null,
            "grid_auto_columns": null,
            "grid_auto_flow": null,
            "grid_auto_rows": null,
            "grid_column": null,
            "grid_gap": null,
            "grid_row": null,
            "grid_template_areas": null,
            "grid_template_columns": null,
            "grid_template_rows": null,
            "height": null,
            "justify_content": null,
            "justify_items": null,
            "left": null,
            "margin": null,
            "max_height": null,
            "max_width": null,
            "min_height": null,
            "min_width": null,
            "object_fit": null,
            "object_position": null,
            "order": null,
            "overflow": null,
            "overflow_x": null,
            "overflow_y": null,
            "padding": null,
            "right": null,
            "top": null,
            "visibility": null,
            "width": null
          }
        },
        "4e3466c3bae642cea973b53d4c2e969a": {
          "model_module": "@jupyter-widgets/base",
          "model_name": "LayoutModel",
          "model_module_version": "1.2.0",
          "state": {
            "_model_module": "@jupyter-widgets/base",
            "_model_module_version": "1.2.0",
            "_model_name": "LayoutModel",
            "_view_count": null,
            "_view_module": "@jupyter-widgets/base",
            "_view_module_version": "1.2.0",
            "_view_name": "LayoutView",
            "align_content": null,
            "align_items": null,
            "align_self": null,
            "border": null,
            "bottom": null,
            "display": null,
            "flex": null,
            "flex_flow": null,
            "grid_area": null,
            "grid_auto_columns": null,
            "grid_auto_flow": null,
            "grid_auto_rows": null,
            "grid_column": null,
            "grid_gap": null,
            "grid_row": null,
            "grid_template_areas": null,
            "grid_template_columns": null,
            "grid_template_rows": null,
            "height": null,
            "justify_content": null,
            "justify_items": null,
            "left": null,
            "margin": null,
            "max_height": null,
            "max_width": null,
            "min_height": null,
            "min_width": null,
            "object_fit": null,
            "object_position": null,
            "order": null,
            "overflow": null,
            "overflow_x": null,
            "overflow_y": null,
            "padding": null,
            "right": null,
            "top": null,
            "visibility": null,
            "width": null
          }
        },
        "ffe5991a37bf464e83f0d3da03720e50": {
          "model_module": "@jupyter-widgets/controls",
          "model_name": "DescriptionStyleModel",
          "model_module_version": "1.5.0",
          "state": {
            "_model_module": "@jupyter-widgets/controls",
            "_model_module_version": "1.5.0",
            "_model_name": "DescriptionStyleModel",
            "_view_count": null,
            "_view_module": "@jupyter-widgets/base",
            "_view_module_version": "1.2.0",
            "_view_name": "StyleView",
            "description_width": ""
          }
        },
        "bc943ddbfc1d42ca98824b51bfeab0e2": {
          "model_module": "@jupyter-widgets/base",
          "model_name": "LayoutModel",
          "model_module_version": "1.2.0",
          "state": {
            "_model_module": "@jupyter-widgets/base",
            "_model_module_version": "1.2.0",
            "_model_name": "LayoutModel",
            "_view_count": null,
            "_view_module": "@jupyter-widgets/base",
            "_view_module_version": "1.2.0",
            "_view_name": "LayoutView",
            "align_content": null,
            "align_items": null,
            "align_self": null,
            "border": null,
            "bottom": null,
            "display": null,
            "flex": null,
            "flex_flow": null,
            "grid_area": null,
            "grid_auto_columns": null,
            "grid_auto_flow": null,
            "grid_auto_rows": null,
            "grid_column": null,
            "grid_gap": null,
            "grid_row": null,
            "grid_template_areas": null,
            "grid_template_columns": null,
            "grid_template_rows": null,
            "height": null,
            "justify_content": null,
            "justify_items": null,
            "left": null,
            "margin": null,
            "max_height": null,
            "max_width": null,
            "min_height": null,
            "min_width": null,
            "object_fit": null,
            "object_position": null,
            "order": null,
            "overflow": null,
            "overflow_x": null,
            "overflow_y": null,
            "padding": null,
            "right": null,
            "top": null,
            "visibility": null,
            "width": null
          }
        },
        "9ac7840869714b16b2f2053b640f8e85": {
          "model_module": "@jupyter-widgets/controls",
          "model_name": "ProgressStyleModel",
          "model_module_version": "1.5.0",
          "state": {
            "_model_module": "@jupyter-widgets/controls",
            "_model_module_version": "1.5.0",
            "_model_name": "ProgressStyleModel",
            "_view_count": null,
            "_view_module": "@jupyter-widgets/base",
            "_view_module_version": "1.2.0",
            "_view_name": "StyleView",
            "bar_color": null,
            "description_width": ""
          }
        },
        "b247cb3c39d4482381608c4fd67ecfe2": {
          "model_module": "@jupyter-widgets/base",
          "model_name": "LayoutModel",
          "model_module_version": "1.2.0",
          "state": {
            "_model_module": "@jupyter-widgets/base",
            "_model_module_version": "1.2.0",
            "_model_name": "LayoutModel",
            "_view_count": null,
            "_view_module": "@jupyter-widgets/base",
            "_view_module_version": "1.2.0",
            "_view_name": "LayoutView",
            "align_content": null,
            "align_items": null,
            "align_self": null,
            "border": null,
            "bottom": null,
            "display": null,
            "flex": null,
            "flex_flow": null,
            "grid_area": null,
            "grid_auto_columns": null,
            "grid_auto_flow": null,
            "grid_auto_rows": null,
            "grid_column": null,
            "grid_gap": null,
            "grid_row": null,
            "grid_template_areas": null,
            "grid_template_columns": null,
            "grid_template_rows": null,
            "height": null,
            "justify_content": null,
            "justify_items": null,
            "left": null,
            "margin": null,
            "max_height": null,
            "max_width": null,
            "min_height": null,
            "min_width": null,
            "object_fit": null,
            "object_position": null,
            "order": null,
            "overflow": null,
            "overflow_x": null,
            "overflow_y": null,
            "padding": null,
            "right": null,
            "top": null,
            "visibility": null,
            "width": null
          }
        },
        "355c3b2da4314eedb9f4c04f6c2903fd": {
          "model_module": "@jupyter-widgets/controls",
          "model_name": "DescriptionStyleModel",
          "model_module_version": "1.5.0",
          "state": {
            "_model_module": "@jupyter-widgets/controls",
            "_model_module_version": "1.5.0",
            "_model_name": "DescriptionStyleModel",
            "_view_count": null,
            "_view_module": "@jupyter-widgets/base",
            "_view_module_version": "1.2.0",
            "_view_name": "StyleView",
            "description_width": ""
          }
        },
        "b514863ad4c44b8b9cffdd50a65aef1c": {
          "model_module": "@jupyter-widgets/controls",
          "model_name": "HBoxModel",
          "model_module_version": "1.5.0",
          "state": {
            "_dom_classes": [],
            "_model_module": "@jupyter-widgets/controls",
            "_model_module_version": "1.5.0",
            "_model_name": "HBoxModel",
            "_view_count": null,
            "_view_module": "@jupyter-widgets/controls",
            "_view_module_version": "1.5.0",
            "_view_name": "HBoxView",
            "box_style": "",
            "children": [
              "IPY_MODEL_4b43ecdababe41a4ad36596dd11fa9ae",
              "IPY_MODEL_ced3c8f2454d4f64bf7b2593ac64dd2c",
              "IPY_MODEL_cf6ecadf3f98428ba317fc796e5a450b"
            ],
            "layout": "IPY_MODEL_091f48c3335a4d80b6370a19a31efa21"
          }
        },
        "4b43ecdababe41a4ad36596dd11fa9ae": {
          "model_module": "@jupyter-widgets/controls",
          "model_name": "HTMLModel",
          "model_module_version": "1.5.0",
          "state": {
            "_dom_classes": [],
            "_model_module": "@jupyter-widgets/controls",
            "_model_module_version": "1.5.0",
            "_model_name": "HTMLModel",
            "_view_count": null,
            "_view_module": "@jupyter-widgets/controls",
            "_view_module_version": "1.5.0",
            "_view_name": "HTMLView",
            "description": "",
            "description_tooltip": null,
            "layout": "IPY_MODEL_57a4c42e83234b938d535fe3448f9dab",
            "placeholder": "​",
            "style": "IPY_MODEL_d2770fb1531e42a9a2036271b937e88d",
            "value": "vocab.txt: 100%"
          }
        },
        "ced3c8f2454d4f64bf7b2593ac64dd2c": {
          "model_module": "@jupyter-widgets/controls",
          "model_name": "FloatProgressModel",
          "model_module_version": "1.5.0",
          "state": {
            "_dom_classes": [],
            "_model_module": "@jupyter-widgets/controls",
            "_model_module_version": "1.5.0",
            "_model_name": "FloatProgressModel",
            "_view_count": null,
            "_view_module": "@jupyter-widgets/controls",
            "_view_module_version": "1.5.0",
            "_view_name": "ProgressView",
            "bar_style": "success",
            "description": "",
            "description_tooltip": null,
            "layout": "IPY_MODEL_bdc6732edcc64b94b138cdf13f05d382",
            "max": 213450,
            "min": 0,
            "orientation": "horizontal",
            "style": "IPY_MODEL_faf0ad0675a44d15813afd1ebbd166df",
            "value": 213450
          }
        },
        "cf6ecadf3f98428ba317fc796e5a450b": {
          "model_module": "@jupyter-widgets/controls",
          "model_name": "HTMLModel",
          "model_module_version": "1.5.0",
          "state": {
            "_dom_classes": [],
            "_model_module": "@jupyter-widgets/controls",
            "_model_module_version": "1.5.0",
            "_model_name": "HTMLModel",
            "_view_count": null,
            "_view_module": "@jupyter-widgets/controls",
            "_view_module_version": "1.5.0",
            "_view_name": "HTMLView",
            "description": "",
            "description_tooltip": null,
            "layout": "IPY_MODEL_5e81a2a2d6b34cb4860d7ff3ed2415d9",
            "placeholder": "​",
            "style": "IPY_MODEL_8672effee8eb4492befe8c36fcfe3203",
            "value": " 213k/213k [00:00&lt;00:00, 1.31MB/s]"
          }
        },
        "091f48c3335a4d80b6370a19a31efa21": {
          "model_module": "@jupyter-widgets/base",
          "model_name": "LayoutModel",
          "model_module_version": "1.2.0",
          "state": {
            "_model_module": "@jupyter-widgets/base",
            "_model_module_version": "1.2.0",
            "_model_name": "LayoutModel",
            "_view_count": null,
            "_view_module": "@jupyter-widgets/base",
            "_view_module_version": "1.2.0",
            "_view_name": "LayoutView",
            "align_content": null,
            "align_items": null,
            "align_self": null,
            "border": null,
            "bottom": null,
            "display": null,
            "flex": null,
            "flex_flow": null,
            "grid_area": null,
            "grid_auto_columns": null,
            "grid_auto_flow": null,
            "grid_auto_rows": null,
            "grid_column": null,
            "grid_gap": null,
            "grid_row": null,
            "grid_template_areas": null,
            "grid_template_columns": null,
            "grid_template_rows": null,
            "height": null,
            "justify_content": null,
            "justify_items": null,
            "left": null,
            "margin": null,
            "max_height": null,
            "max_width": null,
            "min_height": null,
            "min_width": null,
            "object_fit": null,
            "object_position": null,
            "order": null,
            "overflow": null,
            "overflow_x": null,
            "overflow_y": null,
            "padding": null,
            "right": null,
            "top": null,
            "visibility": null,
            "width": null
          }
        },
        "57a4c42e83234b938d535fe3448f9dab": {
          "model_module": "@jupyter-widgets/base",
          "model_name": "LayoutModel",
          "model_module_version": "1.2.0",
          "state": {
            "_model_module": "@jupyter-widgets/base",
            "_model_module_version": "1.2.0",
            "_model_name": "LayoutModel",
            "_view_count": null,
            "_view_module": "@jupyter-widgets/base",
            "_view_module_version": "1.2.0",
            "_view_name": "LayoutView",
            "align_content": null,
            "align_items": null,
            "align_self": null,
            "border": null,
            "bottom": null,
            "display": null,
            "flex": null,
            "flex_flow": null,
            "grid_area": null,
            "grid_auto_columns": null,
            "grid_auto_flow": null,
            "grid_auto_rows": null,
            "grid_column": null,
            "grid_gap": null,
            "grid_row": null,
            "grid_template_areas": null,
            "grid_template_columns": null,
            "grid_template_rows": null,
            "height": null,
            "justify_content": null,
            "justify_items": null,
            "left": null,
            "margin": null,
            "max_height": null,
            "max_width": null,
            "min_height": null,
            "min_width": null,
            "object_fit": null,
            "object_position": null,
            "order": null,
            "overflow": null,
            "overflow_x": null,
            "overflow_y": null,
            "padding": null,
            "right": null,
            "top": null,
            "visibility": null,
            "width": null
          }
        },
        "d2770fb1531e42a9a2036271b937e88d": {
          "model_module": "@jupyter-widgets/controls",
          "model_name": "DescriptionStyleModel",
          "model_module_version": "1.5.0",
          "state": {
            "_model_module": "@jupyter-widgets/controls",
            "_model_module_version": "1.5.0",
            "_model_name": "DescriptionStyleModel",
            "_view_count": null,
            "_view_module": "@jupyter-widgets/base",
            "_view_module_version": "1.2.0",
            "_view_name": "StyleView",
            "description_width": ""
          }
        },
        "bdc6732edcc64b94b138cdf13f05d382": {
          "model_module": "@jupyter-widgets/base",
          "model_name": "LayoutModel",
          "model_module_version": "1.2.0",
          "state": {
            "_model_module": "@jupyter-widgets/base",
            "_model_module_version": "1.2.0",
            "_model_name": "LayoutModel",
            "_view_count": null,
            "_view_module": "@jupyter-widgets/base",
            "_view_module_version": "1.2.0",
            "_view_name": "LayoutView",
            "align_content": null,
            "align_items": null,
            "align_self": null,
            "border": null,
            "bottom": null,
            "display": null,
            "flex": null,
            "flex_flow": null,
            "grid_area": null,
            "grid_auto_columns": null,
            "grid_auto_flow": null,
            "grid_auto_rows": null,
            "grid_column": null,
            "grid_gap": null,
            "grid_row": null,
            "grid_template_areas": null,
            "grid_template_columns": null,
            "grid_template_rows": null,
            "height": null,
            "justify_content": null,
            "justify_items": null,
            "left": null,
            "margin": null,
            "max_height": null,
            "max_width": null,
            "min_height": null,
            "min_width": null,
            "object_fit": null,
            "object_position": null,
            "order": null,
            "overflow": null,
            "overflow_x": null,
            "overflow_y": null,
            "padding": null,
            "right": null,
            "top": null,
            "visibility": null,
            "width": null
          }
        },
        "faf0ad0675a44d15813afd1ebbd166df": {
          "model_module": "@jupyter-widgets/controls",
          "model_name": "ProgressStyleModel",
          "model_module_version": "1.5.0",
          "state": {
            "_model_module": "@jupyter-widgets/controls",
            "_model_module_version": "1.5.0",
            "_model_name": "ProgressStyleModel",
            "_view_count": null,
            "_view_module": "@jupyter-widgets/base",
            "_view_module_version": "1.2.0",
            "_view_name": "StyleView",
            "bar_color": null,
            "description_width": ""
          }
        },
        "5e81a2a2d6b34cb4860d7ff3ed2415d9": {
          "model_module": "@jupyter-widgets/base",
          "model_name": "LayoutModel",
          "model_module_version": "1.2.0",
          "state": {
            "_model_module": "@jupyter-widgets/base",
            "_model_module_version": "1.2.0",
            "_model_name": "LayoutModel",
            "_view_count": null,
            "_view_module": "@jupyter-widgets/base",
            "_view_module_version": "1.2.0",
            "_view_name": "LayoutView",
            "align_content": null,
            "align_items": null,
            "align_self": null,
            "border": null,
            "bottom": null,
            "display": null,
            "flex": null,
            "flex_flow": null,
            "grid_area": null,
            "grid_auto_columns": null,
            "grid_auto_flow": null,
            "grid_auto_rows": null,
            "grid_column": null,
            "grid_gap": null,
            "grid_row": null,
            "grid_template_areas": null,
            "grid_template_columns": null,
            "grid_template_rows": null,
            "height": null,
            "justify_content": null,
            "justify_items": null,
            "left": null,
            "margin": null,
            "max_height": null,
            "max_width": null,
            "min_height": null,
            "min_width": null,
            "object_fit": null,
            "object_position": null,
            "order": null,
            "overflow": null,
            "overflow_x": null,
            "overflow_y": null,
            "padding": null,
            "right": null,
            "top": null,
            "visibility": null,
            "width": null
          }
        },
        "8672effee8eb4492befe8c36fcfe3203": {
          "model_module": "@jupyter-widgets/controls",
          "model_name": "DescriptionStyleModel",
          "model_module_version": "1.5.0",
          "state": {
            "_model_module": "@jupyter-widgets/controls",
            "_model_module_version": "1.5.0",
            "_model_name": "DescriptionStyleModel",
            "_view_count": null,
            "_view_module": "@jupyter-widgets/base",
            "_view_module_version": "1.2.0",
            "_view_name": "StyleView",
            "description_width": ""
          }
        },
        "e86e11b9dc384c56b6504b73c508c7bd": {
          "model_module": "@jupyter-widgets/controls",
          "model_name": "HBoxModel",
          "model_module_version": "1.5.0",
          "state": {
            "_dom_classes": [],
            "_model_module": "@jupyter-widgets/controls",
            "_model_module_version": "1.5.0",
            "_model_name": "HBoxModel",
            "_view_count": null,
            "_view_module": "@jupyter-widgets/controls",
            "_view_module_version": "1.5.0",
            "_view_name": "HBoxView",
            "box_style": "",
            "children": [
              "IPY_MODEL_28d7dcf2c247479688edda4d694de63b",
              "IPY_MODEL_baa9a62b90b74b87b3dbaf98f696a9c3",
              "IPY_MODEL_bd06860e6ef94e6e9e308893304c7698"
            ],
            "layout": "IPY_MODEL_309d118bd4964b2a85fa214d9d895493"
          }
        },
        "28d7dcf2c247479688edda4d694de63b": {
          "model_module": "@jupyter-widgets/controls",
          "model_name": "HTMLModel",
          "model_module_version": "1.5.0",
          "state": {
            "_dom_classes": [],
            "_model_module": "@jupyter-widgets/controls",
            "_model_module_version": "1.5.0",
            "_model_name": "HTMLModel",
            "_view_count": null,
            "_view_module": "@jupyter-widgets/controls",
            "_view_module_version": "1.5.0",
            "_view_name": "HTMLView",
            "description": "",
            "description_tooltip": null,
            "layout": "IPY_MODEL_12ad67b0d0b241169f943846a1d288bc",
            "placeholder": "​",
            "style": "IPY_MODEL_647325379c2d4f53a9f4510e59b57a1f",
            "value": "tokenizer.json: 100%"
          }
        },
        "baa9a62b90b74b87b3dbaf98f696a9c3": {
          "model_module": "@jupyter-widgets/controls",
          "model_name": "FloatProgressModel",
          "model_module_version": "1.5.0",
          "state": {
            "_dom_classes": [],
            "_model_module": "@jupyter-widgets/controls",
            "_model_module_version": "1.5.0",
            "_model_name": "FloatProgressModel",
            "_view_count": null,
            "_view_module": "@jupyter-widgets/controls",
            "_view_module_version": "1.5.0",
            "_view_name": "ProgressView",
            "bar_style": "success",
            "description": "",
            "description_tooltip": null,
            "layout": "IPY_MODEL_74d0b3bdb5d14cf8ae0597c85d397cce",
            "max": 435797,
            "min": 0,
            "orientation": "horizontal",
            "style": "IPY_MODEL_4f8ab2411ba84540bf64b6bb7b78f10b",
            "value": 435797
          }
        },
        "bd06860e6ef94e6e9e308893304c7698": {
          "model_module": "@jupyter-widgets/controls",
          "model_name": "HTMLModel",
          "model_module_version": "1.5.0",
          "state": {
            "_dom_classes": [],
            "_model_module": "@jupyter-widgets/controls",
            "_model_module_version": "1.5.0",
            "_model_name": "HTMLModel",
            "_view_count": null,
            "_view_module": "@jupyter-widgets/controls",
            "_view_module_version": "1.5.0",
            "_view_name": "HTMLView",
            "description": "",
            "description_tooltip": null,
            "layout": "IPY_MODEL_67af8d7fc1384a1ab9c51a9cdfcfc27f",
            "placeholder": "​",
            "style": "IPY_MODEL_cf49d04553ce4ab49a31c5f790a7fe0c",
            "value": " 436k/436k [00:00&lt;00:00, 2.65MB/s]"
          }
        },
        "309d118bd4964b2a85fa214d9d895493": {
          "model_module": "@jupyter-widgets/base",
          "model_name": "LayoutModel",
          "model_module_version": "1.2.0",
          "state": {
            "_model_module": "@jupyter-widgets/base",
            "_model_module_version": "1.2.0",
            "_model_name": "LayoutModel",
            "_view_count": null,
            "_view_module": "@jupyter-widgets/base",
            "_view_module_version": "1.2.0",
            "_view_name": "LayoutView",
            "align_content": null,
            "align_items": null,
            "align_self": null,
            "border": null,
            "bottom": null,
            "display": null,
            "flex": null,
            "flex_flow": null,
            "grid_area": null,
            "grid_auto_columns": null,
            "grid_auto_flow": null,
            "grid_auto_rows": null,
            "grid_column": null,
            "grid_gap": null,
            "grid_row": null,
            "grid_template_areas": null,
            "grid_template_columns": null,
            "grid_template_rows": null,
            "height": null,
            "justify_content": null,
            "justify_items": null,
            "left": null,
            "margin": null,
            "max_height": null,
            "max_width": null,
            "min_height": null,
            "min_width": null,
            "object_fit": null,
            "object_position": null,
            "order": null,
            "overflow": null,
            "overflow_x": null,
            "overflow_y": null,
            "padding": null,
            "right": null,
            "top": null,
            "visibility": null,
            "width": null
          }
        },
        "12ad67b0d0b241169f943846a1d288bc": {
          "model_module": "@jupyter-widgets/base",
          "model_name": "LayoutModel",
          "model_module_version": "1.2.0",
          "state": {
            "_model_module": "@jupyter-widgets/base",
            "_model_module_version": "1.2.0",
            "_model_name": "LayoutModel",
            "_view_count": null,
            "_view_module": "@jupyter-widgets/base",
            "_view_module_version": "1.2.0",
            "_view_name": "LayoutView",
            "align_content": null,
            "align_items": null,
            "align_self": null,
            "border": null,
            "bottom": null,
            "display": null,
            "flex": null,
            "flex_flow": null,
            "grid_area": null,
            "grid_auto_columns": null,
            "grid_auto_flow": null,
            "grid_auto_rows": null,
            "grid_column": null,
            "grid_gap": null,
            "grid_row": null,
            "grid_template_areas": null,
            "grid_template_columns": null,
            "grid_template_rows": null,
            "height": null,
            "justify_content": null,
            "justify_items": null,
            "left": null,
            "margin": null,
            "max_height": null,
            "max_width": null,
            "min_height": null,
            "min_width": null,
            "object_fit": null,
            "object_position": null,
            "order": null,
            "overflow": null,
            "overflow_x": null,
            "overflow_y": null,
            "padding": null,
            "right": null,
            "top": null,
            "visibility": null,
            "width": null
          }
        },
        "647325379c2d4f53a9f4510e59b57a1f": {
          "model_module": "@jupyter-widgets/controls",
          "model_name": "DescriptionStyleModel",
          "model_module_version": "1.5.0",
          "state": {
            "_model_module": "@jupyter-widgets/controls",
            "_model_module_version": "1.5.0",
            "_model_name": "DescriptionStyleModel",
            "_view_count": null,
            "_view_module": "@jupyter-widgets/base",
            "_view_module_version": "1.2.0",
            "_view_name": "StyleView",
            "description_width": ""
          }
        },
        "74d0b3bdb5d14cf8ae0597c85d397cce": {
          "model_module": "@jupyter-widgets/base",
          "model_name": "LayoutModel",
          "model_module_version": "1.2.0",
          "state": {
            "_model_module": "@jupyter-widgets/base",
            "_model_module_version": "1.2.0",
            "_model_name": "LayoutModel",
            "_view_count": null,
            "_view_module": "@jupyter-widgets/base",
            "_view_module_version": "1.2.0",
            "_view_name": "LayoutView",
            "align_content": null,
            "align_items": null,
            "align_self": null,
            "border": null,
            "bottom": null,
            "display": null,
            "flex": null,
            "flex_flow": null,
            "grid_area": null,
            "grid_auto_columns": null,
            "grid_auto_flow": null,
            "grid_auto_rows": null,
            "grid_column": null,
            "grid_gap": null,
            "grid_row": null,
            "grid_template_areas": null,
            "grid_template_columns": null,
            "grid_template_rows": null,
            "height": null,
            "justify_content": null,
            "justify_items": null,
            "left": null,
            "margin": null,
            "max_height": null,
            "max_width": null,
            "min_height": null,
            "min_width": null,
            "object_fit": null,
            "object_position": null,
            "order": null,
            "overflow": null,
            "overflow_x": null,
            "overflow_y": null,
            "padding": null,
            "right": null,
            "top": null,
            "visibility": null,
            "width": null
          }
        },
        "4f8ab2411ba84540bf64b6bb7b78f10b": {
          "model_module": "@jupyter-widgets/controls",
          "model_name": "ProgressStyleModel",
          "model_module_version": "1.5.0",
          "state": {
            "_model_module": "@jupyter-widgets/controls",
            "_model_module_version": "1.5.0",
            "_model_name": "ProgressStyleModel",
            "_view_count": null,
            "_view_module": "@jupyter-widgets/base",
            "_view_module_version": "1.2.0",
            "_view_name": "StyleView",
            "bar_color": null,
            "description_width": ""
          }
        },
        "67af8d7fc1384a1ab9c51a9cdfcfc27f": {
          "model_module": "@jupyter-widgets/base",
          "model_name": "LayoutModel",
          "model_module_version": "1.2.0",
          "state": {
            "_model_module": "@jupyter-widgets/base",
            "_model_module_version": "1.2.0",
            "_model_name": "LayoutModel",
            "_view_count": null,
            "_view_module": "@jupyter-widgets/base",
            "_view_module_version": "1.2.0",
            "_view_name": "LayoutView",
            "align_content": null,
            "align_items": null,
            "align_self": null,
            "border": null,
            "bottom": null,
            "display": null,
            "flex": null,
            "flex_flow": null,
            "grid_area": null,
            "grid_auto_columns": null,
            "grid_auto_flow": null,
            "grid_auto_rows": null,
            "grid_column": null,
            "grid_gap": null,
            "grid_row": null,
            "grid_template_areas": null,
            "grid_template_columns": null,
            "grid_template_rows": null,
            "height": null,
            "justify_content": null,
            "justify_items": null,
            "left": null,
            "margin": null,
            "max_height": null,
            "max_width": null,
            "min_height": null,
            "min_width": null,
            "object_fit": null,
            "object_position": null,
            "order": null,
            "overflow": null,
            "overflow_x": null,
            "overflow_y": null,
            "padding": null,
            "right": null,
            "top": null,
            "visibility": null,
            "width": null
          }
        },
        "cf49d04553ce4ab49a31c5f790a7fe0c": {
          "model_module": "@jupyter-widgets/controls",
          "model_name": "DescriptionStyleModel",
          "model_module_version": "1.5.0",
          "state": {
            "_model_module": "@jupyter-widgets/controls",
            "_model_module_version": "1.5.0",
            "_model_name": "DescriptionStyleModel",
            "_view_count": null,
            "_view_module": "@jupyter-widgets/base",
            "_view_module_version": "1.2.0",
            "_view_name": "StyleView",
            "description_width": ""
          }
        },
        "eca0e3435e2c4b279385cea84dc909c5": {
          "model_module": "@jupyter-widgets/controls",
          "model_name": "HBoxModel",
          "model_module_version": "1.5.0",
          "state": {
            "_dom_classes": [],
            "_model_module": "@jupyter-widgets/controls",
            "_model_module_version": "1.5.0",
            "_model_name": "HBoxModel",
            "_view_count": null,
            "_view_module": "@jupyter-widgets/controls",
            "_view_module_version": "1.5.0",
            "_view_name": "HBoxView",
            "box_style": "",
            "children": [
              "IPY_MODEL_6d8f4118326c42f79497139c52a1ebc8",
              "IPY_MODEL_0f97998999154d4e9edd8adb2f8763fb",
              "IPY_MODEL_0565e63185154e5f9f44ac5d20cc79ac"
            ],
            "layout": "IPY_MODEL_b7eebcd3e86d40899d4f006db858c0c3"
          }
        },
        "6d8f4118326c42f79497139c52a1ebc8": {
          "model_module": "@jupyter-widgets/controls",
          "model_name": "HTMLModel",
          "model_module_version": "1.5.0",
          "state": {
            "_dom_classes": [],
            "_model_module": "@jupyter-widgets/controls",
            "_model_module_version": "1.5.0",
            "_model_name": "HTMLModel",
            "_view_count": null,
            "_view_module": "@jupyter-widgets/controls",
            "_view_module_version": "1.5.0",
            "_view_name": "HTMLView",
            "description": "",
            "description_tooltip": null,
            "layout": "IPY_MODEL_c55c25040d8248c7bf0019691ae412f3",
            "placeholder": "​",
            "style": "IPY_MODEL_0781401a4e7240b7ab14571bb8646f97",
            "value": "config.json: 100%"
          }
        },
        "0f97998999154d4e9edd8adb2f8763fb": {
          "model_module": "@jupyter-widgets/controls",
          "model_name": "FloatProgressModel",
          "model_module_version": "1.5.0",
          "state": {
            "_dom_classes": [],
            "_model_module": "@jupyter-widgets/controls",
            "_model_module_version": "1.5.0",
            "_model_name": "FloatProgressModel",
            "_view_count": null,
            "_view_module": "@jupyter-widgets/controls",
            "_view_module_version": "1.5.0",
            "_view_name": "ProgressView",
            "bar_style": "success",
            "description": "",
            "description_tooltip": null,
            "layout": "IPY_MODEL_07baef2ec23d4f919b92202d6ce34d2a",
            "max": 570,
            "min": 0,
            "orientation": "horizontal",
            "style": "IPY_MODEL_03ba616377424c7e916fe51343f05857",
            "value": 570
          }
        },
        "0565e63185154e5f9f44ac5d20cc79ac": {
          "model_module": "@jupyter-widgets/controls",
          "model_name": "HTMLModel",
          "model_module_version": "1.5.0",
          "state": {
            "_dom_classes": [],
            "_model_module": "@jupyter-widgets/controls",
            "_model_module_version": "1.5.0",
            "_model_name": "HTMLModel",
            "_view_count": null,
            "_view_module": "@jupyter-widgets/controls",
            "_view_module_version": "1.5.0",
            "_view_name": "HTMLView",
            "description": "",
            "description_tooltip": null,
            "layout": "IPY_MODEL_f7af78f32b2148c1bbf90af341414a9f",
            "placeholder": "​",
            "style": "IPY_MODEL_49afdfd71d3646ef8cb1d6e78b345916",
            "value": " 570/570 [00:00&lt;00:00, 10.6kB/s]"
          }
        },
        "b7eebcd3e86d40899d4f006db858c0c3": {
          "model_module": "@jupyter-widgets/base",
          "model_name": "LayoutModel",
          "model_module_version": "1.2.0",
          "state": {
            "_model_module": "@jupyter-widgets/base",
            "_model_module_version": "1.2.0",
            "_model_name": "LayoutModel",
            "_view_count": null,
            "_view_module": "@jupyter-widgets/base",
            "_view_module_version": "1.2.0",
            "_view_name": "LayoutView",
            "align_content": null,
            "align_items": null,
            "align_self": null,
            "border": null,
            "bottom": null,
            "display": null,
            "flex": null,
            "flex_flow": null,
            "grid_area": null,
            "grid_auto_columns": null,
            "grid_auto_flow": null,
            "grid_auto_rows": null,
            "grid_column": null,
            "grid_gap": null,
            "grid_row": null,
            "grid_template_areas": null,
            "grid_template_columns": null,
            "grid_template_rows": null,
            "height": null,
            "justify_content": null,
            "justify_items": null,
            "left": null,
            "margin": null,
            "max_height": null,
            "max_width": null,
            "min_height": null,
            "min_width": null,
            "object_fit": null,
            "object_position": null,
            "order": null,
            "overflow": null,
            "overflow_x": null,
            "overflow_y": null,
            "padding": null,
            "right": null,
            "top": null,
            "visibility": null,
            "width": null
          }
        },
        "c55c25040d8248c7bf0019691ae412f3": {
          "model_module": "@jupyter-widgets/base",
          "model_name": "LayoutModel",
          "model_module_version": "1.2.0",
          "state": {
            "_model_module": "@jupyter-widgets/base",
            "_model_module_version": "1.2.0",
            "_model_name": "LayoutModel",
            "_view_count": null,
            "_view_module": "@jupyter-widgets/base",
            "_view_module_version": "1.2.0",
            "_view_name": "LayoutView",
            "align_content": null,
            "align_items": null,
            "align_self": null,
            "border": null,
            "bottom": null,
            "display": null,
            "flex": null,
            "flex_flow": null,
            "grid_area": null,
            "grid_auto_columns": null,
            "grid_auto_flow": null,
            "grid_auto_rows": null,
            "grid_column": null,
            "grid_gap": null,
            "grid_row": null,
            "grid_template_areas": null,
            "grid_template_columns": null,
            "grid_template_rows": null,
            "height": null,
            "justify_content": null,
            "justify_items": null,
            "left": null,
            "margin": null,
            "max_height": null,
            "max_width": null,
            "min_height": null,
            "min_width": null,
            "object_fit": null,
            "object_position": null,
            "order": null,
            "overflow": null,
            "overflow_x": null,
            "overflow_y": null,
            "padding": null,
            "right": null,
            "top": null,
            "visibility": null,
            "width": null
          }
        },
        "0781401a4e7240b7ab14571bb8646f97": {
          "model_module": "@jupyter-widgets/controls",
          "model_name": "DescriptionStyleModel",
          "model_module_version": "1.5.0",
          "state": {
            "_model_module": "@jupyter-widgets/controls",
            "_model_module_version": "1.5.0",
            "_model_name": "DescriptionStyleModel",
            "_view_count": null,
            "_view_module": "@jupyter-widgets/base",
            "_view_module_version": "1.2.0",
            "_view_name": "StyleView",
            "description_width": ""
          }
        },
        "07baef2ec23d4f919b92202d6ce34d2a": {
          "model_module": "@jupyter-widgets/base",
          "model_name": "LayoutModel",
          "model_module_version": "1.2.0",
          "state": {
            "_model_module": "@jupyter-widgets/base",
            "_model_module_version": "1.2.0",
            "_model_name": "LayoutModel",
            "_view_count": null,
            "_view_module": "@jupyter-widgets/base",
            "_view_module_version": "1.2.0",
            "_view_name": "LayoutView",
            "align_content": null,
            "align_items": null,
            "align_self": null,
            "border": null,
            "bottom": null,
            "display": null,
            "flex": null,
            "flex_flow": null,
            "grid_area": null,
            "grid_auto_columns": null,
            "grid_auto_flow": null,
            "grid_auto_rows": null,
            "grid_column": null,
            "grid_gap": null,
            "grid_row": null,
            "grid_template_areas": null,
            "grid_template_columns": null,
            "grid_template_rows": null,
            "height": null,
            "justify_content": null,
            "justify_items": null,
            "left": null,
            "margin": null,
            "max_height": null,
            "max_width": null,
            "min_height": null,
            "min_width": null,
            "object_fit": null,
            "object_position": null,
            "order": null,
            "overflow": null,
            "overflow_x": null,
            "overflow_y": null,
            "padding": null,
            "right": null,
            "top": null,
            "visibility": null,
            "width": null
          }
        },
        "03ba616377424c7e916fe51343f05857": {
          "model_module": "@jupyter-widgets/controls",
          "model_name": "ProgressStyleModel",
          "model_module_version": "1.5.0",
          "state": {
            "_model_module": "@jupyter-widgets/controls",
            "_model_module_version": "1.5.0",
            "_model_name": "ProgressStyleModel",
            "_view_count": null,
            "_view_module": "@jupyter-widgets/base",
            "_view_module_version": "1.2.0",
            "_view_name": "StyleView",
            "bar_color": null,
            "description_width": ""
          }
        },
        "f7af78f32b2148c1bbf90af341414a9f": {
          "model_module": "@jupyter-widgets/base",
          "model_name": "LayoutModel",
          "model_module_version": "1.2.0",
          "state": {
            "_model_module": "@jupyter-widgets/base",
            "_model_module_version": "1.2.0",
            "_model_name": "LayoutModel",
            "_view_count": null,
            "_view_module": "@jupyter-widgets/base",
            "_view_module_version": "1.2.0",
            "_view_name": "LayoutView",
            "align_content": null,
            "align_items": null,
            "align_self": null,
            "border": null,
            "bottom": null,
            "display": null,
            "flex": null,
            "flex_flow": null,
            "grid_area": null,
            "grid_auto_columns": null,
            "grid_auto_flow": null,
            "grid_auto_rows": null,
            "grid_column": null,
            "grid_gap": null,
            "grid_row": null,
            "grid_template_areas": null,
            "grid_template_columns": null,
            "grid_template_rows": null,
            "height": null,
            "justify_content": null,
            "justify_items": null,
            "left": null,
            "margin": null,
            "max_height": null,
            "max_width": null,
            "min_height": null,
            "min_width": null,
            "object_fit": null,
            "object_position": null,
            "order": null,
            "overflow": null,
            "overflow_x": null,
            "overflow_y": null,
            "padding": null,
            "right": null,
            "top": null,
            "visibility": null,
            "width": null
          }
        },
        "49afdfd71d3646ef8cb1d6e78b345916": {
          "model_module": "@jupyter-widgets/controls",
          "model_name": "DescriptionStyleModel",
          "model_module_version": "1.5.0",
          "state": {
            "_model_module": "@jupyter-widgets/controls",
            "_model_module_version": "1.5.0",
            "_model_name": "DescriptionStyleModel",
            "_view_count": null,
            "_view_module": "@jupyter-widgets/base",
            "_view_module_version": "1.2.0",
            "_view_name": "StyleView",
            "description_width": ""
          }
        },
        "b3624746a525403ebce35a718c9fec78": {
          "model_module": "@jupyter-widgets/controls",
          "model_name": "HBoxModel",
          "model_module_version": "1.5.0",
          "state": {
            "_dom_classes": [],
            "_model_module": "@jupyter-widgets/controls",
            "_model_module_version": "1.5.0",
            "_model_name": "HBoxModel",
            "_view_count": null,
            "_view_module": "@jupyter-widgets/controls",
            "_view_module_version": "1.5.0",
            "_view_name": "HBoxView",
            "box_style": "",
            "children": [
              "IPY_MODEL_086c024a6e1e4fab9dcdd8cd8ad98a09",
              "IPY_MODEL_f662ac4b43854fbdb673cde8ca7115f1",
              "IPY_MODEL_59e90e1c93654cb08db9a7339d917e6f"
            ],
            "layout": "IPY_MODEL_2462f5e81a7d4fb3ac1ce46b95d334d7"
          }
        },
        "086c024a6e1e4fab9dcdd8cd8ad98a09": {
          "model_module": "@jupyter-widgets/controls",
          "model_name": "HTMLModel",
          "model_module_version": "1.5.0",
          "state": {
            "_dom_classes": [],
            "_model_module": "@jupyter-widgets/controls",
            "_model_module_version": "1.5.0",
            "_model_name": "HTMLModel",
            "_view_count": null,
            "_view_module": "@jupyter-widgets/controls",
            "_view_module_version": "1.5.0",
            "_view_name": "HTMLView",
            "description": "",
            "description_tooltip": null,
            "layout": "IPY_MODEL_39b4c5bd1b744bf6a959a9f8922bdd7e",
            "placeholder": "​",
            "style": "IPY_MODEL_27514c96832f4ae1a5a8ed7cedc7be48",
            "value": "model.safetensors: 100%"
          }
        },
        "f662ac4b43854fbdb673cde8ca7115f1": {
          "model_module": "@jupyter-widgets/controls",
          "model_name": "FloatProgressModel",
          "model_module_version": "1.5.0",
          "state": {
            "_dom_classes": [],
            "_model_module": "@jupyter-widgets/controls",
            "_model_module_version": "1.5.0",
            "_model_name": "FloatProgressModel",
            "_view_count": null,
            "_view_module": "@jupyter-widgets/controls",
            "_view_module_version": "1.5.0",
            "_view_name": "ProgressView",
            "bar_style": "success",
            "description": "",
            "description_tooltip": null,
            "layout": "IPY_MODEL_809ad1cdfb0b446599db03c357d93da8",
            "max": 435755784,
            "min": 0,
            "orientation": "horizontal",
            "style": "IPY_MODEL_a747b6d6a72f4e2e8e5c64b881f1c83f",
            "value": 435755784
          }
        },
        "59e90e1c93654cb08db9a7339d917e6f": {
          "model_module": "@jupyter-widgets/controls",
          "model_name": "HTMLModel",
          "model_module_version": "1.5.0",
          "state": {
            "_dom_classes": [],
            "_model_module": "@jupyter-widgets/controls",
            "_model_module_version": "1.5.0",
            "_model_name": "HTMLModel",
            "_view_count": null,
            "_view_module": "@jupyter-widgets/controls",
            "_view_module_version": "1.5.0",
            "_view_name": "HTMLView",
            "description": "",
            "description_tooltip": null,
            "layout": "IPY_MODEL_1a3cd27cfbed43daa108d2d37055b251",
            "placeholder": "​",
            "style": "IPY_MODEL_33939ce1855e41bfa6f8c1367bc60a5f",
            "value": " 436M/436M [00:04&lt;00:00, 38.8MB/s]"
          }
        },
        "2462f5e81a7d4fb3ac1ce46b95d334d7": {
          "model_module": "@jupyter-widgets/base",
          "model_name": "LayoutModel",
          "model_module_version": "1.2.0",
          "state": {
            "_model_module": "@jupyter-widgets/base",
            "_model_module_version": "1.2.0",
            "_model_name": "LayoutModel",
            "_view_count": null,
            "_view_module": "@jupyter-widgets/base",
            "_view_module_version": "1.2.0",
            "_view_name": "LayoutView",
            "align_content": null,
            "align_items": null,
            "align_self": null,
            "border": null,
            "bottom": null,
            "display": null,
            "flex": null,
            "flex_flow": null,
            "grid_area": null,
            "grid_auto_columns": null,
            "grid_auto_flow": null,
            "grid_auto_rows": null,
            "grid_column": null,
            "grid_gap": null,
            "grid_row": null,
            "grid_template_areas": null,
            "grid_template_columns": null,
            "grid_template_rows": null,
            "height": null,
            "justify_content": null,
            "justify_items": null,
            "left": null,
            "margin": null,
            "max_height": null,
            "max_width": null,
            "min_height": null,
            "min_width": null,
            "object_fit": null,
            "object_position": null,
            "order": null,
            "overflow": null,
            "overflow_x": null,
            "overflow_y": null,
            "padding": null,
            "right": null,
            "top": null,
            "visibility": null,
            "width": null
          }
        },
        "39b4c5bd1b744bf6a959a9f8922bdd7e": {
          "model_module": "@jupyter-widgets/base",
          "model_name": "LayoutModel",
          "model_module_version": "1.2.0",
          "state": {
            "_model_module": "@jupyter-widgets/base",
            "_model_module_version": "1.2.0",
            "_model_name": "LayoutModel",
            "_view_count": null,
            "_view_module": "@jupyter-widgets/base",
            "_view_module_version": "1.2.0",
            "_view_name": "LayoutView",
            "align_content": null,
            "align_items": null,
            "align_self": null,
            "border": null,
            "bottom": null,
            "display": null,
            "flex": null,
            "flex_flow": null,
            "grid_area": null,
            "grid_auto_columns": null,
            "grid_auto_flow": null,
            "grid_auto_rows": null,
            "grid_column": null,
            "grid_gap": null,
            "grid_row": null,
            "grid_template_areas": null,
            "grid_template_columns": null,
            "grid_template_rows": null,
            "height": null,
            "justify_content": null,
            "justify_items": null,
            "left": null,
            "margin": null,
            "max_height": null,
            "max_width": null,
            "min_height": null,
            "min_width": null,
            "object_fit": null,
            "object_position": null,
            "order": null,
            "overflow": null,
            "overflow_x": null,
            "overflow_y": null,
            "padding": null,
            "right": null,
            "top": null,
            "visibility": null,
            "width": null
          }
        },
        "27514c96832f4ae1a5a8ed7cedc7be48": {
          "model_module": "@jupyter-widgets/controls",
          "model_name": "DescriptionStyleModel",
          "model_module_version": "1.5.0",
          "state": {
            "_model_module": "@jupyter-widgets/controls",
            "_model_module_version": "1.5.0",
            "_model_name": "DescriptionStyleModel",
            "_view_count": null,
            "_view_module": "@jupyter-widgets/base",
            "_view_module_version": "1.2.0",
            "_view_name": "StyleView",
            "description_width": ""
          }
        },
        "809ad1cdfb0b446599db03c357d93da8": {
          "model_module": "@jupyter-widgets/base",
          "model_name": "LayoutModel",
          "model_module_version": "1.2.0",
          "state": {
            "_model_module": "@jupyter-widgets/base",
            "_model_module_version": "1.2.0",
            "_model_name": "LayoutModel",
            "_view_count": null,
            "_view_module": "@jupyter-widgets/base",
            "_view_module_version": "1.2.0",
            "_view_name": "LayoutView",
            "align_content": null,
            "align_items": null,
            "align_self": null,
            "border": null,
            "bottom": null,
            "display": null,
            "flex": null,
            "flex_flow": null,
            "grid_area": null,
            "grid_auto_columns": null,
            "grid_auto_flow": null,
            "grid_auto_rows": null,
            "grid_column": null,
            "grid_gap": null,
            "grid_row": null,
            "grid_template_areas": null,
            "grid_template_columns": null,
            "grid_template_rows": null,
            "height": null,
            "justify_content": null,
            "justify_items": null,
            "left": null,
            "margin": null,
            "max_height": null,
            "max_width": null,
            "min_height": null,
            "min_width": null,
            "object_fit": null,
            "object_position": null,
            "order": null,
            "overflow": null,
            "overflow_x": null,
            "overflow_y": null,
            "padding": null,
            "right": null,
            "top": null,
            "visibility": null,
            "width": null
          }
        },
        "a747b6d6a72f4e2e8e5c64b881f1c83f": {
          "model_module": "@jupyter-widgets/controls",
          "model_name": "ProgressStyleModel",
          "model_module_version": "1.5.0",
          "state": {
            "_model_module": "@jupyter-widgets/controls",
            "_model_module_version": "1.5.0",
            "_model_name": "ProgressStyleModel",
            "_view_count": null,
            "_view_module": "@jupyter-widgets/base",
            "_view_module_version": "1.2.0",
            "_view_name": "StyleView",
            "bar_color": null,
            "description_width": ""
          }
        },
        "1a3cd27cfbed43daa108d2d37055b251": {
          "model_module": "@jupyter-widgets/base",
          "model_name": "LayoutModel",
          "model_module_version": "1.2.0",
          "state": {
            "_model_module": "@jupyter-widgets/base",
            "_model_module_version": "1.2.0",
            "_model_name": "LayoutModel",
            "_view_count": null,
            "_view_module": "@jupyter-widgets/base",
            "_view_module_version": "1.2.0",
            "_view_name": "LayoutView",
            "align_content": null,
            "align_items": null,
            "align_self": null,
            "border": null,
            "bottom": null,
            "display": null,
            "flex": null,
            "flex_flow": null,
            "grid_area": null,
            "grid_auto_columns": null,
            "grid_auto_flow": null,
            "grid_auto_rows": null,
            "grid_column": null,
            "grid_gap": null,
            "grid_row": null,
            "grid_template_areas": null,
            "grid_template_columns": null,
            "grid_template_rows": null,
            "height": null,
            "justify_content": null,
            "justify_items": null,
            "left": null,
            "margin": null,
            "max_height": null,
            "max_width": null,
            "min_height": null,
            "min_width": null,
            "object_fit": null,
            "object_position": null,
            "order": null,
            "overflow": null,
            "overflow_x": null,
            "overflow_y": null,
            "padding": null,
            "right": null,
            "top": null,
            "visibility": null,
            "width": null
          }
        },
        "33939ce1855e41bfa6f8c1367bc60a5f": {
          "model_module": "@jupyter-widgets/controls",
          "model_name": "DescriptionStyleModel",
          "model_module_version": "1.5.0",
          "state": {
            "_model_module": "@jupyter-widgets/controls",
            "_model_module_version": "1.5.0",
            "_model_name": "DescriptionStyleModel",
            "_view_count": null,
            "_view_module": "@jupyter-widgets/base",
            "_view_module_version": "1.2.0",
            "_view_name": "StyleView",
            "description_width": ""
          }
        }
      }
    }
  },
  "cells": [
    {
      "cell_type": "markdown",
      "metadata": {
        "id": "_bphECiUa9zw"
      },
      "source": [
        "# Assignment 4: Movie Review Analysis [50 Pt]\n",
        "\n",
        "In this assignment, we will build a recurrent neural network to work with sequential text data, specificially, movie review data to identify the reviewer sentiment. In the process of completing this assignment, you will:\n",
        "    \n",
        "1. Clean and process text data for machine learning.\n",
        "2. Perform tokenization of text data.\n",
        "3. Understand and implement a word-level recurrent neural network.\n",
        "4. Implement batching of text data using a DataLoader before training a recurrent neural network.\n",
        "5. Understand how to apply pretrained models for transfer learning in natural language processing projects.\n",
        "\n",
        "### What to submit\n",
        "\n",
        "Submit an HTML file containing all your code, outputs, and write-up\n",
        "from parts A and B. You can produce a HTML file directly from Google Colab. The Colab instructions are provided at the end of this document.\n",
        "\n",
        "Include a link to your colab file in your submission.\n",
        "\n",
        "Please use Google Colab to complete this assignment. If you want to use Jupyter Notebook, please complete the assignment and upload your Jupyter Notebook file to Google Colab for submission.\n",
        "\n",
        "This year we will be using an autograding script to check your model performance on a hidden test set. To do this, we need you to provide your model definition and your model weights along with your assignment submission.\n",
        "\n",
        "Instructions on the additional files you need to submit are provided below. Please make sure to test your submitted files before submitting them, failure in loading these files may result in a grade of 0 in the results section of the assignment."
      ]
    },
    {
      "cell_type": "markdown",
      "source": [
        "# 📑 **Autograding**\n",
        "\n",
        "This assignment uses an autograding script to **evaluate your model performance on a hidden test set**. You must provide your model definition and model weights along with your assignment submission to ensure compatibility with the autograding system.\n",
        "\n",
        "---\n",
        "\n",
        "## 📁 **Required Files for Submission**\n",
        "\n",
        "You need to submit the following **four files** in addition to the **HTML file** as previously instructed. Make sure to replace `your_name_connected_by_underscore` and `your_student_id` with your actual name and student ID, respectively:\n",
        "\n",
        "1. **RNN Model Definition:** `A4-RNN-your_name_connected_by_underscore-your_student_id.py`\n",
        "2. **RNN Model Weights:** `A4-RNN-your_name_connected_by_underscore-your_student_id.pth`\n",
        "3. **BERT Model Definition:** `A4-BERT-your_name_connected_by_underscore-your_student_id.py`\n",
        "4. **BERT Model Weights:** `A4-BERT-your_name_connected_by_underscore-your_student_id.pth`\n",
        "\n",
        "---\n",
        "\n",
        "## 🧑‍💻 **Model Definition Files (`.py`)**\n",
        "\n",
        "### 📝 **Steps to Complete:**\n",
        "\n",
        "1. **Copy Model Definition Code:** Copy the complete model definition code from your `A4.ipynb` notebook into the provided template files (`.py`).\n",
        "2. **Complete the TODOs:** Make sure all TODOs in the files are properly completed:\n",
        "   - Define your model class (`SentimentRNN` or `SentimentClassifier`).\n",
        "   - Implement the `prepare_model()` function with the exact hyperparameters used during training.\n",
        "   - Ensure preprocessing steps match those in your notebook.\n",
        "   - Set the `EMBEDDINGS_TYPE` parameter appropriately (`'pooled'` or `'last_hidden_state'` for BERT).\n",
        "3. **Command-Line Usability:** Ensure the script accepts a file path as an argument and runs from the command line as described in the file headers.\n",
        "\n",
        "---\n",
        "\n",
        "### 💻 **Example Command-Line Usage**\n",
        "\n",
        "```bash\n",
        "python A4-RNN-your_name_connected_by_underscore-your_student_id.py /path/to/test_dataset.csv\n",
        "```\n",
        "---\n",
        "\n",
        "\n",
        "## 💾 **Model Weights Files (`.pth`)**\n",
        "\n",
        "1. **Save Model Weights:** During training, save your model's best-performing weights using the `torch.save()` method.\n",
        "2. **Naming Convention:** Ensure the `.pth` file names match the `.py` file names exactly, except for the file extension.\n",
        "3. **Example Code for Saving Weights:**\n",
        "\n",
        "```python\n",
        "torch.save(model.state_dict(), 'A4-RNN-your_name_connected_by_underscore-your_student_id.pth')\n",
        "```\n",
        "---\n",
        "\n",
        "## ✅ **Testing Your Submission: Autograder Compatibility**\n",
        "\n",
        "You will be provided with an **\"Example Test IMDB Dataset.csv\"** that you can use to test your autograding file compatibility. Please follow the example command line usage to provide the test data to test the script for each of the two `.py` scripts you are submitting.\n",
        "\n",
        "### 🧪 **How to Test:**\n",
        "\n",
        "1. **Run the Test Notebook:** Open and run the `test_your_submitted_files.ipynb` notebook.\n",
        "2. **Verify Output:** Ensure the notebook can:\n",
        "   - Load your `.py` model definition files.\n",
        "   - Load your `.pth` model weights files.\n",
        "   - Run predictions correctly using the provided **Example Test IMDB Dataset.csv**.\n",
        "3. **Debug as Needed:** If any step fails, debug the issue and retest before submission (You can ask for help on Piazza!).\n",
        "\n",
        "---\n",
        "\n",
        "### 🚦 **Autograder Sentinel Lines**\n",
        "\n",
        "Make sure your scripts output predictions between the sentinel lines **exactly** as shown below:\n",
        "\n",
        "```text\n",
        "===start_output===\n",
        "0\n",
        "1\n",
        "0\n",
        "1\n",
        "...\n",
        "===end_output===\n",
        "```"
      ],
      "metadata": {
        "id": "5s7OtrB7hhhE"
      }
    },
    {
      "cell_type": "markdown",
      "metadata": {
        "id": "rWiUqJJTa9z6"
      },
      "source": [
        "## Colab Link\n",
        "\n",
        "Include a link to your Colab file here. If you would like the TA to look at your Colab file in case your solutions are cut off, **please make sure that your Colab file is publicly accessible at the time of submission.**"
      ]
    },
    {
      "cell_type": "code",
      "source": [
        "# TO BE COMPLETED\n",
        "\n",
        "# http://https://colab.research.google.com/github/Fulankeee/MIE1517-Project-4/blob/main/A4.ipynb#scrollTo=rk7aDAaR2_wz"
      ],
      "metadata": {
        "id": "rk7aDAaR2_wz"
      },
      "outputs": [],
      "execution_count": null
    },
    {
      "cell_type": "markdown",
      "metadata": {
        "id": "fFMdtipUPNdu"
      },
      "source": [
        "# PART A - Sentiment Analysis\n",
        "\n",
        "In this part we will construct a world-level LSTM model for identifying positive and negative reviews. This will be done in a similar way to what was shared in the preparation code for Assignment 4."
      ]
    },
    {
      "cell_type": "code",
      "metadata": {
        "id": "HgfNOUaPa9z8",
        "outputId": "4c0cae26-917d-4f03-d510-a0dc536e6d1c",
        "colab": {
          "base_uri": "https://localhost:8080/"
        }
      },
      "source": [
        "# load standard modules/libraries\n",
        "import pandas as pd\n",
        "import numpy as np\n",
        "import matplotlib.pyplot as plt\n",
        "import seaborn as sns\n",
        "from sklearn.model_selection import train_test_split\n",
        "\n",
        "# load special modules/libraries\n",
        "import os\n",
        "import warnings\n",
        "import nltk\n",
        "from nltk.corpus import stopwords\n",
        "nltk.download('stopwords')\n",
        "\n",
        "from collections import Counter\n",
        "import string\n",
        "import re\n",
        "from tqdm  import tqdm\n",
        "\n",
        "# load pytorch modules/libraries\n",
        "import torch\n",
        "import torch.nn as nn\n",
        "import torch.nn.functional as F\n",
        "import torch.optim as optim\n",
        "from torch.utils.data import TensorDataset,DataLoader\n"
      ],
      "outputs": [
        {
          "output_type": "stream",
          "name": "stderr",
          "text": [
            "[nltk_data] Downloading package stopwords to /root/nltk_data...\n",
            "[nltk_data]   Unzipping corpora/stopwords.zip.\n"
          ]
        }
      ],
      "execution_count": 1
    },
    {
      "cell_type": "markdown",
      "metadata": {
        "id": "M0jLI9LBa90C"
      },
      "source": [
        "## Part 1. Data Cleaning [5 pt]\n",
        "\n",
        "We will be using the \"IMDB Movie Review Dataset\" provided on the course website. Download \"IMDB Dataset.csv\" into your Colab workspace."
      ]
    },
    {
      "cell_type": "markdown",
      "metadata": {
        "id": "sSuF7C_Ga90E"
      },
      "source": [
        "### Part (i) [1pt EXPLORATORY]\n",
        "\n",
        "Open up the file in Python, and examine some examples of positive and negative reviews. Comment on the quality of the data and any challenges you foresee in working with these data. Pick one example of a positive review and one of a negative review to support your comments."
      ]
    },
    {
      "cell_type": "code",
      "metadata": {
        "id": "I_IfXHeTa90F"
      },
      "source": [
        "# download IMDB review data\n",
        "\n",
        "# load dataset\n",
        "df = pd.read_csv(\"IMDB Dataset.csv\")\n",
        "\n",
        "# process into data and labels\n",
        "X = df['review'].values\n",
        "y = df['sentiment'].values\n"
      ],
      "outputs": [],
      "execution_count": null
    },
    {
      "cell_type": "code",
      "source": [
        "# TO BE COMPLETED\n",
        "df.head()"
      ],
      "metadata": {
        "id": "8DEb5pmh07Ka",
        "colab": {
          "base_uri": "https://localhost:8080/",
          "height": 206
        },
        "outputId": "c7e8c4dd-16e2-4116-fd63-e46c48bc89ed"
      },
      "outputs": [
        {
          "output_type": "execute_result",
          "data": {
            "text/plain": [
              "                                              review sentiment\n",
              "0  I really liked this Summerslam due to the look...  positive\n",
              "1  Not many television shows appeal to quite as m...  positive\n",
              "2  The film quickly gets to a major chase scene w...  negative\n",
              "3  Jane Austen would definitely approve of this o...  positive\n",
              "4  Expectations were somewhat high for me when I ...  negative"
            ],
            "text/html": [
              "\n",
              "  <div id=\"df-f5bcaa91-36f8-49b3-88ce-da98fce569f2\" class=\"colab-df-container\">\n",
              "    <div>\n",
              "<style scoped>\n",
              "    .dataframe tbody tr th:only-of-type {\n",
              "        vertical-align: middle;\n",
              "    }\n",
              "\n",
              "    .dataframe tbody tr th {\n",
              "        vertical-align: top;\n",
              "    }\n",
              "\n",
              "    .dataframe thead th {\n",
              "        text-align: right;\n",
              "    }\n",
              "</style>\n",
              "<table border=\"1\" class=\"dataframe\">\n",
              "  <thead>\n",
              "    <tr style=\"text-align: right;\">\n",
              "      <th></th>\n",
              "      <th>review</th>\n",
              "      <th>sentiment</th>\n",
              "    </tr>\n",
              "  </thead>\n",
              "  <tbody>\n",
              "    <tr>\n",
              "      <th>0</th>\n",
              "      <td>I really liked this Summerslam due to the look...</td>\n",
              "      <td>positive</td>\n",
              "    </tr>\n",
              "    <tr>\n",
              "      <th>1</th>\n",
              "      <td>Not many television shows appeal to quite as m...</td>\n",
              "      <td>positive</td>\n",
              "    </tr>\n",
              "    <tr>\n",
              "      <th>2</th>\n",
              "      <td>The film quickly gets to a major chase scene w...</td>\n",
              "      <td>negative</td>\n",
              "    </tr>\n",
              "    <tr>\n",
              "      <th>3</th>\n",
              "      <td>Jane Austen would definitely approve of this o...</td>\n",
              "      <td>positive</td>\n",
              "    </tr>\n",
              "    <tr>\n",
              "      <th>4</th>\n",
              "      <td>Expectations were somewhat high for me when I ...</td>\n",
              "      <td>negative</td>\n",
              "    </tr>\n",
              "  </tbody>\n",
              "</table>\n",
              "</div>\n",
              "    <div class=\"colab-df-buttons\">\n",
              "\n",
              "  <div class=\"colab-df-container\">\n",
              "    <button class=\"colab-df-convert\" onclick=\"convertToInteractive('df-f5bcaa91-36f8-49b3-88ce-da98fce569f2')\"\n",
              "            title=\"Convert this dataframe to an interactive table.\"\n",
              "            style=\"display:none;\">\n",
              "\n",
              "  <svg xmlns=\"http://www.w3.org/2000/svg\" height=\"24px\" viewBox=\"0 -960 960 960\">\n",
              "    <path d=\"M120-120v-720h720v720H120Zm60-500h600v-160H180v160Zm220 220h160v-160H400v160Zm0 220h160v-160H400v160ZM180-400h160v-160H180v160Zm440 0h160v-160H620v160ZM180-180h160v-160H180v160Zm440 0h160v-160H620v160Z\"/>\n",
              "  </svg>\n",
              "    </button>\n",
              "\n",
              "  <style>\n",
              "    .colab-df-container {\n",
              "      display:flex;\n",
              "      gap: 12px;\n",
              "    }\n",
              "\n",
              "    .colab-df-convert {\n",
              "      background-color: #E8F0FE;\n",
              "      border: none;\n",
              "      border-radius: 50%;\n",
              "      cursor: pointer;\n",
              "      display: none;\n",
              "      fill: #1967D2;\n",
              "      height: 32px;\n",
              "      padding: 0 0 0 0;\n",
              "      width: 32px;\n",
              "    }\n",
              "\n",
              "    .colab-df-convert:hover {\n",
              "      background-color: #E2EBFA;\n",
              "      box-shadow: 0px 1px 2px rgba(60, 64, 67, 0.3), 0px 1px 3px 1px rgba(60, 64, 67, 0.15);\n",
              "      fill: #174EA6;\n",
              "    }\n",
              "\n",
              "    .colab-df-buttons div {\n",
              "      margin-bottom: 4px;\n",
              "    }\n",
              "\n",
              "    [theme=dark] .colab-df-convert {\n",
              "      background-color: #3B4455;\n",
              "      fill: #D2E3FC;\n",
              "    }\n",
              "\n",
              "    [theme=dark] .colab-df-convert:hover {\n",
              "      background-color: #434B5C;\n",
              "      box-shadow: 0px 1px 3px 1px rgba(0, 0, 0, 0.15);\n",
              "      filter: drop-shadow(0px 1px 2px rgba(0, 0, 0, 0.3));\n",
              "      fill: #FFFFFF;\n",
              "    }\n",
              "  </style>\n",
              "\n",
              "    <script>\n",
              "      const buttonEl =\n",
              "        document.querySelector('#df-f5bcaa91-36f8-49b3-88ce-da98fce569f2 button.colab-df-convert');\n",
              "      buttonEl.style.display =\n",
              "        google.colab.kernel.accessAllowed ? 'block' : 'none';\n",
              "\n",
              "      async function convertToInteractive(key) {\n",
              "        const element = document.querySelector('#df-f5bcaa91-36f8-49b3-88ce-da98fce569f2');\n",
              "        const dataTable =\n",
              "          await google.colab.kernel.invokeFunction('convertToInteractive',\n",
              "                                                    [key], {});\n",
              "        if (!dataTable) return;\n",
              "\n",
              "        const docLinkHtml = 'Like what you see? Visit the ' +\n",
              "          '<a target=\"_blank\" href=https://colab.research.google.com/notebooks/data_table.ipynb>data table notebook</a>'\n",
              "          + ' to learn more about interactive tables.';\n",
              "        element.innerHTML = '';\n",
              "        dataTable['output_type'] = 'display_data';\n",
              "        await google.colab.output.renderOutput(dataTable, element);\n",
              "        const docLink = document.createElement('div');\n",
              "        docLink.innerHTML = docLinkHtml;\n",
              "        element.appendChild(docLink);\n",
              "      }\n",
              "    </script>\n",
              "  </div>\n",
              "\n",
              "\n",
              "<div id=\"df-9159e206-f885-40f2-ad87-5465e4effd32\">\n",
              "  <button class=\"colab-df-quickchart\" onclick=\"quickchart('df-9159e206-f885-40f2-ad87-5465e4effd32')\"\n",
              "            title=\"Suggest charts\"\n",
              "            style=\"display:none;\">\n",
              "\n",
              "<svg xmlns=\"http://www.w3.org/2000/svg\" height=\"24px\"viewBox=\"0 0 24 24\"\n",
              "     width=\"24px\">\n",
              "    <g>\n",
              "        <path d=\"M19 3H5c-1.1 0-2 .9-2 2v14c0 1.1.9 2 2 2h14c1.1 0 2-.9 2-2V5c0-1.1-.9-2-2-2zM9 17H7v-7h2v7zm4 0h-2V7h2v10zm4 0h-2v-4h2v4z\"/>\n",
              "    </g>\n",
              "</svg>\n",
              "  </button>\n",
              "\n",
              "<style>\n",
              "  .colab-df-quickchart {\n",
              "      --bg-color: #E8F0FE;\n",
              "      --fill-color: #1967D2;\n",
              "      --hover-bg-color: #E2EBFA;\n",
              "      --hover-fill-color: #174EA6;\n",
              "      --disabled-fill-color: #AAA;\n",
              "      --disabled-bg-color: #DDD;\n",
              "  }\n",
              "\n",
              "  [theme=dark] .colab-df-quickchart {\n",
              "      --bg-color: #3B4455;\n",
              "      --fill-color: #D2E3FC;\n",
              "      --hover-bg-color: #434B5C;\n",
              "      --hover-fill-color: #FFFFFF;\n",
              "      --disabled-bg-color: #3B4455;\n",
              "      --disabled-fill-color: #666;\n",
              "  }\n",
              "\n",
              "  .colab-df-quickchart {\n",
              "    background-color: var(--bg-color);\n",
              "    border: none;\n",
              "    border-radius: 50%;\n",
              "    cursor: pointer;\n",
              "    display: none;\n",
              "    fill: var(--fill-color);\n",
              "    height: 32px;\n",
              "    padding: 0;\n",
              "    width: 32px;\n",
              "  }\n",
              "\n",
              "  .colab-df-quickchart:hover {\n",
              "    background-color: var(--hover-bg-color);\n",
              "    box-shadow: 0 1px 2px rgba(60, 64, 67, 0.3), 0 1px 3px 1px rgba(60, 64, 67, 0.15);\n",
              "    fill: var(--button-hover-fill-color);\n",
              "  }\n",
              "\n",
              "  .colab-df-quickchart-complete:disabled,\n",
              "  .colab-df-quickchart-complete:disabled:hover {\n",
              "    background-color: var(--disabled-bg-color);\n",
              "    fill: var(--disabled-fill-color);\n",
              "    box-shadow: none;\n",
              "  }\n",
              "\n",
              "  .colab-df-spinner {\n",
              "    border: 2px solid var(--fill-color);\n",
              "    border-color: transparent;\n",
              "    border-bottom-color: var(--fill-color);\n",
              "    animation:\n",
              "      spin 1s steps(1) infinite;\n",
              "  }\n",
              "\n",
              "  @keyframes spin {\n",
              "    0% {\n",
              "      border-color: transparent;\n",
              "      border-bottom-color: var(--fill-color);\n",
              "      border-left-color: var(--fill-color);\n",
              "    }\n",
              "    20% {\n",
              "      border-color: transparent;\n",
              "      border-left-color: var(--fill-color);\n",
              "      border-top-color: var(--fill-color);\n",
              "    }\n",
              "    30% {\n",
              "      border-color: transparent;\n",
              "      border-left-color: var(--fill-color);\n",
              "      border-top-color: var(--fill-color);\n",
              "      border-right-color: var(--fill-color);\n",
              "    }\n",
              "    40% {\n",
              "      border-color: transparent;\n",
              "      border-right-color: var(--fill-color);\n",
              "      border-top-color: var(--fill-color);\n",
              "    }\n",
              "    60% {\n",
              "      border-color: transparent;\n",
              "      border-right-color: var(--fill-color);\n",
              "    }\n",
              "    80% {\n",
              "      border-color: transparent;\n",
              "      border-right-color: var(--fill-color);\n",
              "      border-bottom-color: var(--fill-color);\n",
              "    }\n",
              "    90% {\n",
              "      border-color: transparent;\n",
              "      border-bottom-color: var(--fill-color);\n",
              "    }\n",
              "  }\n",
              "</style>\n",
              "\n",
              "  <script>\n",
              "    async function quickchart(key) {\n",
              "      const quickchartButtonEl =\n",
              "        document.querySelector('#' + key + ' button');\n",
              "      quickchartButtonEl.disabled = true;  // To prevent multiple clicks.\n",
              "      quickchartButtonEl.classList.add('colab-df-spinner');\n",
              "      try {\n",
              "        const charts = await google.colab.kernel.invokeFunction(\n",
              "            'suggestCharts', [key], {});\n",
              "      } catch (error) {\n",
              "        console.error('Error during call to suggestCharts:', error);\n",
              "      }\n",
              "      quickchartButtonEl.classList.remove('colab-df-spinner');\n",
              "      quickchartButtonEl.classList.add('colab-df-quickchart-complete');\n",
              "    }\n",
              "    (() => {\n",
              "      let quickchartButtonEl =\n",
              "        document.querySelector('#df-9159e206-f885-40f2-ad87-5465e4effd32 button');\n",
              "      quickchartButtonEl.style.display =\n",
              "        google.colab.kernel.accessAllowed ? 'block' : 'none';\n",
              "    })();\n",
              "  </script>\n",
              "</div>\n",
              "\n",
              "    </div>\n",
              "  </div>\n"
            ],
            "application/vnd.google.colaboratory.intrinsic+json": {
              "type": "dataframe",
              "variable_name": "df",
              "summary": "{\n  \"name\": \"df\",\n  \"rows\": 40000,\n  \"fields\": [\n    {\n      \"column\": \"review\",\n      \"properties\": {\n        \"dtype\": \"string\",\n        \"num_unique_values\": 39731,\n        \"samples\": [\n          \"I was on my way out one morning when I was checking something on the T.V. and came across this film. I don't ever remember seeing this or hearing of it. What a fun and interesting one to watch. Well, my meeting was pushed back, because I couldn't get out of this film. It had some real interesting things in it that marked it's time in history, and some fun things that they don't have people do in today's film because it's not pretty. Well, there was a lot of realism in it. The acting was good for a 1954 film. Subtle and genuine actions on the part of the characters that had me watching what they were going to do next. That is why I ended up watching it. I don't know why they don't show it more often. I would rather watch this than some films they play more than necessary. For history buffs, people who like period films, and those that are in the film appreciation groups will like this one. \\\"The Egyptian\\\" has a variety of flavors dealing with a lot of things to look at in human nature that has not changed since it's time. What does that say about us? Those that don't like movies that take their time to unfold and tell a good story....are not into film.<br /><br />I haven't had the time to rent it if it is available, but if I get a chance to see it again, I would probably vote it a 10.\",\n          \"More of a near miss than a flop, MR. IMPERIUM stars Ezio Pinza as Alex, heir apparent to and later king of a small European nation, who falls in love with a willing American actress and entertainer, Fredda Barlo (Lana Turner), but due to machinations by the sly prime minister of Alex as king, nicely played by Cedric Hardwicke, the lovers are separated for 12 years before being reunited in Palm Springs where their love is rekindled. Director Don Hartman, who also scripts, is not able to fully utilize his talent for snappy dialogue because of Pinza's tentative English usage, and the requisite rewriting, coupled with less than total rapport in evidence between the two stars, results in a somewhat raggedy tone to the screenplay, exacerbated by the studio's unkind cutting of many scenes, leading to a confusing ending. The overpowering Pinza dominates his scenes with Turner, but both performers score with good work, while Marjorie Main is impressive with her patter effects as written, with Debbie Reynolds placed on track by Louis B. Mayer for SINGIN' IN THE RAIN as a result of her sprightly performance here; only Barry Sullivan is heavily victimized by the flagrant cutting. Prettily filmed largely in Pebble Beach, California, and other Monterey County environs, the film is endowed with Pinza's iron strong operatic basso in Solamente Una Vez, as well as with original songs by Harold Arlen and Dorothy Fields, with Douglas Shearer splendidly handling the sound recording, and notice must be made of the fine set decorations by Edwin Willis, and the effective costume designs by Walter Plunkett.\",\n          \"One of the best western movies ever made. Unfortunately, it never got the recognition it deserved. The storyline, the action and the music was in my mind, one of the best. I give it a double A+. Randolph Scott gave a terrific performance along with the other members of the cast. The ending was one of the best of any western made.\"\n        ],\n        \"semantic_type\": \"\",\n        \"description\": \"\"\n      }\n    },\n    {\n      \"column\": \"sentiment\",\n      \"properties\": {\n        \"dtype\": \"category\",\n        \"num_unique_values\": 2,\n        \"samples\": [\n          \"negative\",\n          \"positive\"\n        ],\n        \"semantic_type\": \"\",\n        \"description\": \"\"\n      }\n    }\n  ]\n}"
            }
          },
          "metadata": {},
          "execution_count": 3
        }
      ],
      "execution_count": null
    },
    {
      "cell_type": "code",
      "source": [
        "positive_review = df[df['sentiment']=='positive']\n",
        "negative_review = df[df['sentiment']=='negative']"
      ],
      "metadata": {
        "id": "b7Zj25mx4UoR"
      },
      "execution_count": null,
      "outputs": []
    },
    {
      "cell_type": "code",
      "source": [
        "positive_review.iloc[0]['review']"
      ],
      "metadata": {
        "colab": {
          "base_uri": "https://localhost:8080/",
          "height": 105
        },
        "id": "tmh1Oep35JLb",
        "outputId": "f8cf3316-7d4d-494e-c24f-bfcdc5c6c60f"
      },
      "execution_count": null,
      "outputs": [
        {
          "output_type": "execute_result",
          "data": {
            "text/plain": [
              "\"I really liked this Summerslam due to the look of the arena, the curtains and just the look overall was interesting to me for some reason. Anyways, this could have been one of the best Summerslam's ever if the WWF didn't have Lex Luger in the main event against Yokozuna, now for it's time it was ok to have a huge fat man vs a strong man but I'm glad times have changed. It was a terrible main event just like every match Luger is in is terrible. Other matches on the card were Razor Ramon vs Ted Dibiase, Steiner Brothers vs Heavenly Bodies, Shawn Michaels vs Curt Hening, this was the event where Shawn named his big monster of a body guard Diesel, IRS vs 1-2-3 Kid, Bret Hart first takes on Doink then takes on Jerry Lawler and stuff with the Harts and Lawler was always very interesting, then Ludvig Borga destroyed Marty Jannetty, Undertaker took on Giant Gonzalez in another terrible match, The Smoking Gunns and Tatanka took on Bam Bam Bigelow and the Headshrinkers, and Yokozuna defended the world title against Lex Luger this match was boring and it has a terrible ending. However it deserves 8/10\""
            ],
            "application/vnd.google.colaboratory.intrinsic+json": {
              "type": "string"
            }
          },
          "metadata": {},
          "execution_count": 5
        }
      ]
    },
    {
      "cell_type": "code",
      "source": [
        "negative_review.iloc[0]['review']"
      ],
      "metadata": {
        "colab": {
          "base_uri": "https://localhost:8080/",
          "height": 88
        },
        "id": "3erDLibm5NZ7",
        "outputId": "692f2728-9e2b-4221-f880-011ae23c6df8"
      },
      "execution_count": null,
      "outputs": [
        {
          "output_type": "execute_result",
          "data": {
            "text/plain": [
              "\"The film quickly gets to a major chase scene with ever increasing destruction. The first really bad thing is the guy hijacking Steven Seagal would have been beaten to pulp by Seagal's driving, but that probably would have ended the whole premise for the movie.<br /><br />It seems like they decided to make all kinds of changes in the movie plot, so just plan to enjoy the action, and do not expect a coherent plot. Turn any sense of logic you may have, it will reduce your chance of getting a headache.<br /><br />I does give me some hope that Steven Seagal is trying to move back towards the type of characters he portrayed in his more popular movies.\""
            ],
            "application/vnd.google.colaboratory.intrinsic+json": {
              "type": "string"
            }
          },
          "metadata": {},
          "execution_count": 6
        }
      ]
    },
    {
      "cell_type": "code",
      "source": [
        "'''\n",
        "PROVIDE YOUR ANSWER BELOW\n",
        "\n",
        "Positive Review:\n",
        "The positive review is detailed and covers multiple aspects of the event, but it also contains criticisms, such as calling the main event \"terrible.\"\n",
        "This mixed sentiment can be challenging for sentiment analysis models, as they may struggle to classify the review correctly.\n",
        "The review includes subjective phrases and domain-specific references to wrestling, which require contextual understanding.\n",
        "\n",
        "Negative Review:\n",
        "The negative review highlights issues with the movie's plot and logic, but it also includes a small positive remark as well.\n",
        "Since the review lacks an explicit sentiment score, it may require additional processing to quantify its negativity accurately.\n",
        "Handling sarcasm, fixing formatting issues, and addressing mixed sentiment are key challenges in analyzing such data.\n",
        "\n",
        "'''\n"
      ],
      "metadata": {
        "id": "fcIjeLLk0sE2",
        "colab": {
          "base_uri": "https://localhost:8080/",
          "height": 105
        },
        "outputId": "ca303e55-3521-448c-8f78-0b1b1c72465e"
      },
      "outputs": [
        {
          "output_type": "execute_result",
          "data": {
            "text/plain": [
              "'\\nPROVIDE YOUR ANSWER BELOW\\n\\nPositive Review:\\nThe positive review is detailed and covers multiple aspects of the event, but it also contains criticisms, such as calling the main event \"terrible.\"\\nThis mixed sentiment can be challenging for sentiment analysis models, as they may struggle to classify the review correctly.\\nThe review includes subjective phrases and domain-specific references to wrestling, which require contextual understanding.\\n\\nNegative Review:\\nThe negative review highlights issues with the movie\\'s plot and logic, but it also includes a small positive remark as well.\\nSince the review lacks an explicit sentiment score, it may require additional processing to quantify its negativity accurately.\\nHandling sarcasm, fixing formatting issues, and addressing mixed sentiment are key challenges in analyzing such data.\\n\\n'"
            ],
            "application/vnd.google.colaboratory.intrinsic+json": {
              "type": "string"
            }
          },
          "metadata": {},
          "execution_count": 7
        }
      ],
      "execution_count": null
    },
    {
      "cell_type": "markdown",
      "source": [
        "### Part (ii) [1pt EXPLORATORY]\n",
        "\n",
        "Perform summary statistics on the dataset. What is the average character length of a review? What are the lengths of the longest and shortest reviews?\n",
        "\n",
        "How many positive reviews and negative reviews are there. Generate a histogram to compare the average character length for positive and negative reviews. Comment on the differences in positive and negative reviews and how that may affect the model you will be using later."
      ],
      "metadata": {
        "id": "QaDPP2Ei5k8W"
      }
    },
    {
      "cell_type": "code",
      "source": [
        "# TO BE COMPLETED\n",
        "df['review_length'] = df['review'].str.len()\n",
        "average_length = df['review_length'].mean()\n",
        "longest_review = df['review_length'].max()\n",
        "shortest_review = df['review_length'].min()\n",
        "positive_reviews = df[df['sentiment'] == 'positive']\n",
        "negative_reviews = df[df['sentiment'] == 'negative']\n",
        "positive_length = positive_reviews['review_length'].mean()\n",
        "negative_length = negative_reviews['review_length'].mean()\n",
        "num_positive = len(positive_reviews)\n",
        "num_negative = len(negative_reviews)\n",
        "\n",
        "print(f\"Average review length: {average_length:.2f}\")\n",
        "print(f\"Longest review length: {longest_review}\")\n",
        "print(f\"Shortest review length: {shortest_review}\")\n",
        "print(f\"Average length of positive reviews: {positive_length:.2f}\")\n",
        "print(f\"Average length of negative reviews: {negative_length:.2f}\")\n",
        "print(f\"Number of positive reviews: {num_positive}\")\n",
        "print(f\"Number of negative reviews: {num_negative}\")\n",
        "\n",
        "# Histogram\n",
        "plt.figure(figsize=(8, 5))\n",
        "plt.hist(positive_reviews['review_length'], bins=50, alpha=0.5, label=\"Positive Reviews\")\n",
        "plt.hist(negative_reviews['review_length'], bins=50, alpha=0.5, label=\"Negative Reviews\")\n",
        "plt.xlabel(\"Review Length (Characters)\")\n",
        "plt.ylabel(\"Frequency\")\n",
        "plt.title(\"Distribution of Review Lengths\")\n",
        "plt.legend()\n",
        "plt.show()"
      ],
      "metadata": {
        "colab": {
          "base_uri": "https://localhost:8080/",
          "height": 608
        },
        "id": "0Y_7EmD9-Fly",
        "outputId": "aa59e91f-bb44-4377-c3ec-eb49f296c43d"
      },
      "execution_count": null,
      "outputs": [
        {
          "output_type": "stream",
          "name": "stdout",
          "text": [
            "Average review length: 1311.24\n",
            "Longest review length: 13704\n",
            "Shortest review length: 32\n",
            "Average length of positive reviews: 1325.87\n",
            "Average length of negative reviews: 1296.60\n",
            "Number of positive reviews: 20004\n",
            "Number of negative reviews: 19996\n"
          ]
        },
        {
          "output_type": "display_data",
          "data": {
            "text/plain": [
              "<Figure size 800x500 with 1 Axes>"
            ],
            "image/png": "[encoded data removed]"
          },
          "metadata": {}
        }
      ]
    },
    {
      "cell_type": "code",
      "source": [
        "'''\n",
        "PROVIDE YOUR ANSWER BELOW\n",
        "\n",
        "General observations:\n",
        "The histogram shows that the majority of reviews length fall within a relatively short to moderate range, with a right-skewed tail extending to much longer reviews.\n",
        "The average review length is 1,311 characters, indicating that most reviews provide at least a few paragraphs of detail. Nonetheless, there are outliers on the high end, with the longest review being 13,704 characters suggesting some users write extremely detailed reviews.\n",
        "The shortest review in the dataset is just 32 characters, reflecting that some users provide very concise feedback. Such short reviews may lack rich sentiment cues and could pose challenges for text classification models.\n",
        "\n",
        "Observations positive vs negative:\n",
        "Positive reviews tend to be slightly longer on average (1,325.87) compared to negative reviews (1,296.60).\n",
        "While this difference is not large, it suggests that people who are satisfied with a product or experience may provide more detail.\n",
        "Both positive and negative reviews follow a similar distribution shape, indicating that the review length alone may not be a strong distinguishing factor between sentiment categories.\n",
        "When building text classification models, it will be important to address any potential length-based bias by either normalizing input size or leveraging advanced architectures (such as transformers) that can effectively handle variable-length text without overreliance on mere character count.\n",
        "\n",
        "'''\n"
      ],
      "metadata": {
        "id": "gPSFCNYI6F4u",
        "outputId": "75234a2e-ec0b-4c18-92cc-295d0dcc0da8",
        "colab": {
          "base_uri": "https://localhost:8080/",
          "height": 105
        }
      },
      "outputs": [
        {
          "output_type": "execute_result",
          "data": {
            "text/plain": [
              "'\\nPROVIDE YOUR ANSWER BELOW\\n\\nGeneral observations:\\nThe histogram shows that the majority of reviews length fall within a relatively short to moderate range, with a right-skewed tail extending to much longer reviews.\\nThe average review length is 1,311 characters, indicating that most reviews provide at least a few paragraphs of detail. Nonetheless, there are outliers on the high end, with the longest review being 13,704 characters suggesting some users write extremely detailed reviews.\\nThe shortest review in the dataset is just 32 characters, reflecting that some users provide very concise feedback. Such short reviews may lack rich sentiment cues and could pose challenges for text classification models.\\n\\nObservations positive vs negative:\\nPositive reviews tend to be slightly longer on average (1,325.87) compared to negative reviews (1,296.60).\\nWhile this difference is not large, it suggests that people who are satisfied with a product or experience may provide more detail.\\nBoth positive and negative reviews follow a similar distribution shape, indicating that the review length alone may not be a strong distinguishing factor between sentiment categories.\\nWhen building text classification models, it will be important to address any potential length-based bias by either normalizing input size or leveraging advanced architectures (such as transformers) that can effectively handle variable-length text without overreliance on mere character count.\\n\\n'"
            ],
            "application/vnd.google.colaboratory.intrinsic+json": {
              "type": "string"
            }
          },
          "metadata": {},
          "execution_count": 9
        }
      ],
      "execution_count": null
    },
    {
      "cell_type": "markdown",
      "source": [
        "### Part (iii) [1pt EXPLORATORY]\n",
        "\n",
        "The following helper code will be used to process the data before we can train our LSTM model. In point form comment on what processing steps are performed in the code provided below and why these steps are necessary or beneficial to training and LSTM."
      ],
      "metadata": {
        "id": "ShOy3jp2zpRx"
      }
    },
    {
      "cell_type": "code",
      "source": [
        "X[0]"
      ],
      "metadata": {
        "id": "6aamEcrqCqtU",
        "colab": {
          "base_uri": "https://localhost:8080/",
          "height": 105
        },
        "outputId": "185df91a-9923-4b85-aa40-e5a11a09033f"
      },
      "outputs": [
        {
          "output_type": "execute_result",
          "data": {
            "text/plain": [
              "\"I really liked this Summerslam due to the look of the arena, the curtains and just the look overall was interesting to me for some reason. Anyways, this could have been one of the best Summerslam's ever if the WWF didn't have Lex Luger in the main event against Yokozuna, now for it's time it was ok to have a huge fat man vs a strong man but I'm glad times have changed. It was a terrible main event just like every match Luger is in is terrible. Other matches on the card were Razor Ramon vs Ted Dibiase, Steiner Brothers vs Heavenly Bodies, Shawn Michaels vs Curt Hening, this was the event where Shawn named his big monster of a body guard Diesel, IRS vs 1-2-3 Kid, Bret Hart first takes on Doink then takes on Jerry Lawler and stuff with the Harts and Lawler was always very interesting, then Ludvig Borga destroyed Marty Jannetty, Undertaker took on Giant Gonzalez in another terrible match, The Smoking Gunns and Tatanka took on Bam Bam Bigelow and the Headshrinkers, and Yokozuna defended the world title against Lex Luger this match was boring and it has a terrible ending. However it deserves 8/10\""
            ],
            "application/vnd.google.colaboratory.intrinsic+json": {
              "type": "string"
            }
          },
          "metadata": {},
          "execution_count": 10
        }
      ],
      "execution_count": null
    },
    {
      "cell_type": "code",
      "source": [
        "def preprocess_string(str1):\n",
        "    # remove all non-word characters excluding number and letters\n",
        "    str1= re.sub(r\"[^\\w\\s]\",'',str1)\n",
        "    # remove all whitespace with no space\n",
        "    str1= re.sub(r\"\\s\",'',str1)\n",
        "    # replace digits with no space\n",
        "    str1= re.sub(r\"\\d\",'',str1)\n",
        "    return str1\n",
        "\n",
        "def preprocess_sentence(sen1):\n",
        "    word_list=[]\n",
        "    stop_word = set(stopwords.words(\"english\"))\n",
        "    for word in sen1.lower().split():\n",
        "        word = preprocess_string(word)\n",
        "        if word not in stop_word and word!='':\n",
        "            word_list.append(word)\n",
        "    return word_list\n",
        "\n",
        "def get_stoi(data):\n",
        "    word_list=[]\n",
        "    for review in data:\n",
        "        word_list.extend(preprocess_sentence(review))\n",
        "    corpus = Counter(word_list)\n",
        "    print(corpus.get)\n",
        "    # sorting on the basis of most common words\n",
        "    corpus_ =sorted(corpus,key= corpus.get,reverse=True)[:1000]\n",
        "    # creating a dict\n",
        "    stoi =  {ch:i+1 for i,ch in enumerate(corpus_)}\n",
        "    return stoi\n",
        "\n",
        "def tokenize(data, labels, stoi):\n",
        "    # tokenize\n",
        "    data_encoded = []\n",
        "    for review in data:\n",
        "        data_encoded.append([stoi[word] for word in preprocess_sentence(review)\n",
        "                             if word in stoi.keys()])\n",
        "\n",
        "    labels_encoded = [1 if label =='positive' else 0 for label in labels]\n",
        "\n",
        "    return np.array(data_encoded, dtype=object), np.array(labels_encoded)\n",
        "\n",
        "def padding_(sentences, seq_len):\n",
        "    features = np.zeros((len(sentences), seq_len),dtype=int)\n",
        "    for ii, review in enumerate(sentences):\n",
        "        if len(review)!=0:\n",
        "            features[ii, -len(review):] = np.array(review)[:seq_len]\n",
        "\n",
        "    return features"
      ],
      "metadata": {
        "id": "tAjcY6oPz61e"
      },
      "outputs": [],
      "execution_count": null
    },
    {
      "cell_type": "code",
      "source": [
        "'''\n",
        "PROVIDE YOUR ANSWER BELOW\n",
        "\n",
        "The function preprocess_string removes all non-word characters punctuation, digits, and whitespace.\n",
        "This cleaning step ensures only alphanumeric content remains. It helps to reduce noise in the text and standardizes inputs before further processing.\n",
        "\n",
        "In preprocess_sentence, the text is converted to lowercase and then split on whitespace. Lowercasing normalizes words to reduce duplication in the vocabulary.\n",
        "Stopword filtering makes words like “the,” “is,” and “and removed by checking membership in the NLTK stopword set.\n",
        "Eliminating stopwords can reduce the dimensionality of the data and helps the model focus on more meaningful tokens for sentiment analysis.\n",
        "\n",
        "The function get_stoi builds a list of the most frequent words. Assigning each word an integer ID creates a numerical representation needed for model inputs.\n",
        "\n",
        "In tokenize, each review is converted from words to integers using the stoi dictionary. This step is critical because neural networks, including LSTM models, require numerical inputs rather than raw strings.\n",
        "The code also converts textual labels (“positive” or “negative”) into binary numerical labels (1 or 0). This is essential for supervised training, where the model learns to predict these numeric labels.\n",
        "\n",
        "The function padding_ pads or truncates tokenized reviews to a fixed seq_len. Padding with zeros ensures uniform input shapes.\n",
        "This step simplifies batch processing and aligns with the requirements of deep learning frameworks.\n",
        "\n",
        "'''\n"
      ],
      "metadata": {
        "id": "CHDGI2rn12G_",
        "outputId": "a051e30d-4ae5-43ff-c2a1-b4aa46c5a7a3",
        "colab": {
          "base_uri": "https://localhost:8080/",
          "height": 105
        }
      },
      "outputs": [
        {
          "output_type": "execute_result",
          "data": {
            "text/plain": [
              "'\\nPROVIDE YOUR ANSWER BELOW\\n\\nThe function preprocess_string removes all non-word characters punctuation, digits, and whitespace.\\nThis cleaning step ensures only alphanumeric content remains. It helps to reduce noise in the text and standardizes inputs before further processing.\\n\\nIn preprocess_sentence, the text is converted to lowercase and then split on whitespace. Lowercasing normalizes words to reduce duplication in the vocabulary.\\nStopword filtering makes words like “the,” “is,” and “and removed by checking membership in the NLTK stopword set.\\nEliminating stopwords can reduce the dimensionality of the data and helps the model focus on more meaningful tokens for sentiment analysis.\\n\\nThe function get_stoi builds a list of the most frequent words. Assigning each word an integer ID creates a numerical representation needed for model inputs.\\n\\nIn tokenize, each review is converted from words to integers using the stoi dictionary. This step is critical because neural networks, including LSTM models, require numerical inputs rather than raw strings.\\nThe code also converts textual labels (“positive” or “negative”) into binary numerical labels (1 or 0). This is essential for supervised training, where the model learns to predict these numeric labels.\\n\\nThe function padding_ pads or truncates tokenized reviews to a fixed seq_len. Padding with zeros ensures uniform input shapes.\\nThis step simplifies batch processing and aligns with the requirements of deep learning frameworks.\\n\\n'"
            ],
            "application/vnd.google.colaboratory.intrinsic+json": {
              "type": "string"
            }
          },
          "metadata": {},
          "execution_count": 12
        }
      ],
      "execution_count": null
    },
    {
      "cell_type": "markdown",
      "metadata": {
        "id": "ie_D0bv9a90k"
      },
      "source": [
        "### Part (iv) [1pt EXPLORATORY]\n",
        "\n",
        "Split the dataset into `train`, `valid`, and `test`. Use a 60-20-20 split. Then apply the above processing steps to prepare your data for training.\n",
        "\n",
        "Set the padding of the reviews to 500."
      ]
    },
    {
      "cell_type": "code",
      "metadata": {
        "id": "P_Y6Puz9a90l",
        "colab": {
          "base_uri": "https://localhost:8080/"
        },
        "outputId": "32dd2e6b-0dcf-4ca9-981b-731918095875"
      },
      "source": [
        "# TO BE COMPLETED\n",
        "train_df, temp_df = train_test_split(df, test_size=0.4, random_state=123, stratify=df['sentiment'])\n",
        "valid_df, test_df = train_test_split(temp_df, test_size=0.5, random_state=123, stratify=temp_df['sentiment'])\n",
        "\n",
        "# Extract reviews and labels from each split\n",
        "train_reviews = train_df['review'].tolist()\n",
        "train_labels  = train_df['sentiment'].tolist()\n",
        "\n",
        "valid_reviews = valid_df['review'].tolist()\n",
        "valid_labels  = valid_df['sentiment'].tolist()\n",
        "\n",
        "test_reviews  = test_df['review'].tolist()\n",
        "test_labels   = test_df['sentiment'].tolist()\n",
        "\n",
        "# Build Vocabulary from Training Data\n",
        "stoi = get_stoi(train_reviews)\n",
        "\n",
        "train_data_encoded, train_labels_encoded = tokenize(train_reviews, train_labels, stoi)\n",
        "valid_data_encoded, valid_labels_encoded = tokenize(valid_reviews, valid_labels, stoi)\n",
        "test_data_encoded,  test_labels_encoded  = tokenize(test_reviews,  test_labels, stoi)\n",
        "\n",
        "# Pad Sequences to a Length of 500\n",
        "train_features = padding_(train_data_encoded, 500)\n",
        "valid_features = padding_(valid_data_encoded, 500)\n",
        "test_features  = padding_(test_data_encoded, 500)"
      ],
      "outputs": [
        {
          "output_type": "stream",
          "name": "stdout",
          "text": [
            "<built-in method get of Counter object at 0x7e2c69a43590>\n"
          ]
        }
      ],
      "execution_count": null
    },
    {
      "cell_type": "code",
      "source": [
        "train_data_encoded.shape, train_features.shape, train_labels_encoded.shape"
      ],
      "metadata": {
        "id": "6RWB2u_iODtD",
        "outputId": "e6a14719-54b8-4c50-b7e4-00a75deaae91",
        "colab": {
          "base_uri": "https://localhost:8080/"
        }
      },
      "execution_count": null,
      "outputs": [
        {
          "output_type": "execute_result",
          "data": {
            "text/plain": [
              "((24000,), (24000, 500), (24000,))"
            ]
          },
          "metadata": {},
          "execution_count": 14
        }
      ]
    },
    {
      "cell_type": "code",
      "source": [
        "valid_features.shape"
      ],
      "metadata": {
        "id": "slRM97muOaCc",
        "outputId": "ae1e81b8-2edd-46e1-c754-76abf5143246",
        "colab": {
          "base_uri": "https://localhost:8080/"
        }
      },
      "execution_count": null,
      "outputs": [
        {
          "output_type": "execute_result",
          "data": {
            "text/plain": [
              "(8000, 500)"
            ]
          },
          "metadata": {},
          "execution_count": 15
        }
      ]
    },
    {
      "cell_type": "code",
      "source": [
        "test_features.shape"
      ],
      "metadata": {
        "id": "34sPT1CTOguk",
        "outputId": "9fc6b5ec-89e5-4422-8c20-bdca9e41112d",
        "colab": {
          "base_uri": "https://localhost:8080/"
        }
      },
      "execution_count": null,
      "outputs": [
        {
          "output_type": "execute_result",
          "data": {
            "text/plain": [
              "(8000, 500)"
            ]
          },
          "metadata": {},
          "execution_count": 16
        }
      ]
    },
    {
      "cell_type": "markdown",
      "metadata": {
        "id": "Ff5CNk7Qa90y"
      },
      "source": [
        "### Part (v) [1pt EXPLORATORY]\n",
        "\n",
        "Create a DataLoader that will allow you to load the training and validation data in mini-batches. Then generate a dataset of batch size of 16 to verify that the DataLoader works as intended."
      ]
    },
    {
      "cell_type": "code",
      "metadata": {
        "id": "V8N8qLWOa90y"
      },
      "source": [
        "# TO BE COMPLETED\n",
        "import torch\n",
        "from torch.utils.data import Dataset, DataLoader\n",
        "class ReviewDataset(Dataset):\n",
        "  def __init__(self, features, labels):\n",
        "    # Convert features and labels to Torch tensors and Ensuring they are in the correct dtype for embedding/nn usage\n",
        "    self.features = torch.tensor(features, dtype=torch.long)\n",
        "    self.labels = torch.tensor(labels, dtype=torch.long)\n",
        "\n",
        "  def __len__(self):\n",
        "    # Total number of samples\n",
        "    return len(self.features)\n",
        "\n",
        "  def __getitem__(self, idx):\n",
        "    # Return a single sample of data (X, y)\n",
        "    return self.features[idx], self.labels[idx]"
      ],
      "outputs": [],
      "execution_count": null
    },
    {
      "cell_type": "code",
      "source": [
        "# Create Dataset instances for train and validation splits\n",
        "train_dataset = ReviewDataset(train_features, train_labels_encoded)\n",
        "valid_dataset = ReviewDataset(valid_features, valid_labels_encoded)\n",
        "test_dataset = ReviewDataset(test_features, test_labels_encoded)\n",
        "# Create DataLoaders\n",
        "train_loader = DataLoader(train_dataset, batch_size=16, shuffle=True)\n",
        "valid_loader = DataLoader(valid_dataset, batch_size=16, shuffle=False)\n",
        "test_loader = DataLoader(test_dataset, batch_size=16, shuffle=False)\n",
        "\n",
        "# Verify DataLoader by fetching one batch\n",
        "train_batch = next(iter(train_loader))\n",
        "# train_batch is a tuple (features_batch, labels_batch) of size 2\n",
        "features_batch, labels_batch = train_batch\n",
        "\n",
        "print(\"Batch features shape:\", features_batch.shape)\n",
        "print(\"Batch labels shape:\", labels_batch.shape)"
      ],
      "metadata": {
        "id": "wGKiQjP8PG4X",
        "outputId": "24c2e899-e91b-4071-ebe3-a3ba320b6e65",
        "colab": {
          "base_uri": "https://localhost:8080/"
        }
      },
      "execution_count": null,
      "outputs": [
        {
          "output_type": "stream",
          "name": "stdout",
          "text": [
            "Batch features shape: torch.Size([16, 500])\n",
            "Batch labels shape: torch.Size([16])\n"
          ]
        }
      ]
    },
    {
      "cell_type": "markdown",
      "metadata": {
        "id": "y7HnqP6_a904"
      },
      "source": [
        "## Part 2. Model Building [2pt MODEL]\n",
        "\n",
        "Build a recurrent neural network model, using an architecture of your choosing. Use one or more fully-connected layers to make the prediction based on your recurrent network output.\n",
        "\n",
        "An example is provided below in `BaselineSentimentRNN`, which you can use for inspiration. However, you should build your own model.\n",
        "\n",
        "Instead of using the RNN output value for the final token, another often used strategy is to max-pool over the entire output array. That is, instead of calling something like:\n",
        "\n",
        "```\n",
        "out, _ = self.rnn(x)\n",
        "self.fc(out[:, -1, :])\n",
        "```\n",
        "\n",
        "where `self.rnn` is an `nn.RNN`, `nn.GRU`, or `nn.LSTM` module, and `self.fc` is a\n",
        "fully-connected\n",
        "layer, we use:\n",
        "\n",
        "```\n",
        "out, _ = self.rnn(x)\n",
        "self.fc(torch.max(out, dim=1)[0])\n",
        "```\n",
        "\n",
        "This works reasonably in practice. An even better alternative is to concatenate the max-pooling and average-pooling of the RNN outputs:\n",
        "\n",
        "```\n",
        "out, _ = self.rnn(x)\n",
        "out = torch.cat([torch.max(out, dim=1)[0],\n",
        "                 torch.mean(out, dim=1)], dim=1)\n",
        "self.fc(out)\n",
        "```\n",
        "\n",
        "We encourage you to try out all these options. The way you pool the RNN outputs is one of the \"hyperparameters\" that you can choose to tune later on."
      ]
    },
    {
      "cell_type": "code",
      "source": [
        "class BaselineSentimentRNN(nn.Module):\n",
        "    def __init__(self, vocab_size, embedding_dim=4, hidden_dim=4, output_dim=2):\n",
        "        super().__init__()\n",
        "        self.embedding = nn.Embedding(vocab_size, embedding_dim)\n",
        "        self.rnn = nn.RNN(embedding_dim, hidden_dim, batch_first=True)\n",
        "        self.fc = nn.Linear(hidden_dim, output_dim)\n",
        "\n",
        "    def forward(self, x):\n",
        "        embedded = self.embedding(x)\n",
        "        # Vanilla RNN returns: outputs, hidden\n",
        "        outputs, hidden = self.rnn(embedded)\n",
        "        # hidden.shape = (num_layers, batch_size, hidden_dim)\n",
        "        out = self.fc(hidden[-1])  # take the last layer's hidden state\n",
        "        return out"
      ],
      "metadata": {
        "id": "WhlW4QG-38Sb"
      },
      "execution_count": null,
      "outputs": []
    },
    {
      "cell_type": "code",
      "metadata": {
        "id": "4LTQ7zFka909"
      },
      "source": [
        "# # TO BE COMPLETED\n",
        "\n",
        "# class SentimentRNN(nn.Module):\n",
        "#     def __init__(self):\n",
        "#         super(SentimentRNN, self).__init__()\n",
        "\n",
        "#         # TO BE COMPLETED\n",
        "\n",
        "#     def forward(self, x, hidden):\n",
        "\n",
        "#         # TO BE COMPLETED\n",
        "\n",
        "\n",
        "\n",
        "# model = SentimentRNN()\n"
      ],
      "outputs": [],
      "execution_count": null
    },
    {
      "cell_type": "code",
      "source": [
        "# My first model, it's more powerful, but take such a long time to training each time, so I choose to use a simpler version during hyperparameter tuning process\n",
        "class SentimentRNN(nn.Module):\n",
        "    def __init__(self, vocab_size, embedding_dim=128, hidden_dim=256, n_layers=2, output_dim=2, dropout=0.2):\n",
        "        super(SentimentRNN, self).__init__()\n",
        "        self.embedding = nn.Embedding(num_embeddings=vocab_size, embedding_dim=embedding_dim)\n",
        "        self.lstm = nn.LSTM(\n",
        "            input_size=embedding_dim,\n",
        "            hidden_size=hidden_dim,\n",
        "            num_layers=n_layers,\n",
        "            batch_first=True, # input & output tensors are (batch, seq_len, feature)\n",
        "            dropout=dropout if n_layers > 1 else 0) # dropout is only applied between stacked LSTM layers if n_layers > 1\n",
        "        self.fc1 = nn.Linear(hidden_dim, 64)\n",
        "        self.relu = nn.ReLU()\n",
        "        self.dropout = nn.Dropout(dropout)\n",
        "        self.fc2 = nn.Linear(64, output_dim)\n",
        "\n",
        "    def forward(self, x):\n",
        "        embedded = self.embedding(x) # shape: (batch_size, seq_len, embedding_dim)\n",
        "        lstm_out, (h_n, c_n) = self.lstm(embedded) # h_n has shape: (n_layers, batch_size, hidden_dim)\n",
        "        hidden = h_n[-1] # last layer shape: (batch_size, hidden_dim)\n",
        "        out = self.fc1(hidden)\n",
        "        out = self.relu(out)\n",
        "        out = self.dropout(out)\n",
        "        out = self.fc2(out)\n",
        "\n",
        "        return out"
      ],
      "metadata": {
        "id": "9z3PmzzyWHKf"
      },
      "execution_count": null,
      "outputs": []
    },
    {
      "cell_type": "code",
      "source": [
        "# A smaller LSTM-based sentiment analysis model that's faster to train yet still capable of learning effectively to save training time using T4 GPU\n",
        "class SimplifiedSentimentRNN(nn.Module):\n",
        "    def __init__(self, vocab_size, embedding_dim=64, hidden_dim=64, n_layers=1, output_dim=2, dropout=0.2):\n",
        "        super(SimplifiedSentimentRNN, self).__init__()\n",
        "        self.embedding = nn.Embedding(vocab_size, embedding_dim)\n",
        "        self.lstm = nn.LSTM(\n",
        "            input_size=embedding_dim,\n",
        "            hidden_size=hidden_dim,\n",
        "            num_layers=n_layers,\n",
        "            batch_first=True,\n",
        "            dropout=dropout if n_layers > 1 else 0\n",
        "        )\n",
        "        self.dropout = nn.Dropout(dropout)\n",
        "        self.fc = nn.Linear(hidden_dim, output_dim)\n",
        "\n",
        "    def forward(self, x):\n",
        "        embedded = self.embedding(x)\n",
        "        lstm_out, (hidden, _) = self.lstm(embedded)\n",
        "        hidden = hidden[-1]\n",
        "        hidden = self.dropout(hidden)\n",
        "        out = self.fc(hidden)\n",
        "        return out"
      ],
      "metadata": {
        "id": "FmuybP-Cyvaf"
      },
      "execution_count": null,
      "outputs": []
    },
    {
      "cell_type": "markdown",
      "metadata": {
        "id": "vKIYPl_Ba90_"
      },
      "source": [
        "## Part 3. Training [3 pt]\n",
        "\n",
        "### Part (i) [1pt MODEL]\n",
        "\n",
        "Complete the `get_accuracy` function, which will compute the\n",
        "accuracy (rate) of your model across a dataset (e.g. validation set)."
      ]
    },
    {
      "cell_type": "code",
      "metadata": {
        "id": "pvNfhGD6a91A"
      },
      "source": [
        "def get_accuracy(model, data, criterion, device):\n",
        "    \"\"\" Compute the accuracy of the `model` across a dataset `data`\n",
        "\n",
        "    Example usage:\n",
        "\n",
        "    >>> model = MyRNN() # to be defined\n",
        "    >>> get_accuracy(model, valid_loader) # the variable `valid_loader` is from above\n",
        "    \"\"\"\n",
        "\n",
        "    # TO BE COMPLETED\n",
        "    model.eval()  # Set model to evaluation mode\n",
        "    total_loss = 0.0\n",
        "    total_err = 0.0\n",
        "    total_samples = 0\n",
        "    correct_predictions = 0\n",
        "\n",
        "    with torch.no_grad():\n",
        "        for inputs, labels in data:\n",
        "          inputs, labels = inputs.to(device), labels.to(device)\n",
        "          outputs = model(inputs)\n",
        "          loss = criterion(outputs, labels)\n",
        "          total_loss += loss.item()\n",
        "\n",
        "          _, predicted = torch.max(outputs, 1)\n",
        "          total_err += (predicted != labels).sum().item()\n",
        "          correct_predictions += (predicted == labels).sum().item()\n",
        "          total_samples += len(labels)\n",
        "\n",
        "    accuracy = correct_predictions / total_samples  # Compute accuracy\n",
        "    avg_loss = total_loss / len(data)  # Compute average loss\n",
        "\n",
        "    return accuracy, avg_loss"
      ],
      "outputs": [],
      "execution_count": null
    },
    {
      "cell_type": "markdown",
      "metadata": {
        "id": "TlxlcAC1a91C"
      },
      "source": [
        "### Part (ii) [1pt MODEL]\n",
        "\n",
        "Train your model. Plot the training curve of your final model.\n",
        "Your training curve should have the training/validation loss and\n",
        "accuracy plotted periodically."
      ]
    },
    {
      "cell_type": "code",
      "source": [
        "# Verify vocab size\n",
        "max_index = 0\n",
        "for inputs, _ in train_loader:\n",
        "    batch_max = inputs.max().item()\n",
        "    if batch_max > max_index:\n",
        "        max_index = batch_max\n",
        "\n",
        "print(f\"Overall max token index: {max_index}\")"
      ],
      "metadata": {
        "colab": {
          "base_uri": "https://localhost:8080/"
        },
        "id": "5A7Lgs_XMBHf",
        "outputId": "a96bfa83-31cc-41fc-de8b-9ee4479a7c88"
      },
      "execution_count": null,
      "outputs": [
        {
          "output_type": "stream",
          "name": "stdout",
          "text": [
            "Overall max token index: 1000\n"
          ]
        }
      ]
    },
    {
      "cell_type": "code",
      "source": [
        "# BaselineSentimentRNN Training\n",
        "import os\n",
        "os.environ['CUDA_LAUNCH_BLOCKING'] = \"1\" # Debug\n",
        "device = torch.device(\"cuda\" if torch.cuda.is_available() else \"cpu\")\n",
        "print(\"Using device:\", device)\n",
        "model = BaselineSentimentRNN(vocab_size=max_index + 1, embedding_dim=4, hidden_dim=4, output_dim=2)\n",
        "model.to(device)"
      ],
      "metadata": {
        "colab": {
          "base_uri": "https://localhost:8080/"
        },
        "id": "PeFOI1PTMF3h",
        "outputId": "3e38a5cb-c3fe-4383-af9a-073a061f4166"
      },
      "execution_count": null,
      "outputs": [
        {
          "output_type": "stream",
          "name": "stdout",
          "text": [
            "Using device: cuda\n"
          ]
        },
        {
          "output_type": "execute_result",
          "data": {
            "text/plain": [
              "BaselineSentimentRNN(\n",
              "  (embedding): Embedding(1001, 4)\n",
              "  (rnn): RNN(4, 4, batch_first=True)\n",
              "  (fc): Linear(in_features=4, out_features=2, bias=True)\n",
              ")"
            ]
          },
          "metadata": {},
          "execution_count": 26
        }
      ]
    },
    {
      "cell_type": "code",
      "source": [
        "criterion = nn.CrossEntropyLoss()\n",
        "optimizer = optim.Adam(model.parameters(), lr=0.001)\n",
        "num_epochs = 10\n",
        "\n",
        "# Model training\n",
        "train_losses = []\n",
        "train_accuracies = []\n",
        "valid_losses = []\n",
        "valid_accuracies = []\n",
        "\n",
        "for epoch in range(num_epochs):\n",
        "    model.train()\n",
        "    running_loss = 0.0\n",
        "    correct_train = 0\n",
        "    total_train = 0\n",
        "\n",
        "    for inputs, labels in train_loader:\n",
        "        inputs, labels = inputs.to(device), labels.to(device)\n",
        "\n",
        "        optimizer.zero_grad()            # Zero the gradients\n",
        "        outputs = model(inputs)          # Forward pass\n",
        "        loss = criterion(outputs, labels)  # Compute loss\n",
        "        loss.backward()                  # Backward pass\n",
        "        optimizer.step()                 # Update weights\n",
        "\n",
        "        running_loss += loss.item()\n",
        "        _, predicted = torch.max(outputs, 1)\n",
        "        correct_train += (predicted == labels).sum().item()\n",
        "        total_train += labels.size(0)\n",
        "\n",
        "    train_loss = running_loss / len(train_loader)\n",
        "    train_acc = correct_train / total_train\n",
        "\n",
        "    # Evaluate on the validation set\n",
        "    valid_acc, valid_loss = get_accuracy(model, valid_loader, criterion, device)\n",
        "\n",
        "    train_losses.append(train_loss)\n",
        "    train_accuracies.append(train_acc)\n",
        "    valid_losses.append(valid_loss)\n",
        "    valid_accuracies.append(valid_acc)\n",
        "\n",
        "    print(f\"Epoch {epoch+1}/{num_epochs} | Train Loss: {train_loss:.4f} | Train Acc: {train_acc:.4f} | Val Loss: {valid_loss:.4f} | Val Acc: {valid_acc:.4f}\")\n",
        "\n",
        "# Plot training curves\n",
        "plt.figure(figsize=(12, 5))\n",
        "\n",
        "# Loss Plot\n",
        "plt.subplot(1, 2, 1)\n",
        "plt.plot(train_losses, label=\"Train Loss\")\n",
        "plt.plot(valid_losses, label=\"Validation Loss\")\n",
        "plt.xlabel(\"Epoch\")\n",
        "plt.ylabel(\"Loss\")\n",
        "plt.title(\"Loss over Epochs\")\n",
        "plt.legend()\n",
        "\n",
        "# Accuracy Plot\n",
        "plt.subplot(1, 2, 2)\n",
        "plt.plot(train_accuracies, label=\"Train Accuracy\")\n",
        "plt.plot(valid_accuracies, label=\"Validation Accuracy\")\n",
        "plt.xlabel(\"Epoch\")\n",
        "plt.ylabel(\"Accuracy\")\n",
        "plt.title(\"Accuracy over Epochs\")\n",
        "plt.legend()\n",
        "\n",
        "plt.tight_layout()\n",
        "plt.show()"
      ],
      "metadata": {
        "colab": {
          "base_uri": "https://localhost:8080/",
          "height": 690
        },
        "id": "Ijx8YC-yGqaY",
        "outputId": "ccd379d8-e77c-4c95-fea5-99ec15381e07"
      },
      "execution_count": null,
      "outputs": [
        {
          "output_type": "stream",
          "name": "stdout",
          "text": [
            "Epoch 1/10 | Train Loss: 0.6919 | Train Acc: 0.5397 | Val Loss: 0.6867 | Val Acc: 0.5481\n",
            "Epoch 2/10 | Train Loss: 0.6688 | Train Acc: 0.5864 | Val Loss: 0.6635 | Val Acc: 0.6031\n",
            "Epoch 3/10 | Train Loss: 0.6094 | Train Acc: 0.6734 | Val Loss: 0.5921 | Val Acc: 0.6954\n",
            "Epoch 4/10 | Train Loss: 0.5656 | Train Acc: 0.7196 | Val Loss: 0.5750 | Val Acc: 0.7156\n",
            "Epoch 5/10 | Train Loss: 0.5541 | Train Acc: 0.7308 | Val Loss: 0.5733 | Val Acc: 0.7153\n",
            "Epoch 6/10 | Train Loss: 0.5335 | Train Acc: 0.7473 | Val Loss: 0.5529 | Val Acc: 0.7346\n",
            "Epoch 7/10 | Train Loss: 0.5202 | Train Acc: 0.7584 | Val Loss: 0.5375 | Val Acc: 0.7481\n",
            "Epoch 8/10 | Train Loss: 0.5171 | Train Acc: 0.7615 | Val Loss: 0.5320 | Val Acc: 0.7491\n",
            "Epoch 9/10 | Train Loss: 0.4940 | Train Acc: 0.7765 | Val Loss: 0.5193 | Val Acc: 0.7600\n",
            "Epoch 10/10 | Train Loss: 0.5198 | Train Acc: 0.7525 | Val Loss: 0.5120 | Val Acc: 0.7629\n"
          ]
        },
        {
          "output_type": "display_data",
          "data": {
            "text/plain": [
              "<Figure size 1200x500 with 2 Axes>"
            ],
            "image/png": "[encoded data removed]"
          },
          "metadata": {}
        }
      ]
    },
    {
      "cell_type": "code",
      "source": [
        "# SentimentRNN (my model)\n",
        "import os\n",
        "os.environ['CUDA_LAUNCH_BLOCKING'] = \"1\" # debug\n",
        "\n",
        "device = torch.device(\"cuda\" if torch.cuda.is_available() else \"cpu\")\n",
        "print(\"Using device:\", device)\n",
        "model = SentimentRNN(vocab_size=max_index + 1, embedding_dim=4, hidden_dim=4, output_dim=2)\n",
        "model.to(device)"
      ],
      "metadata": {
        "colab": {
          "base_uri": "https://localhost:8080/"
        },
        "id": "Pt5CPJkST8Zz",
        "outputId": "a5e84c84-a4cb-41f0-db83-0c7af57bd1ab"
      },
      "execution_count": null,
      "outputs": [
        {
          "output_type": "stream",
          "name": "stdout",
          "text": [
            "Using device: cuda\n"
          ]
        },
        {
          "output_type": "execute_result",
          "data": {
            "text/plain": [
              "SentimentRNN(\n",
              "  (embedding): Embedding(1001, 4)\n",
              "  (lstm): LSTM(4, 4, num_layers=2, batch_first=True, dropout=0.2)\n",
              "  (fc1): Linear(in_features=4, out_features=64, bias=True)\n",
              "  (relu): ReLU()\n",
              "  (dropout): Dropout(p=0.2, inplace=False)\n",
              "  (fc2): Linear(in_features=64, out_features=2, bias=True)\n",
              ")"
            ]
          },
          "metadata": {},
          "execution_count": 30
        }
      ]
    },
    {
      "cell_type": "code",
      "source": [
        "criterion = nn.CrossEntropyLoss()\n",
        "optimizer = optim.Adam(model.parameters(), lr=0.001)\n",
        "num_epochs = 10\n",
        "\n",
        "# Lists to store training metrics\n",
        "train_losses = []\n",
        "train_accuracies = []\n",
        "valid_losses = []\n",
        "valid_accuracies = []\n",
        "\n",
        "for epoch in range(num_epochs):\n",
        "    model.train()\n",
        "    running_loss = 0.0\n",
        "    correct_train = 0\n",
        "    total_train = 0\n",
        "\n",
        "    for inputs, labels in train_loader:\n",
        "        inputs, labels = inputs.to(device), labels.to(device)\n",
        "\n",
        "        optimizer.zero_grad()            # Zero the gradients\n",
        "        outputs = model(inputs)          # Forward pass\n",
        "        loss = criterion(outputs, labels)  # Compute loss\n",
        "        loss.backward()                  # Backward pass\n",
        "        optimizer.step()                 # Update weights\n",
        "\n",
        "        running_loss += loss.item()\n",
        "        _, predicted = torch.max(outputs, 1)\n",
        "        correct_train += (predicted == labels).sum().item()\n",
        "        total_train += labels.size(0)\n",
        "\n",
        "    train_loss = running_loss / len(train_loader)\n",
        "    train_acc = correct_train / total_train\n",
        "\n",
        "    # Evaluate on the validation set\n",
        "    valid_acc, valid_loss = get_accuracy(model, valid_loader, criterion, device)\n",
        "\n",
        "    train_losses.append(train_loss)\n",
        "    train_accuracies.append(train_acc)\n",
        "    valid_losses.append(valid_loss)\n",
        "    valid_accuracies.append(valid_acc)\n",
        "\n",
        "    print(f\"Epoch {epoch+1}/{num_epochs} | Train Loss: {train_loss:.4f} | Train Acc: {train_acc:.4f} | Val Loss: {valid_loss:.4f} | Val Acc: {valid_acc:.4f}\")\n",
        "\n",
        "# Plot training curves\n",
        "plt.figure(figsize=(12, 5))\n",
        "\n",
        "# Loss Plot\n",
        "plt.subplot(1, 2, 1)\n",
        "plt.plot(train_losses, label=\"Train Loss\")\n",
        "plt.plot(valid_losses, label=\"Validation Loss\")\n",
        "plt.xlabel(\"Epoch\")\n",
        "plt.ylabel(\"Loss\")\n",
        "plt.title(\"Loss over Epochs\")\n",
        "plt.legend()\n",
        "\n",
        "# Accuracy Plot\n",
        "plt.subplot(1, 2, 2)\n",
        "plt.plot(train_accuracies, label=\"Train Accuracy\")\n",
        "plt.plot(valid_accuracies, label=\"Validation Accuracy\")\n",
        "plt.xlabel(\"Epoch\")\n",
        "plt.ylabel(\"Accuracy\")\n",
        "plt.title(\"Accuracy over Epochs\")\n",
        "plt.legend()\n",
        "\n",
        "plt.tight_layout()\n",
        "plt.show()"
      ],
      "metadata": {
        "colab": {
          "base_uri": "https://localhost:8080/",
          "height": 690
        },
        "id": "rE8PXKGsTrYS",
        "outputId": "d7b6fca8-b3ca-4fca-ff91-8e23ecab305b"
      },
      "execution_count": null,
      "outputs": [
        {
          "output_type": "stream",
          "name": "stdout",
          "text": [
            "Epoch 1/10 | Train Loss: 0.6626 | Train Acc: 0.5921 | Val Loss: 0.6221 | Val Acc: 0.6548\n",
            "Epoch 2/10 | Train Loss: 0.5652 | Train Acc: 0.7185 | Val Loss: 0.5237 | Val Acc: 0.7465\n",
            "Epoch 3/10 | Train Loss: 0.4859 | Train Acc: 0.7760 | Val Loss: 0.4661 | Val Acc: 0.7847\n",
            "Epoch 4/10 | Train Loss: 0.4323 | Train Acc: 0.8110 | Val Loss: 0.4328 | Val Acc: 0.8089\n",
            "Epoch 5/10 | Train Loss: 0.3984 | Train Acc: 0.8263 | Val Loss: 0.4042 | Val Acc: 0.8199\n",
            "Epoch 6/10 | Train Loss: 0.3763 | Train Acc: 0.8403 | Val Loss: 0.3851 | Val Acc: 0.8337\n",
            "Epoch 7/10 | Train Loss: 0.3564 | Train Acc: 0.8520 | Val Loss: 0.3799 | Val Acc: 0.8340\n",
            "Epoch 8/10 | Train Loss: 0.3482 | Train Acc: 0.8545 | Val Loss: 0.3782 | Val Acc: 0.8343\n",
            "Epoch 9/10 | Train Loss: 0.3395 | Train Acc: 0.8589 | Val Loss: 0.3713 | Val Acc: 0.8404\n",
            "Epoch 10/10 | Train Loss: 0.3330 | Train Acc: 0.8630 | Val Loss: 0.3614 | Val Acc: 0.8488\n"
          ]
        },
        {
          "output_type": "display_data",
          "data": {
            "text/plain": [
              "<Figure size 1200x500 with 2 Axes>"
            ],
            "image/png": "[encoded data removed]"
          },
          "metadata": {}
        }
      ]
    },
    {
      "cell_type": "markdown",
      "metadata": {
        "id": "fE3eRkDAa91F"
      },
      "source": [
        "### Part (iii) [1pt MODEL]\n",
        "\n",
        "Choose at least 4 hyperparameters to tune. Explain how you tuned the hyperparameters.\n",
        "You don't need to include your training curve for every model you trained.\n",
        "Instead, explain what hyperparemters you tuned, what the best validation accuracy was,\n",
        "and the reasoning behind the hyperparameter decisions you made.\n",
        "\n",
        "For this assignment, you should tune more than just your learning rate and epoch.\n",
        "Choose at least 2 hyperparameters that are unrelated to the optimizer."
      ]
    },
    {
      "cell_type": "markdown",
      "source": [
        "1. Tuning Embedding Dimension (Architecture-related) Tested Values: [32, 128]  \n",
        "The embedding dimension determines how richly each word is represented.  \n",
        "Small embeddings resulted in faster training but lower accuracy due to limited representation of words.  \n",
        "Very large embeddings provided richer features but increased the risk of overfitting and longer training time."
      ],
      "metadata": {
        "id": "RwUhs32kuHPD"
      }
    },
    {
      "cell_type": "code",
      "source": [
        "# TO BE COMPLETED\n",
        "# Model Architecture-related tuning\n",
        "# SimplifiedSentimentRNN (my model with embedding_dim = 32)\n",
        "import os\n",
        "os.environ['CUDA_LAUNCH_BLOCKING'] = \"1\" # debug\n",
        "\n",
        "device = torch.device(\"cuda\" if torch.cuda.is_available() else \"cpu\")\n",
        "print(\"Using device:\", device)\n",
        "model = SimplifiedSentimentRNN(vocab_size=max_index + 1, embedding_dim=32)\n",
        "model.to(device)\n",
        "\n",
        "learning_rate = 0.01\n",
        "num_epochs = 10\n",
        "batch_size = 16\n",
        "criterion = nn.CrossEntropyLoss()\n",
        "optimizer = optim.Adam(model.parameters(), lr=learning_rate)\n",
        "\n",
        "\n",
        "# Lists to store training metrics\n",
        "train_losses = []\n",
        "train_accuracies = []\n",
        "valid_losses = []\n",
        "valid_accuracies = []\n",
        "\n",
        "for epoch in range(num_epochs):\n",
        "    model.train()\n",
        "    running_loss = 0.0\n",
        "    correct_train = 0\n",
        "    total_train = 0\n",
        "\n",
        "    for inputs, labels in train_loader:\n",
        "        inputs, labels = inputs.to(device), labels.to(device)\n",
        "\n",
        "        optimizer.zero_grad()            # Zero the gradients\n",
        "        outputs = model(inputs)          # Forward pass\n",
        "        loss = criterion(outputs, labels)  # Compute loss\n",
        "        loss.backward()                  # Backward pass\n",
        "        optimizer.step()                 # Update weights\n",
        "\n",
        "        running_loss += loss.item()\n",
        "        _, predicted = torch.max(outputs, 1)\n",
        "        correct_train += (predicted == labels).sum().item()\n",
        "        total_train += labels.size(0)\n",
        "\n",
        "    train_loss = running_loss / len(train_loader)\n",
        "    train_acc = correct_train / total_train\n",
        "\n",
        "    # Evaluate on the validation set\n",
        "    valid_acc, valid_loss = get_accuracy(model, valid_loader, criterion, device)\n",
        "\n",
        "    train_losses.append(train_loss)\n",
        "    train_accuracies.append(train_acc)\n",
        "    valid_losses.append(valid_loss)\n",
        "    valid_accuracies.append(valid_acc)\n",
        "\n",
        "    print(f\"Epoch {epoch+1}/{num_epochs} | Train Loss: {train_loss:.4f} | Train Acc: {train_acc:.4f} | Val Loss: {valid_loss:.4f} | Val Acc: {valid_acc:.4f}\")"
      ],
      "metadata": {
        "colab": {
          "base_uri": "https://localhost:8080/"
        },
        "id": "x0kmP6iPuWC6",
        "outputId": "ed221950-e09d-48fc-dc9b-c548ecebfd83"
      },
      "execution_count": null,
      "outputs": [
        {
          "output_type": "stream",
          "name": "stdout",
          "text": [
            "Using device: cuda\n",
            "Epoch 1/10 | Train Loss: 0.4583 | Train Acc: 0.7843 | Val Loss: 0.3976 | Val Acc: 0.8364\n",
            "Epoch 2/10 | Train Loss: 0.3595 | Train Acc: 0.8473 | Val Loss: 0.3865 | Val Acc: 0.8370\n",
            "Epoch 3/10 | Train Loss: 0.3418 | Train Acc: 0.8538 | Val Loss: 0.3837 | Val Acc: 0.8360\n",
            "Epoch 4/10 | Train Loss: 0.3369 | Train Acc: 0.8582 | Val Loss: 0.3719 | Val Acc: 0.8380\n",
            "Epoch 5/10 | Train Loss: 0.3408 | Train Acc: 0.8567 | Val Loss: 0.3943 | Val Acc: 0.8357\n",
            "Epoch 6/10 | Train Loss: 0.3351 | Train Acc: 0.8598 | Val Loss: 0.3956 | Val Acc: 0.8249\n",
            "Epoch 7/10 | Train Loss: 0.3456 | Train Acc: 0.8537 | Val Loss: 0.3938 | Val Acc: 0.8301\n",
            "Epoch 8/10 | Train Loss: 0.3430 | Train Acc: 0.8558 | Val Loss: 0.3913 | Val Acc: 0.8234\n",
            "Epoch 9/10 | Train Loss: 0.3544 | Train Acc: 0.8483 | Val Loss: 0.4129 | Val Acc: 0.8203\n",
            "Epoch 10/10 | Train Loss: 0.3866 | Train Acc: 0.8343 | Val Loss: 0.4342 | Val Acc: 0.8003\n"
          ]
        }
      ]
    },
    {
      "cell_type": "code",
      "source": [
        "# TO BE COMPLETED\n",
        "# Model Architecture-related tuning\n",
        "# SimplifiedSentimentRNN (my model with embedding_dim = 128)\n",
        "import os\n",
        "os.environ['CUDA_LAUNCH_BLOCKING'] = \"1\" # debug\n",
        "\n",
        "device = torch.device(\"cuda\" if torch.cuda.is_available() else \"cpu\")\n",
        "print(\"Using device:\", device)\n",
        "model = SimplifiedSentimentRNN(vocab_size=max_index + 1, embedding_dim=128)\n",
        "model.to(device)\n",
        "\n",
        "learning_rate = 0.01\n",
        "num_epochs = 10\n",
        "batch_size = 16\n",
        "criterion = nn.CrossEntropyLoss()\n",
        "optimizer = optim.Adam(model.parameters(), lr=learning_rate)\n",
        "\n",
        "\n",
        "# Lists to store training metrics\n",
        "train_losses = []\n",
        "train_accuracies = []\n",
        "valid_losses = []\n",
        "valid_accuracies = []\n",
        "\n",
        "for epoch in range(num_epochs):\n",
        "    model.train()\n",
        "    running_loss = 0.0\n",
        "    correct_train = 0\n",
        "    total_train = 0\n",
        "\n",
        "    for inputs, labels in train_loader:\n",
        "        inputs, labels = inputs.to(device), labels.to(device)\n",
        "\n",
        "        optimizer.zero_grad()            # Zero the gradients\n",
        "        outputs = model(inputs)          # Forward pass\n",
        "        loss = criterion(outputs, labels)  # Compute loss\n",
        "        loss.backward()                  # Backward pass\n",
        "        optimizer.step()                 # Update weights\n",
        "\n",
        "        running_loss += loss.item()\n",
        "        _, predicted = torch.max(outputs, 1)\n",
        "        correct_train += (predicted == labels).sum().item()\n",
        "        total_train += labels.size(0)\n",
        "\n",
        "    train_loss = running_loss / len(train_loader)\n",
        "    train_acc = correct_train / total_train\n",
        "\n",
        "    # Evaluate on the validation set\n",
        "    valid_acc, valid_loss = get_accuracy(model, valid_loader, criterion, device)\n",
        "\n",
        "    train_losses.append(train_loss)\n",
        "    train_accuracies.append(train_acc)\n",
        "    valid_losses.append(valid_loss)\n",
        "    valid_accuracies.append(valid_acc)\n",
        "\n",
        "    print(f\"Epoch {epoch+1}/{num_epochs} | Train Loss: {train_loss:.4f} | Train Acc: {train_acc:.4f} | Val Loss: {valid_loss:.4f} | Val Acc: {valid_acc:.4f}\")"
      ],
      "metadata": {
        "colab": {
          "base_uri": "https://localhost:8080/"
        },
        "id": "zPhu8YSuu7m9",
        "outputId": "94af40c3-40d7-43a2-aa69-a8e518b99239"
      },
      "execution_count": null,
      "outputs": [
        {
          "output_type": "stream",
          "name": "stdout",
          "text": [
            "Using device: cuda\n",
            "Epoch 1/10 | Train Loss: 0.5017 | Train Acc: 0.7649 | Val Loss: 0.4677 | Val Acc: 0.7889\n",
            "Epoch 2/10 | Train Loss: 0.4435 | Train Acc: 0.8035 | Val Loss: 0.4500 | Val Acc: 0.7981\n",
            "Epoch 3/10 | Train Loss: 0.4493 | Train Acc: 0.7996 | Val Loss: 0.5018 | Val Acc: 0.7578\n",
            "Epoch 4/10 | Train Loss: 0.4515 | Train Acc: 0.7975 | Val Loss: 0.5101 | Val Acc: 0.7520\n",
            "Epoch 5/10 | Train Loss: 0.4611 | Train Acc: 0.7927 | Val Loss: 0.4703 | Val Acc: 0.7774\n",
            "Epoch 6/10 | Train Loss: 0.4445 | Train Acc: 0.8039 | Val Loss: 0.4766 | Val Acc: 0.7943\n",
            "Epoch 7/10 | Train Loss: 0.4383 | Train Acc: 0.8063 | Val Loss: 0.4696 | Val Acc: 0.7880\n",
            "Epoch 8/10 | Train Loss: 0.4524 | Train Acc: 0.7944 | Val Loss: 0.4842 | Val Acc: 0.7700\n",
            "Epoch 9/10 | Train Loss: 0.4510 | Train Acc: 0.7956 | Val Loss: 0.4604 | Val Acc: 0.7869\n",
            "Epoch 10/10 | Train Loss: 0.4707 | Train Acc: 0.7794 | Val Loss: 0.4786 | Val Acc: 0.7726\n"
          ]
        }
      ]
    },
    {
      "cell_type": "markdown",
      "source": [
        "By tuning, I choose to use embedding_dim=32 with a higher validation accuarcy and better loss distribution\n",
        "\n"
      ],
      "metadata": {
        "id": "AmXsChsp0YfJ"
      }
    },
    {
      "cell_type": "markdown",
      "source": [
        "2. Tuning hidden dimension (Architecture-related) Values: [64, 128]  \n",
        "The hidden dimension size controls the model’s ability to capture complex sequential patterns.  \n",
        "A smaller hidden dimension led to underfitting, limiting the model's capability.    \n",
        "A very large hidden dimension caused overfitting and slow training without significant accuracy improvement.  "
      ],
      "metadata": {
        "id": "FcRwigqpw2aW"
      }
    },
    {
      "cell_type": "code",
      "source": [
        "# TO BE COMPLETED\n",
        "# Model Architecture-related tuning\n",
        "# SimplifiedSentimentRNN (my model with embedding_dim = 23, hidden_dim = 64)\n",
        "import os\n",
        "os.environ['CUDA_LAUNCH_BLOCKING'] = \"1\" # debug\n",
        "\n",
        "device = torch.device(\"cuda\" if torch.cuda.is_available() else \"cpu\")\n",
        "print(\"Using device:\", device)\n",
        "model = SimplifiedSentimentRNN(vocab_size=max_index + 1, embedding_dim=32, hidden_dim = 64)\n",
        "model.to(device)\n",
        "\n",
        "learning_rate = 0.01\n",
        "num_epochs = 10\n",
        "batch_size = 16\n",
        "criterion = nn.CrossEntropyLoss()\n",
        "optimizer = optim.Adam(model.parameters(), lr=learning_rate)\n",
        "\n",
        "\n",
        "# Lists to store training metrics\n",
        "train_losses = []\n",
        "train_accuracies = []\n",
        "valid_losses = []\n",
        "valid_accuracies = []\n",
        "\n",
        "for epoch in range(num_epochs):\n",
        "    model.train()\n",
        "    running_loss = 0.0\n",
        "    correct_train = 0\n",
        "    total_train = 0\n",
        "\n",
        "    for inputs, labels in train_loader:\n",
        "        inputs, labels = inputs.to(device), labels.to(device)\n",
        "\n",
        "        optimizer.zero_grad()            # Zero the gradients\n",
        "        outputs = model(inputs)          # Forward pass\n",
        "        loss = criterion(outputs, labels)  # Compute loss\n",
        "        loss.backward()                  # Backward pass\n",
        "        optimizer.step()                 # Update weights\n",
        "\n",
        "        running_loss += loss.item()\n",
        "        _, predicted = torch.max(outputs, 1)\n",
        "        correct_train += (predicted == labels).sum().item()\n",
        "        total_train += labels.size(0)\n",
        "\n",
        "    train_loss = running_loss / len(train_loader)\n",
        "    train_acc = correct_train / total_train\n",
        "\n",
        "    # Evaluate on the validation set\n",
        "    valid_acc, valid_loss = get_accuracy(model, valid_loader, criterion, device)\n",
        "\n",
        "    train_losses.append(train_loss)\n",
        "    train_accuracies.append(train_acc)\n",
        "    valid_losses.append(valid_loss)\n",
        "    valid_accuracies.append(valid_acc)\n",
        "\n",
        "    print(f\"Epoch {epoch+1}/{num_epochs} | Train Loss: {train_loss:.4f} | Train Acc: {train_acc:.4f} | Val Loss: {valid_loss:.4f} | Val Acc: {valid_acc:.4f}\")"
      ],
      "metadata": {
        "colab": {
          "base_uri": "https://localhost:8080/"
        },
        "id": "Pxi7YIiTzejH",
        "outputId": "74a94ea6-defc-413e-9435-cbedebe42430"
      },
      "execution_count": null,
      "outputs": [
        {
          "output_type": "stream",
          "name": "stdout",
          "text": [
            "Using device: cuda\n",
            "Epoch 1/10 | Train Loss: 0.4971 | Train Acc: 0.7572 | Val Loss: 0.4322 | Val Acc: 0.8007\n",
            "Epoch 2/10 | Train Loss: 0.3668 | Train Acc: 0.8423 | Val Loss: 0.4039 | Val Acc: 0.8300\n",
            "Epoch 3/10 | Train Loss: 0.3453 | Train Acc: 0.8567 | Val Loss: 0.4010 | Val Acc: 0.8180\n",
            "Epoch 4/10 | Train Loss: 0.3427 | Train Acc: 0.8540 | Val Loss: 0.3743 | Val Acc: 0.8351\n",
            "Epoch 5/10 | Train Loss: 0.3446 | Train Acc: 0.8520 | Val Loss: 0.3752 | Val Acc: 0.8375\n",
            "Epoch 6/10 | Train Loss: 0.3352 | Train Acc: 0.8580 | Val Loss: 0.3980 | Val Acc: 0.8347\n",
            "Epoch 7/10 | Train Loss: 0.3288 | Train Acc: 0.8606 | Val Loss: 0.3973 | Val Acc: 0.8315\n",
            "Epoch 8/10 | Train Loss: 0.3349 | Train Acc: 0.8603 | Val Loss: 0.3972 | Val Acc: 0.8283\n",
            "Epoch 9/10 | Train Loss: 0.3422 | Train Acc: 0.8544 | Val Loss: 0.3935 | Val Acc: 0.8299\n",
            "Epoch 10/10 | Train Loss: 0.3465 | Train Acc: 0.8532 | Val Loss: 0.4023 | Val Acc: 0.8239\n"
          ]
        }
      ]
    },
    {
      "cell_type": "code",
      "source": [
        "# TO BE COMPLETED\n",
        "# Model Architecture-related tuning\n",
        "# SimplifiedSentimentRNN (my model with embedding_dim = 32, hidden_dim = 128)\n",
        "import os\n",
        "os.environ['CUDA_LAUNCH_BLOCKING'] = \"1\" # debug\n",
        "\n",
        "device = torch.device(\"cuda\" if torch.cuda.is_available() else \"cpu\")\n",
        "print(\"Using device:\", device)\n",
        "model = SimplifiedSentimentRNN(vocab_size=max_index + 1, embedding_dim=32, hidden_dim = 128)\n",
        "model.to(device)\n",
        "\n",
        "learning_rate = 0.01\n",
        "num_epochs = 10\n",
        "batch_size = 16\n",
        "criterion = nn.CrossEntropyLoss()\n",
        "optimizer = optim.Adam(model.parameters(), lr=learning_rate)\n",
        "\n",
        "\n",
        "# Lists to store training metrics\n",
        "train_losses = []\n",
        "train_accuracies = []\n",
        "valid_losses = []\n",
        "valid_accuracies = []\n",
        "\n",
        "for epoch in range(num_epochs):\n",
        "    model.train()\n",
        "    running_loss = 0.0\n",
        "    correct_train = 0\n",
        "    total_train = 0\n",
        "\n",
        "    for inputs, labels in train_loader:\n",
        "        inputs, labels = inputs.to(device), labels.to(device)\n",
        "\n",
        "        optimizer.zero_grad()            # Zero the gradients\n",
        "        outputs = model(inputs)          # Forward pass\n",
        "        loss = criterion(outputs, labels)  # Compute loss\n",
        "        loss.backward()                  # Backward pass\n",
        "        optimizer.step()                 # Update weights\n",
        "\n",
        "        running_loss += loss.item()\n",
        "        _, predicted = torch.max(outputs, 1)\n",
        "        correct_train += (predicted == labels).sum().item()\n",
        "        total_train += labels.size(0)\n",
        "\n",
        "    train_loss = running_loss / len(train_loader)\n",
        "    train_acc = correct_train / total_train\n",
        "\n",
        "    # Evaluate on the validation set\n",
        "    valid_acc, valid_loss = get_accuracy(model, valid_loader, criterion, device)\n",
        "\n",
        "    train_losses.append(train_loss)\n",
        "    train_accuracies.append(train_acc)\n",
        "    valid_losses.append(valid_loss)\n",
        "    valid_accuracies.append(valid_acc)\n",
        "\n",
        "    print(f\"Epoch {epoch+1}/{num_epochs} | Train Loss: {train_loss:.4f} | Train Acc: {train_acc:.4f} | Val Loss: {valid_loss:.4f} | Val Acc: {valid_acc:.4f}\")"
      ],
      "metadata": {
        "colab": {
          "base_uri": "https://localhost:8080/"
        },
        "id": "5MihTEvOzyFr",
        "outputId": "ffbd8f9d-ea5c-4493-dfcb-1baa7a93667e"
      },
      "execution_count": null,
      "outputs": [
        {
          "output_type": "stream",
          "name": "stdout",
          "text": [
            "Using device: cuda\n",
            "Epoch 1/10 | Train Loss: 0.4598 | Train Acc: 0.7773 | Val Loss: 0.3897 | Val Acc: 0.8280\n",
            "Epoch 2/10 | Train Loss: 0.3613 | Train Acc: 0.8476 | Val Loss: 0.3712 | Val Acc: 0.8417\n",
            "Epoch 3/10 | Train Loss: 0.3409 | Train Acc: 0.8566 | Val Loss: 0.3770 | Val Acc: 0.8324\n",
            "Epoch 4/10 | Train Loss: 0.3333 | Train Acc: 0.8588 | Val Loss: 0.3709 | Val Acc: 0.8360\n",
            "Epoch 5/10 | Train Loss: 0.3234 | Train Acc: 0.8636 | Val Loss: 0.4024 | Val Acc: 0.8314\n",
            "Epoch 6/10 | Train Loss: 0.3334 | Train Acc: 0.8618 | Val Loss: 0.3968 | Val Acc: 0.8276\n",
            "Epoch 7/10 | Train Loss: 0.3618 | Train Acc: 0.8443 | Val Loss: 0.3954 | Val Acc: 0.8299\n",
            "Epoch 8/10 | Train Loss: 0.3546 | Train Acc: 0.8470 | Val Loss: 0.4102 | Val Acc: 0.8237\n",
            "Epoch 9/10 | Train Loss: 0.3794 | Train Acc: 0.8408 | Val Loss: 0.4187 | Val Acc: 0.8117\n",
            "Epoch 10/10 | Train Loss: 0.3967 | Train Acc: 0.8255 | Val Loss: 0.4399 | Val Acc: 0.8095\n"
          ]
        }
      ]
    },
    {
      "cell_type": "markdown",
      "source": [
        "By tuning, I choose to use hidden_dim = 64 with a higher validation accuarcy and better loss distribution"
      ],
      "metadata": {
        "id": "0P6AhWMe1qrm"
      }
    },
    {
      "cell_type": "markdown",
      "source": [
        "3. Learning Rate (Optimizer-related) Tested Values: [0.005, 0.001. 0.0005]  \n",
        "The learning rate determines how aggressively the model updates its weights during training.    \n",
        "A high learning rate led to unstable training with fluctuations in validation accuracy.  \n",
        "A low learning rate converged slowly and occasionally got stuck in suboptimal minima.  "
      ],
      "metadata": {
        "id": "zVa4rSx21MCy"
      }
    },
    {
      "cell_type": "code",
      "source": [
        "# TO BE COMPLETED\n",
        "# Model Architecture-related tuning\n",
        "# SimplifiedSentimentRNN (my model with embedding_dim = 32, hidden_dim = 64, lr = 0.05)\n",
        "import os\n",
        "os.environ['CUDA_LAUNCH_BLOCKING'] = \"1\" # debug\n",
        "\n",
        "device = torch.device(\"cuda\" if torch.cuda.is_available() else \"cpu\")\n",
        "print(\"Using device:\", device)\n",
        "model = SimplifiedSentimentRNN(vocab_size=max_index + 1, embedding_dim=32, hidden_dim = 64)\n",
        "model.to(device)\n",
        "\n",
        "learning_rate = 0.005\n",
        "num_epochs = 10\n",
        "batch_size = 16\n",
        "criterion = nn.CrossEntropyLoss()\n",
        "optimizer = optim.Adam(model.parameters(), lr=learning_rate)\n",
        "\n",
        "\n",
        "# Lists to store training metrics\n",
        "train_losses = []\n",
        "train_accuracies = []\n",
        "valid_losses = []\n",
        "valid_accuracies = []\n",
        "\n",
        "for epoch in range(num_epochs):\n",
        "    model.train()\n",
        "    running_loss = 0.0\n",
        "    correct_train = 0\n",
        "    total_train = 0\n",
        "\n",
        "    for inputs, labels in train_loader:\n",
        "        inputs, labels = inputs.to(device), labels.to(device)\n",
        "\n",
        "        optimizer.zero_grad()            # Zero the gradients\n",
        "        outputs = model(inputs)          # Forward pass\n",
        "        loss = criterion(outputs, labels)  # Compute loss\n",
        "        loss.backward()                  # Backward pass\n",
        "        optimizer.step()                 # Update weights\n",
        "\n",
        "        running_loss += loss.item()\n",
        "        _, predicted = torch.max(outputs, 1)\n",
        "        correct_train += (predicted == labels).sum().item()\n",
        "        total_train += labels.size(0)\n",
        "\n",
        "    train_loss = running_loss / len(train_loader)\n",
        "    train_acc = correct_train / total_train\n",
        "\n",
        "    # Evaluate on the validation set\n",
        "    valid_acc, valid_loss = get_accuracy(model, valid_loader, criterion, device)\n",
        "\n",
        "    train_losses.append(train_loss)\n",
        "    train_accuracies.append(train_acc)\n",
        "    valid_losses.append(valid_loss)\n",
        "    valid_accuracies.append(valid_acc)\n",
        "\n",
        "    print(f\"Epoch {epoch+1}/{num_epochs} | Train Loss: {train_loss:.4f} | Train Acc: {train_acc:.4f} | Val Loss: {valid_loss:.4f} | Val Acc: {valid_acc:.4f}\")"
      ],
      "metadata": {
        "colab": {
          "base_uri": "https://localhost:8080/"
        },
        "id": "pXsw4Any1-c8",
        "outputId": "22a41abd-045b-4c5d-ea6d-dc51ad6fb4d2"
      },
      "execution_count": null,
      "outputs": [
        {
          "output_type": "stream",
          "name": "stdout",
          "text": [
            "Using device: cuda\n",
            "Epoch 1/10 | Train Loss: 0.5043 | Train Acc: 0.7500 | Val Loss: 0.3833 | Val Acc: 0.8365\n",
            "Epoch 2/10 | Train Loss: 0.3482 | Train Acc: 0.8536 | Val Loss: 0.3641 | Val Acc: 0.8406\n",
            "Epoch 3/10 | Train Loss: 0.3152 | Train Acc: 0.8688 | Val Loss: 0.3639 | Val Acc: 0.8366\n",
            "Epoch 4/10 | Train Loss: 0.2915 | Train Acc: 0.8786 | Val Loss: 0.3700 | Val Acc: 0.8434\n",
            "Epoch 5/10 | Train Loss: 0.2617 | Train Acc: 0.8931 | Val Loss: 0.3743 | Val Acc: 0.8472\n",
            "Epoch 6/10 | Train Loss: 0.2436 | Train Acc: 0.8996 | Val Loss: 0.3895 | Val Acc: 0.8468\n",
            "Epoch 7/10 | Train Loss: 0.2218 | Train Acc: 0.9099 | Val Loss: 0.3992 | Val Acc: 0.8454\n",
            "Epoch 8/10 | Train Loss: 0.1980 | Train Acc: 0.9219 | Val Loss: 0.4518 | Val Acc: 0.8354\n",
            "Epoch 9/10 | Train Loss: 0.1898 | Train Acc: 0.9250 | Val Loss: 0.4385 | Val Acc: 0.8399\n",
            "Epoch 10/10 | Train Loss: 0.1732 | Train Acc: 0.9308 | Val Loss: 0.4554 | Val Acc: 0.8361\n"
          ]
        }
      ]
    },
    {
      "cell_type": "code",
      "source": [
        "# TO BE COMPLETED\n",
        "# Model Architecture-related tuning\n",
        "# SimplifiedSentimentRNN (my model with embedding_dim = 32, hidden_dim = 64, lr = 0.001)\n",
        "import os\n",
        "os.environ['CUDA_LAUNCH_BLOCKING'] = \"1\" # debug\n",
        "\n",
        "device = torch.device(\"cuda\" if torch.cuda.is_available() else \"cpu\")\n",
        "print(\"Using device:\", device)\n",
        "model = SimplifiedSentimentRNN(vocab_size=max_index + 1, embedding_dim=32, hidden_dim = 64)\n",
        "model.to(device)\n",
        "\n",
        "learning_rate = 0.001\n",
        "num_epochs = 10\n",
        "batch_size = 16\n",
        "criterion = nn.CrossEntropyLoss()\n",
        "optimizer = optim.Adam(model.parameters(), lr=learning_rate)\n",
        "\n",
        "\n",
        "# Lists to store training metrics\n",
        "train_losses = []\n",
        "train_accuracies = []\n",
        "valid_losses = []\n",
        "valid_accuracies = []\n",
        "\n",
        "for epoch in range(num_epochs):\n",
        "    model.train()\n",
        "    running_loss = 0.0\n",
        "    correct_train = 0\n",
        "    total_train = 0\n",
        "\n",
        "    for inputs, labels in train_loader:\n",
        "        inputs, labels = inputs.to(device), labels.to(device)\n",
        "\n",
        "        optimizer.zero_grad()            # Zero the gradients\n",
        "        outputs = model(inputs)          # Forward pass\n",
        "        loss = criterion(outputs, labels)  # Compute loss\n",
        "        loss.backward()                  # Backward pass\n",
        "        optimizer.step()                 # Update weights\n",
        "\n",
        "        running_loss += loss.item()\n",
        "        _, predicted = torch.max(outputs, 1)\n",
        "        correct_train += (predicted == labels).sum().item()\n",
        "        total_train += labels.size(0)\n",
        "\n",
        "    train_loss = running_loss / len(train_loader)\n",
        "    train_acc = correct_train / total_train\n",
        "\n",
        "    # Evaluate on the validation set\n",
        "    valid_acc, valid_loss = get_accuracy(model, valid_loader, criterion, device)\n",
        "\n",
        "    train_losses.append(train_loss)\n",
        "    train_accuracies.append(train_acc)\n",
        "    valid_losses.append(valid_loss)\n",
        "    valid_accuracies.append(valid_acc)\n",
        "\n",
        "    print(f\"Epoch {epoch+1}/{num_epochs} | Train Loss: {train_loss:.4f} | Train Acc: {train_acc:.4f} | Val Loss: {valid_loss:.4f} | Val Acc: {valid_acc:.4f}\")"
      ],
      "metadata": {
        "colab": {
          "base_uri": "https://localhost:8080/"
        },
        "id": "JhggCW1Q2cx_",
        "outputId": "79da5d17-e493-4533-c71d-28e401f73816"
      },
      "execution_count": null,
      "outputs": [
        {
          "output_type": "stream",
          "name": "stdout",
          "text": [
            "Using device: cuda\n",
            "Epoch 1/10 | Train Loss: 0.5464 | Train Acc: 0.7190 | Val Loss: 0.4508 | Val Acc: 0.7970\n",
            "Epoch 2/10 | Train Loss: 0.3908 | Train Acc: 0.8300 | Val Loss: 0.4224 | Val Acc: 0.8084\n",
            "Epoch 3/10 | Train Loss: 0.3414 | Train Acc: 0.8552 | Val Loss: 0.3667 | Val Acc: 0.8397\n",
            "Epoch 4/10 | Train Loss: 0.3164 | Train Acc: 0.8689 | Val Loss: 0.3607 | Val Acc: 0.8441\n",
            "Epoch 5/10 | Train Loss: 0.2979 | Train Acc: 0.8765 | Val Loss: 0.3787 | Val Acc: 0.8448\n",
            "Epoch 6/10 | Train Loss: 0.2856 | Train Acc: 0.8835 | Val Loss: 0.3554 | Val Acc: 0.8495\n",
            "Epoch 7/10 | Train Loss: 0.2645 | Train Acc: 0.8910 | Val Loss: 0.3654 | Val Acc: 0.8439\n",
            "Epoch 8/10 | Train Loss: 0.2489 | Train Acc: 0.8997 | Val Loss: 0.3822 | Val Acc: 0.8474\n",
            "Epoch 9/10 | Train Loss: 0.2357 | Train Acc: 0.9054 | Val Loss: 0.4440 | Val Acc: 0.8414\n",
            "Epoch 10/10 | Train Loss: 0.2138 | Train Acc: 0.9147 | Val Loss: 0.3992 | Val Acc: 0.8390\n"
          ]
        }
      ]
    },
    {
      "cell_type": "code",
      "source": [
        "# TO BE COMPLETED\n",
        "# Model Architecture-related tuning\n",
        "# SimplifiedSentimentRNN (my model with embedding_dim = 32, hidden_dim = 64, lr = 0.0005)\n",
        "import os\n",
        "os.environ['CUDA_LAUNCH_BLOCKING'] = \"1\" # debug\n",
        "\n",
        "device = torch.device(\"cuda\" if torch.cuda.is_available() else \"cpu\")\n",
        "print(\"Using device:\", device)\n",
        "model = SimplifiedSentimentRNN(vocab_size=max_index + 1, embedding_dim=32, hidden_dim = 64)\n",
        "model.to(device)\n",
        "\n",
        "learning_rate = 0.0005\n",
        "num_epochs = 10\n",
        "batch_size = 16\n",
        "criterion = nn.CrossEntropyLoss()\n",
        "optimizer = optim.Adam(model.parameters(), lr=learning_rate)\n",
        "\n",
        "\n",
        "# Lists to store training metrics\n",
        "train_losses = []\n",
        "train_accuracies = []\n",
        "valid_losses = []\n",
        "valid_accuracies = []\n",
        "\n",
        "for epoch in range(num_epochs):\n",
        "    model.train()\n",
        "    running_loss = 0.0\n",
        "    correct_train = 0\n",
        "    total_train = 0\n",
        "\n",
        "    for inputs, labels in train_loader:\n",
        "        inputs, labels = inputs.to(device), labels.to(device)\n",
        "\n",
        "        optimizer.zero_grad()            # Zero the gradients\n",
        "        outputs = model(inputs)          # Forward pass\n",
        "        loss = criterion(outputs, labels)  # Compute loss\n",
        "        loss.backward()                  # Backward pass\n",
        "        optimizer.step()                 # Update weights\n",
        "\n",
        "        running_loss += loss.item()\n",
        "        _, predicted = torch.max(outputs, 1)\n",
        "        correct_train += (predicted == labels).sum().item()\n",
        "        total_train += labels.size(0)\n",
        "\n",
        "    train_loss = running_loss / len(train_loader)\n",
        "    train_acc = correct_train / total_train\n",
        "\n",
        "    # Evaluate on the validation set\n",
        "    valid_acc, valid_loss = get_accuracy(model, valid_loader, criterion, device)\n",
        "\n",
        "    train_losses.append(train_loss)\n",
        "    train_accuracies.append(train_acc)\n",
        "    valid_losses.append(valid_loss)\n",
        "    valid_accuracies.append(valid_acc)\n",
        "\n",
        "    print(f\"Epoch {epoch+1}/{num_epochs} | Train Loss: {train_loss:.4f} | Train Acc: {train_acc:.4f} | Val Loss: {valid_loss:.4f} | Val Acc: {valid_acc:.4f}\")"
      ],
      "metadata": {
        "colab": {
          "base_uri": "https://localhost:8080/"
        },
        "id": "nwvTO-fJ4YgA",
        "outputId": "a7102933-853f-4348-b227-7655e40bfb0f"
      },
      "execution_count": null,
      "outputs": [
        {
          "output_type": "stream",
          "name": "stdout",
          "text": [
            "Using device: cuda\n",
            "Epoch 1/10 | Train Loss: 0.5853 | Train Acc: 0.6776 | Val Loss: 0.4835 | Val Acc: 0.7784\n",
            "Epoch 2/10 | Train Loss: 0.4214 | Train Acc: 0.8137 | Val Loss: 0.3961 | Val Acc: 0.8221\n",
            "Epoch 3/10 | Train Loss: 0.3684 | Train Acc: 0.8427 | Val Loss: 0.3778 | Val Acc: 0.8293\n",
            "Epoch 4/10 | Train Loss: 0.3405 | Train Acc: 0.8575 | Val Loss: 0.4224 | Val Acc: 0.8306\n",
            "Epoch 5/10 | Train Loss: 0.3229 | Train Acc: 0.8650 | Val Loss: 0.3636 | Val Acc: 0.8450\n",
            "Epoch 6/10 | Train Loss: 0.3068 | Train Acc: 0.8736 | Val Loss: 0.3592 | Val Acc: 0.8441\n",
            "Epoch 7/10 | Train Loss: 0.2952 | Train Acc: 0.8783 | Val Loss: 0.3614 | Val Acc: 0.8425\n",
            "Epoch 8/10 | Train Loss: 0.2819 | Train Acc: 0.8854 | Val Loss: 0.3594 | Val Acc: 0.8440\n",
            "Epoch 9/10 | Train Loss: 0.2692 | Train Acc: 0.8912 | Val Loss: 0.3640 | Val Acc: 0.8381\n",
            "Epoch 10/10 | Train Loss: 0.2593 | Train Acc: 0.8960 | Val Loss: 0.3737 | Val Acc: 0.8434\n"
          ]
        }
      ]
    },
    {
      "cell_type": "markdown",
      "source": [
        "By tuning, I choose to use learning_rate = 0.0005 with a higher validation accuarcy and better loss distribution"
      ],
      "metadata": {
        "id": "rXDLuQC25gI-"
      }
    },
    {
      "cell_type": "markdown",
      "source": [
        "4. Tuing epoch; Tested Values: [8, 15, 20]  \n",
        "The number of epochs determines how many times the model goes through the entire training dataset.  \n",
        "A low number of epochs led to underfitting, where the model did not learn the full pattern from the data, resulting in lower validation accuracy.  \n",
        "A high number of epochs caused overfitting, where the model memorized the training data but failed to generalize well to the validation set.  "
      ],
      "metadata": {
        "id": "ZHqc5_sG5sTf"
      }
    },
    {
      "cell_type": "code",
      "source": [
        "# TO BE COMPLETED\n",
        "# Model Architecture-related tuning\n",
        "# SimplifiedSentimentRNN (my model with embedding_dim = 32, hidden_dim = 64, lr = 0.0005, epoch = 15)\n",
        "import os\n",
        "os.environ['CUDA_LAUNCH_BLOCKING'] = \"1\" # debug\n",
        "\n",
        "device = torch.device(\"cuda\" if torch.cuda.is_available() else \"cpu\")\n",
        "print(\"Using device:\", device)\n",
        "model = SimplifiedSentimentRNN(vocab_size=max_index + 1, embedding_dim=32, hidden_dim = 64)\n",
        "model.to(device)\n",
        "\n",
        "learning_rate = 0.0005\n",
        "num_epochs = 15\n",
        "batch_size = 16\n",
        "criterion = nn.CrossEntropyLoss()\n",
        "optimizer = optim.Adam(model.parameters(), lr=learning_rate)\n",
        "\n",
        "\n",
        "# Lists to store training metrics\n",
        "train_losses = []\n",
        "train_accuracies = []\n",
        "valid_losses = []\n",
        "valid_accuracies = []\n",
        "\n",
        "for epoch in range(num_epochs):\n",
        "    model.train()\n",
        "    running_loss = 0.0\n",
        "    correct_train = 0\n",
        "    total_train = 0\n",
        "\n",
        "    for inputs, labels in train_loader:\n",
        "        inputs, labels = inputs.to(device), labels.to(device)\n",
        "\n",
        "        optimizer.zero_grad()            # Zero the gradients\n",
        "        outputs = model(inputs)          # Forward pass\n",
        "        loss = criterion(outputs, labels)  # Compute loss\n",
        "        loss.backward()                  # Backward pass\n",
        "        optimizer.step()                 # Update weights\n",
        "\n",
        "        running_loss += loss.item()\n",
        "        _, predicted = torch.max(outputs, 1)\n",
        "        correct_train += (predicted == labels).sum().item()\n",
        "        total_train += labels.size(0)\n",
        "\n",
        "    train_loss = running_loss / len(train_loader)\n",
        "    train_acc = correct_train / total_train\n",
        "\n",
        "    # Evaluate on the validation set\n",
        "    valid_acc, valid_loss = get_accuracy(model, valid_loader, criterion, device)\n",
        "\n",
        "    train_losses.append(train_loss)\n",
        "    train_accuracies.append(train_acc)\n",
        "    valid_losses.append(valid_loss)\n",
        "    valid_accuracies.append(valid_acc)\n",
        "\n",
        "    print(f\"Epoch {epoch+1}/{num_epochs} | Train Loss: {train_loss:.4f} | Train Acc: {train_acc:.4f} | Val Loss: {valid_loss:.4f} | Val Acc: {valid_acc:.4f}\")"
      ],
      "metadata": {
        "colab": {
          "base_uri": "https://localhost:8080/"
        },
        "id": "TEDBuOkc5lIf",
        "outputId": "170db7f5-129a-4dfc-8b29-5794a43a3a2b"
      },
      "execution_count": null,
      "outputs": [
        {
          "output_type": "stream",
          "name": "stdout",
          "text": [
            "Using device: cuda\n",
            "Epoch 1/15 | Train Loss: 0.5775 | Train Acc: 0.6853 | Val Loss: 0.4763 | Val Acc: 0.7744\n",
            "Epoch 2/15 | Train Loss: 0.4197 | Train Acc: 0.8138 | Val Loss: 0.4396 | Val Acc: 0.8094\n",
            "Epoch 3/15 | Train Loss: 0.3652 | Train Acc: 0.8413 | Val Loss: 0.3879 | Val Acc: 0.8307\n",
            "Epoch 4/15 | Train Loss: 0.3399 | Train Acc: 0.8551 | Val Loss: 0.3899 | Val Acc: 0.8311\n",
            "Epoch 5/15 | Train Loss: 0.3254 | Train Acc: 0.8635 | Val Loss: 0.3721 | Val Acc: 0.8334\n",
            "Epoch 6/15 | Train Loss: 0.3077 | Train Acc: 0.8703 | Val Loss: 0.3607 | Val Acc: 0.8454\n",
            "Epoch 7/15 | Train Loss: 0.2953 | Train Acc: 0.8748 | Val Loss: 0.3673 | Val Acc: 0.8441\n",
            "Epoch 8/15 | Train Loss: 0.2828 | Train Acc: 0.8836 | Val Loss: 0.3663 | Val Acc: 0.8411\n",
            "Epoch 9/15 | Train Loss: 0.2745 | Train Acc: 0.8865 | Val Loss: 0.3619 | Val Acc: 0.8403\n",
            "Epoch 10/15 | Train Loss: 0.2644 | Train Acc: 0.8903 | Val Loss: 0.3798 | Val Acc: 0.8441\n",
            "Epoch 11/15 | Train Loss: 0.2460 | Train Acc: 0.9012 | Val Loss: 0.3999 | Val Acc: 0.8404\n",
            "Epoch 12/15 | Train Loss: 0.2343 | Train Acc: 0.9063 | Val Loss: 0.3816 | Val Acc: 0.8387\n",
            "Epoch 13/15 | Train Loss: 0.2186 | Train Acc: 0.9139 | Val Loss: 0.3939 | Val Acc: 0.8416\n",
            "Epoch 14/15 | Train Loss: 0.2106 | Train Acc: 0.9159 | Val Loss: 0.4223 | Val Acc: 0.8394\n",
            "Epoch 15/15 | Train Loss: 0.1984 | Train Acc: 0.9219 | Val Loss: 0.4282 | Val Acc: 0.8400\n"
          ]
        }
      ]
    },
    {
      "cell_type": "code",
      "source": [
        "# TO BE COMPLETED\n",
        "# Model Architecture-related tuning\n",
        "# SimplifiedSentimentRNN (my model with embedding_dim = 32, hidden_dim = 64, lr = 0.0005, epoch = 8)\n",
        "import os\n",
        "os.environ['CUDA_LAUNCH_BLOCKING'] = \"1\" # debug\n",
        "\n",
        "device = torch.device(\"cuda\" if torch.cuda.is_available() else \"cpu\")\n",
        "print(\"Using device:\", device)\n",
        "model = SimplifiedSentimentRNN(vocab_size=max_index + 1, embedding_dim=32, hidden_dim = 64)\n",
        "model.to(device)\n",
        "\n",
        "learning_rate = 0.0005\n",
        "num_epochs = 8\n",
        "batch_size = 16\n",
        "criterion = nn.CrossEntropyLoss()\n",
        "optimizer = optim.Adam(model.parameters(), lr=learning_rate)\n",
        "\n",
        "\n",
        "# Lists to store training metrics\n",
        "train_losses = []\n",
        "train_accuracies = []\n",
        "valid_losses = []\n",
        "valid_accuracies = []\n",
        "\n",
        "for epoch in range(num_epochs):\n",
        "    model.train()\n",
        "    running_loss = 0.0\n",
        "    correct_train = 0\n",
        "    total_train = 0\n",
        "\n",
        "    for inputs, labels in train_loader:\n",
        "        inputs, labels = inputs.to(device), labels.to(device)\n",
        "\n",
        "        optimizer.zero_grad()            # Zero the gradients\n",
        "        outputs = model(inputs)          # Forward pass\n",
        "        loss = criterion(outputs, labels)  # Compute loss\n",
        "        loss.backward()                  # Backward pass\n",
        "        optimizer.step()                 # Update weights\n",
        "\n",
        "        running_loss += loss.item()\n",
        "        _, predicted = torch.max(outputs, 1)\n",
        "        correct_train += (predicted == labels).sum().item()\n",
        "        total_train += labels.size(0)\n",
        "\n",
        "    train_loss = running_loss / len(train_loader)\n",
        "    train_acc = correct_train / total_train\n",
        "\n",
        "    # Evaluate on the validation set\n",
        "    valid_acc, valid_loss = get_accuracy(model, valid_loader, criterion, device)\n",
        "\n",
        "    train_losses.append(train_loss)\n",
        "    train_accuracies.append(train_acc)\n",
        "    valid_losses.append(valid_loss)\n",
        "    valid_accuracies.append(valid_acc)\n",
        "\n",
        "    print(f\"Epoch {epoch+1}/{num_epochs} | Train Loss: {train_loss:.4f} | Train Acc: {train_acc:.4f} | Val Loss: {valid_loss:.4f} | Val Acc: {valid_acc:.4f}\")"
      ],
      "metadata": {
        "colab": {
          "base_uri": "https://localhost:8080/"
        },
        "id": "y9O_xO9P52Jl",
        "outputId": "c7681850-62ee-4e86-8628-71e18e2542bf"
      },
      "execution_count": null,
      "outputs": [
        {
          "output_type": "stream",
          "name": "stdout",
          "text": [
            "Using device: cuda\n",
            "Epoch 1/8 | Train Loss: 0.5935 | Train Acc: 0.6708 | Val Loss: 0.4839 | Val Acc: 0.7711\n",
            "Epoch 2/8 | Train Loss: 0.4247 | Train Acc: 0.8057 | Val Loss: 0.4012 | Val Acc: 0.8231\n",
            "Epoch 3/8 | Train Loss: 0.3659 | Train Acc: 0.8419 | Val Loss: 0.3800 | Val Acc: 0.8324\n",
            "Epoch 4/8 | Train Loss: 0.3478 | Train Acc: 0.8561 | Val Loss: 0.3681 | Val Acc: 0.8405\n",
            "Epoch 5/8 | Train Loss: 0.3209 | Train Acc: 0.8665 | Val Loss: 0.3802 | Val Acc: 0.8380\n",
            "Epoch 6/8 | Train Loss: 0.3092 | Train Acc: 0.8735 | Val Loss: 0.3687 | Val Acc: 0.8371\n",
            "Epoch 7/8 | Train Loss: 0.2997 | Train Acc: 0.8780 | Val Loss: 0.3701 | Val Acc: 0.8360\n",
            "Epoch 8/8 | Train Loss: 0.2824 | Train Acc: 0.8849 | Val Loss: 0.3692 | Val Acc: 0.8471\n"
          ]
        }
      ]
    },
    {
      "cell_type": "code",
      "source": [
        "# TO BE COMPLETED\n",
        "# Model Architecture-related tuning\n",
        "# SimplifiedSentimentRNN (my model with embedding_dim = 32, hidden_dim = 64, lr = 0.0005, epoch = 20)\n",
        "import os\n",
        "os.environ['CUDA_LAUNCH_BLOCKING'] = \"1\" # debug\n",
        "\n",
        "device = torch.device(\"cuda\" if torch.cuda.is_available() else \"cpu\")\n",
        "print(\"Using device:\", device)\n",
        "model = SimplifiedSentimentRNN(vocab_size=max_index + 1, embedding_dim=32, hidden_dim = 64)\n",
        "model.to(device)\n",
        "\n",
        "learning_rate = 0.0005\n",
        "num_epochs = 20\n",
        "batch_size = 16\n",
        "criterion = nn.CrossEntropyLoss()\n",
        "optimizer = optim.Adam(model.parameters(), lr=learning_rate)\n",
        "\n",
        "\n",
        "# Lists to store training metrics\n",
        "train_losses = []\n",
        "train_accuracies = []\n",
        "valid_losses = []\n",
        "valid_accuracies = []\n",
        "\n",
        "for epoch in range(num_epochs):\n",
        "    model.train()\n",
        "    running_loss = 0.0\n",
        "    correct_train = 0\n",
        "    total_train = 0\n",
        "\n",
        "    for inputs, labels in train_loader:\n",
        "        inputs, labels = inputs.to(device), labels.to(device)\n",
        "\n",
        "        optimizer.zero_grad()            # Zero the gradients\n",
        "        outputs = model(inputs)          # Forward pass\n",
        "        loss = criterion(outputs, labels)  # Compute loss\n",
        "        loss.backward()                  # Backward pass\n",
        "        optimizer.step()                 # Update weights\n",
        "\n",
        "        running_loss += loss.item()\n",
        "        _, predicted = torch.max(outputs, 1)\n",
        "        correct_train += (predicted == labels).sum().item()\n",
        "        total_train += labels.size(0)\n",
        "\n",
        "    train_loss = running_loss / len(train_loader)\n",
        "    train_acc = correct_train / total_train\n",
        "\n",
        "    # Evaluate on the validation set\n",
        "    valid_acc, valid_loss = get_accuracy(model, valid_loader, criterion, device)\n",
        "\n",
        "    train_losses.append(train_loss)\n",
        "    train_accuracies.append(train_acc)\n",
        "    valid_losses.append(valid_loss)\n",
        "    valid_accuracies.append(valid_acc)\n",
        "\n",
        "    print(f\"Epoch {epoch+1}/{num_epochs} | Train Loss: {train_loss:.4f} | Train Acc: {train_acc:.4f} | Val Loss: {valid_loss:.4f} | Val Acc: {valid_acc:.4f}\")"
      ],
      "metadata": {
        "colab": {
          "base_uri": "https://localhost:8080/"
        },
        "id": "WlVYeTUq79vr",
        "outputId": "7c7cc640-3e8a-4173-9eea-71e0c2fbfd7d"
      },
      "execution_count": null,
      "outputs": [
        {
          "output_type": "stream",
          "name": "stdout",
          "text": [
            "Using device: cuda\n",
            "Epoch 1/20 | Train Loss: 0.5735 | Train Acc: 0.6884 | Val Loss: 0.4736 | Val Acc: 0.7755\n",
            "Epoch 2/20 | Train Loss: 0.4104 | Train Acc: 0.8193 | Val Loss: 0.3971 | Val Acc: 0.8256\n",
            "Epoch 3/20 | Train Loss: 0.3623 | Train Acc: 0.8447 | Val Loss: 0.3786 | Val Acc: 0.8313\n",
            "Epoch 4/20 | Train Loss: 0.3398 | Train Acc: 0.8583 | Val Loss: 0.3919 | Val Acc: 0.8319\n",
            "Epoch 5/20 | Train Loss: 0.3216 | Train Acc: 0.8648 | Val Loss: 0.3690 | Val Acc: 0.8450\n",
            "Epoch 6/20 | Train Loss: 0.3025 | Train Acc: 0.8769 | Val Loss: 0.4013 | Val Acc: 0.8360\n",
            "Epoch 7/20 | Train Loss: 0.2912 | Train Acc: 0.8803 | Val Loss: 0.3750 | Val Acc: 0.8365\n",
            "Epoch 8/20 | Train Loss: 0.2796 | Train Acc: 0.8857 | Val Loss: 0.3705 | Val Acc: 0.8374\n",
            "Epoch 9/20 | Train Loss: 0.2628 | Train Acc: 0.8942 | Val Loss: 0.3586 | Val Acc: 0.8455\n",
            "Epoch 10/20 | Train Loss: 0.2553 | Train Acc: 0.8981 | Val Loss: 0.4362 | Val Acc: 0.8079\n",
            "Epoch 11/20 | Train Loss: 0.2422 | Train Acc: 0.9028 | Val Loss: 0.3823 | Val Acc: 0.8504\n",
            "Epoch 12/20 | Train Loss: 0.2278 | Train Acc: 0.9113 | Val Loss: 0.3830 | Val Acc: 0.8458\n",
            "Epoch 13/20 | Train Loss: 0.2134 | Train Acc: 0.9186 | Val Loss: 0.3933 | Val Acc: 0.8461\n",
            "Epoch 14/20 | Train Loss: 0.2012 | Train Acc: 0.9205 | Val Loss: 0.4511 | Val Acc: 0.8390\n",
            "Epoch 15/20 | Train Loss: 0.1900 | Train Acc: 0.9269 | Val Loss: 0.4532 | Val Acc: 0.8413\n",
            "Epoch 16/20 | Train Loss: 0.1776 | Train Acc: 0.9310 | Val Loss: 0.4537 | Val Acc: 0.8425\n",
            "Epoch 17/20 | Train Loss: 0.1604 | Train Acc: 0.9389 | Val Loss: 0.4749 | Val Acc: 0.8356\n",
            "Epoch 18/20 | Train Loss: 0.1416 | Train Acc: 0.9460 | Val Loss: 0.4998 | Val Acc: 0.8355\n",
            "Epoch 19/20 | Train Loss: 0.1306 | Train Acc: 0.9522 | Val Loss: 0.5012 | Val Acc: 0.8295\n",
            "Epoch 20/20 | Train Loss: 0.1154 | Train Acc: 0.9587 | Val Loss: 0.5642 | Val Acc: 0.8310\n"
          ]
        }
      ]
    },
    {
      "cell_type": "code",
      "source": [
        "# Final version and plot\n",
        "# TO BE COMPLETED\n",
        "# Model Architecture-related tuning\n",
        "# SimplifiedSentimentRNN (my model with embedding_dim = 32, hidden_dim = 64, lr = 0.0001, epoch = 10)\n",
        "import os\n",
        "os.environ['CUDA_LAUNCH_BLOCKING'] = \"1\" # debug\n",
        "\n",
        "device = torch.device(\"cuda\" if torch.cuda.is_available() else \"cpu\")\n",
        "print(\"Using device:\", device)\n",
        "model = SimplifiedSentimentRNN(vocab_size=max_index + 1, embedding_dim=32, hidden_dim = 64)\n",
        "model.to(device)\n",
        "\n",
        "learning_rate = 0.0001\n",
        "num_epochs = 10\n",
        "batch_size = 16\n",
        "criterion = nn.CrossEntropyLoss()\n",
        "optimizer = optim.Adam(model.parameters(), lr=learning_rate)\n",
        "\n",
        "\n",
        "# Lists to store training metrics\n",
        "train_losses = []\n",
        "train_accuracies = []\n",
        "valid_losses = []\n",
        "valid_accuracies = []\n",
        "\n",
        "for epoch in range(num_epochs):\n",
        "    model.train()\n",
        "    running_loss = 0.0\n",
        "    correct_train = 0\n",
        "    total_train = 0\n",
        "\n",
        "    for inputs, labels in train_loader:\n",
        "        inputs, labels = inputs.to(device), labels.to(device)\n",
        "\n",
        "        optimizer.zero_grad()            # Zero the gradients\n",
        "        outputs = model(inputs)          # Forward pass\n",
        "        loss = criterion(outputs, labels)  # Compute loss\n",
        "        loss.backward()                  # Backward pass\n",
        "        optimizer.step()                 # Update weights\n",
        "\n",
        "        running_loss += loss.item()\n",
        "        _, predicted = torch.max(outputs, 1)\n",
        "        correct_train += (predicted == labels).sum().item()\n",
        "        total_train += labels.size(0)\n",
        "\n",
        "    train_loss = running_loss / len(train_loader)\n",
        "    train_acc = correct_train / total_train\n",
        "\n",
        "    # Evaluate on the validation set\n",
        "    valid_acc, valid_loss = get_accuracy(model, valid_loader, criterion, device)\n",
        "\n",
        "    train_losses.append(train_loss)\n",
        "    train_accuracies.append(train_acc)\n",
        "    valid_losses.append(valid_loss)\n",
        "    valid_accuracies.append(valid_acc)\n",
        "\n",
        "    print(f\"Epoch {epoch+1}/{num_epochs} | Train Loss: {train_loss:.4f} | Train Acc: {train_acc:.4f} | Val Loss: {valid_loss:.4f} | Val Acc: {valid_acc:.4f}\")\n",
        "\n",
        "# Plot training curves\n",
        "plt.figure(figsize=(12, 5))\n",
        "\n",
        "# Loss Plot\n",
        "plt.subplot(1, 2, 1)\n",
        "plt.plot(train_losses, label=\"Train Loss\")\n",
        "plt.plot(valid_losses, label=\"Validation Loss\")\n",
        "plt.xlabel(\"Epoch\")\n",
        "plt.ylabel(\"Loss\")\n",
        "plt.title(\"Loss over Epochs\")\n",
        "plt.legend()\n",
        "\n",
        "# Accuracy Plot\n",
        "plt.subplot(1, 2, 2)\n",
        "plt.plot(train_accuracies, label=\"Train Accuracy\")\n",
        "plt.plot(valid_accuracies, label=\"Validation Accuracy\")\n",
        "plt.xlabel(\"Epoch\")\n",
        "plt.ylabel(\"Accuracy\")\n",
        "plt.title(\"Accuracy over Epochs\")\n",
        "plt.legend()\n",
        "\n",
        "plt.tight_layout()\n",
        "plt.show()"
      ],
      "metadata": {
        "colab": {
          "base_uri": "https://localhost:8080/",
          "height": 698
        },
        "id": "J3KxK7bz-fgu",
        "outputId": "90fc13c4-82ac-4ed3-8c9c-9a0583bf51a8"
      },
      "execution_count": null,
      "outputs": [
        {
          "output_type": "stream",
          "name": "stdout",
          "text": [
            "Using device: cuda\n",
            "Epoch 1/10 | Train Loss: 0.6749 | Train Acc: 0.5695 | Val Loss: 0.6280 | Val Acc: 0.6436\n",
            "Epoch 2/10 | Train Loss: 0.5683 | Train Acc: 0.7083 | Val Loss: 0.5412 | Val Acc: 0.7265\n",
            "Epoch 3/10 | Train Loss: 0.4988 | Train Acc: 0.7642 | Val Loss: 0.4853 | Val Acc: 0.7670\n",
            "Epoch 4/10 | Train Loss: 0.4492 | Train Acc: 0.7942 | Val Loss: 0.4504 | Val Acc: 0.7930\n",
            "Epoch 5/10 | Train Loss: 0.4171 | Train Acc: 0.8146 | Val Loss: 0.4342 | Val Acc: 0.7995\n",
            "Epoch 6/10 | Train Loss: 0.3958 | Train Acc: 0.8244 | Val Loss: 0.4060 | Val Acc: 0.8177\n",
            "Epoch 7/10 | Train Loss: 0.3777 | Train Acc: 0.8359 | Val Loss: 0.4086 | Val Acc: 0.8185\n",
            "Epoch 8/10 | Train Loss: 0.3660 | Train Acc: 0.8406 | Val Loss: 0.3865 | Val Acc: 0.8261\n",
            "Epoch 9/10 | Train Loss: 0.3549 | Train Acc: 0.8461 | Val Loss: 0.3837 | Val Acc: 0.8301\n",
            "Epoch 10/10 | Train Loss: 0.3450 | Train Acc: 0.8521 | Val Loss: 0.3812 | Val Acc: 0.8316\n"
          ]
        },
        {
          "output_type": "display_data",
          "data": {
            "text/plain": [
              "<Figure size 1200x500 with 2 Axes>"
            ],
            "image/png": "[encoded data removed]"
          },
          "metadata": {}
        }
      ]
    },
    {
      "cell_type": "code",
      "source": [
        "'''\n",
        "PROVIDE YOUR ANSWER BELOW\n",
        "By tuning both architecture-related and optimization-related hyperparameters, I determined that the optimal configuration for this model is\n",
        "embedding_dim = 32, hidden_dim = 64, learning_rate = 0.0001, and epochs = 10.\n",
        "This selection was based on achieving the best balance between training efficiency, generalization, and validation accuracy.\n",
        "The chosen hyperparameters effectively minimized validation loss while maintaining stable and increasing accuracy, as seen in the training curves.\n",
        "'''"
      ],
      "metadata": {
        "id": "mN2t6fSzryME",
        "colab": {
          "base_uri": "https://localhost:8080/",
          "height": 70
        },
        "outputId": "045ff2b2-7478-4822-a52c-4562c904203f"
      },
      "outputs": [
        {
          "output_type": "execute_result",
          "data": {
            "text/plain": [
              "'\\nPROVIDE YOUR ANSWER BELOW\\nBy tuning both architecture-related and optimization-related hyperparameters, I determined that the optimal configuration for this model is \\nembedding_dim = 32, hidden_dim = 64, learning_rate = 0.0001, and epochs = 10. \\nThis selection was based on achieving the best balance between training efficiency, generalization, and validation accuracy. \\nThe chosen hyperparameters effectively minimized validation loss while maintaining stable and increasing accuracy, as seen in the training curves.\\n'"
            ],
            "application/vnd.google.colaboratory.intrinsic+json": {
              "type": "string"
            }
          },
          "metadata": {},
          "execution_count": 61
        }
      ],
      "execution_count": null
    },
    {
      "cell_type": "markdown",
      "metadata": {
        "id": "Gznefulsa91V"
      },
      "source": [
        "## Part 4. Evaluation [10 pt]\n",
        "\n",
        "**Important**. At this point in the assignment your test data should not have been evaluated by any of your models. The test data should be evaluated only after you have finished all the previous parts of the assignment. Once you evaluate your models on the test data you cannot change your models or else you may make hyperparameter adjustments that could lead to overfitting to the test data.\n",
        "\n",
        "### Part (i) [3pt RESULT]\n",
        "\n",
        "Report the final test accuracy of your model. Comment on how the result compares with accuracy obtained on the training and validation data. Are the results what you expected? Explain."
      ]
    },
    {
      "cell_type": "code",
      "metadata": {
        "id": "D5L5D-A1a91W",
        "colab": {
          "base_uri": "https://localhost:8080/"
        },
        "outputId": "b2e5b9b9-08c2-46f2-f6d0-e925c468a7dc"
      },
      "source": [
        "# Set device (use CUDA if available, otherwise fallback to CPU)\n",
        "device = torch.device(\"cuda\" if torch.cuda.is_available() else \"cpu\")\n",
        "print(f\"Using device: {device}\")\n",
        "\n",
        "model = SimplifiedSentimentRNN(vocab_size=max_index + 1, embedding_dim=32, hidden_dim=64)\n",
        "model.to(device)\n",
        "epoch = 10\n",
        "learning_rate = 0.0001\n",
        "criterion = nn.CrossEntropyLoss()\n",
        "optimizer = optim.Adam(model.parameters(), lr=learning_rate)\n",
        "\n",
        "# Define a function for training\n",
        "import torch\n",
        "\n",
        "def train_model(model, train_loader, valid_loader, criterion, optimizer, device, epochs):\n",
        "    train_losses = []\n",
        "    train_accuracies = []\n",
        "    valid_losses = []\n",
        "    valid_accuracies = []\n",
        "\n",
        "    for epoch in range(epochs):\n",
        "        model.train()\n",
        "        running_loss = 0.0\n",
        "        correct_train = 0\n",
        "        total_train = 0\n",
        "\n",
        "        for inputs, labels in train_loader:\n",
        "            inputs, labels = inputs.to(device), labels.to(device)\n",
        "\n",
        "            optimizer.zero_grad()  # Zero the gradients\n",
        "            outputs = model(inputs)  # Forward pass\n",
        "            loss = criterion(outputs, labels)  # Compute loss\n",
        "            loss.backward()  # Backward pass\n",
        "            optimizer.step()  # Update weights\n",
        "\n",
        "            running_loss += loss.item()\n",
        "            _, predicted = torch.max(outputs, 1)\n",
        "            correct_train += (predicted == labels).sum().item()\n",
        "            total_train += labels.size(0)\n",
        "\n",
        "        train_loss = running_loss / len(train_loader)\n",
        "        train_acc = correct_train / total_train\n",
        "\n",
        "        valid_acc, valid_loss = get_accuracy(model, valid_loader, criterion, device)\n",
        "\n",
        "        train_losses.append(train_loss)\n",
        "        train_accuracies.append(train_acc)\n",
        "        valid_losses.append(valid_loss)\n",
        "        valid_accuracies.append(valid_acc)\n",
        "\n",
        "        print(f\"Epoch {epoch+1}/{epochs} | Train Loss: {train_loss:.4f} | Train Acc: {train_acc:.4f} | Val Loss: {valid_loss:.4f} | Val Acc: {valid_acc:.4f}\")\n",
        "\n",
        "    return train_losses, train_accuracies, valid_losses, valid_accuracies\n",
        "\n",
        "train_model(model, train_loader, valid_loader, criterion, optimizer, device, epoch)\n",
        "\n",
        "# Evaluation function (Test Accuracy)\n",
        "def evaluate_model(model, test_loader, criterion, device):\n",
        "    model.eval()\n",
        "    total_loss = 0.0\n",
        "    correct_predictions = 0\n",
        "    total_samples = 0\n",
        "\n",
        "    with torch.no_grad():\n",
        "        for inputs, labels in test_loader:\n",
        "            inputs, labels = inputs.to(device), labels.to(device)\n",
        "            outputs = model(inputs)\n",
        "            loss = criterion(outputs, labels)\n",
        "            total_loss += loss.item()\n",
        "\n",
        "            _, predicted = torch.max(outputs, 1)\n",
        "            correct_predictions += (predicted == labels).sum().item()\n",
        "            total_samples += labels.size(0)\n",
        "\n",
        "    test_loss = total_loss / len(test_loader)\n",
        "    test_accuracy = correct_predictions / total_samples\n",
        "\n",
        "    print(f\"\\nTest Evaluation Results:\")\n",
        "    print(f\"Test Loss: {test_loss:.4f}\")\n",
        "    print(f\"Test Accuracy: {test_accuracy:.4f}\")\n",
        "\n",
        "    return test_loss, test_accuracy\n",
        "\n",
        "test_loss, test_accuracy = evaluate_model(model, test_loader, criterion, device)"
      ],
      "outputs": [
        {
          "output_type": "stream",
          "name": "stdout",
          "text": [
            "Using device: cuda\n",
            "Epoch 1/10 | Train Loss: 0.6876 | Train Acc: 0.5433 | Val Loss: 0.6773 | Val Acc: 0.5853\n",
            "Epoch 2/10 | Train Loss: 0.6024 | Train Acc: 0.6750 | Val Loss: 0.5574 | Val Acc: 0.7228\n",
            "Epoch 3/10 | Train Loss: 0.5060 | Train Acc: 0.7618 | Val Loss: 0.4845 | Val Acc: 0.7674\n",
            "Epoch 4/10 | Train Loss: 0.4474 | Train Acc: 0.7986 | Val Loss: 0.4445 | Val Acc: 0.7985\n",
            "Epoch 5/10 | Train Loss: 0.4155 | Train Acc: 0.8163 | Val Loss: 0.4278 | Val Acc: 0.8044\n",
            "Epoch 6/10 | Train Loss: 0.3920 | Train Acc: 0.8288 | Val Loss: 0.4254 | Val Acc: 0.8077\n",
            "Epoch 7/10 | Train Loss: 0.3763 | Train Acc: 0.8354 | Val Loss: 0.4019 | Val Acc: 0.8227\n",
            "Epoch 8/10 | Train Loss: 0.3632 | Train Acc: 0.8427 | Val Loss: 0.3901 | Val Acc: 0.8280\n",
            "Epoch 9/10 | Train Loss: 0.3509 | Train Acc: 0.8496 | Val Loss: 0.3857 | Val Acc: 0.8296\n",
            "Epoch 10/10 | Train Loss: 0.3434 | Train Acc: 0.8552 | Val Loss: 0.3811 | Val Acc: 0.8335\n",
            "\n",
            "Test Evaluation Results:\n",
            "Test Loss: 0.3646\n",
            "Test Accuracy: 0.8434\n"
          ]
        }
      ],
      "execution_count": null
    },
    {
      "cell_type": "code",
      "source": [
        "'''\n",
        "PROVIDE YOUR ANSWER BELOW\n",
        "\n",
        "The training accuracy (85.52%) is slightly higher than the validation accuracy (83.35%), which indicates the model has learned well without excessive overfitting.\n",
        "The test accuracy (84.34%) is very close to the validation accuracy, showing that the model generalizes well to unseen data.\n",
        "\n",
        "These results are what I expected: the test accuracy is slightly lower than the training accuracy but close to validation accuracy.\n",
        "There is no significant overfitting since validation and test accuracy are similar. The model is not underfitting, as training accuracy is reasonably high and converges well.\n",
        "\n",
        "'''"
      ],
      "metadata": {
        "id": "DTHWBJCu_Fyz"
      },
      "outputs": [],
      "execution_count": null
    },
    {
      "cell_type": "markdown",
      "metadata": {
        "id": "kLvxrCP5Bwdu"
      },
      "source": [
        "### Part (ii) [3pt DISCUSSION]\n",
        "\n",
        "Look over the misclassified samples in the test data and see if you can find any patterns on where the model has difficulty with identifying the review sentiment. Provide up to 5 examples of positive and negative reviews each to support your findings."
      ]
    },
    {
      "cell_type": "code",
      "metadata": {
        "id": "IJt0APcBBwd5"
      },
      "source": [
        "# TO BE COMPLETED\n",
        "# Create index-to-word mapping\n",
        "itos = {idx: word for word, idx in stoi.items()}\n",
        "def decode_text(tokenized_input):\n",
        "    return \" \".join([itos[idx] for idx in tokenized_input if idx in itos])"
      ],
      "outputs": [],
      "execution_count": null
    },
    {
      "cell_type": "code",
      "source": [
        "def get_misclassified_samples(model, test_loader, device, decode_text, label_map, num_samples=5):\n",
        "    model.eval()\n",
        "    misclassified_positive = []  # False Negatives (Actual: Positive, Predicted: Negative)\n",
        "    misclassified_negative = []  # False Positives (Actual: Negative, Predicted: Positive)\n",
        "\n",
        "    with torch.no_grad():\n",
        "        for inputs, labels in test_loader:\n",
        "            inputs, labels = inputs.to(device), labels.to(device)\n",
        "            outputs = model(inputs)\n",
        "            _, predicted = torch.max(outputs, 1) # Get predicted class\n",
        "\n",
        "            for i in range(len(labels)):\n",
        "                true_label = labels[i].item()\n",
        "                pred_label = predicted[i].item()\n",
        "\n",
        "                if true_label != pred_label:\n",
        "                    review_text = decode_text(inputs[i].cpu().numpy())  # Convert tokens to text\n",
        "                    if true_label == label_map['positive']:  # Misclassified positive review\n",
        "                        misclassified_positive.append(review_text)\n",
        "                    else:  # Misclassified negative review\n",
        "                        misclassified_negative.append(review_text)\n",
        "\n",
        "                if len(misclassified_positive) >= num_samples and len(misclassified_negative) >= num_samples:\n",
        "                    break\n",
        "\n",
        "    return misclassified_positive[:num_samples], misclassified_negative[:num_samples]\n",
        "\n",
        "# Assuming label mapping\n",
        "label_map = {'negative': 0, 'positive': 1}\n",
        "\n",
        "# Run with either a pretrained tokenizer or custom token mapping\n",
        "misclassified_pos, misclassified_neg = get_misclassified_samples(model, test_loader, device, decode_text, label_map, num_samples=5)"
      ],
      "metadata": {
        "id": "RjNq_9qKotfz"
      },
      "execution_count": null,
      "outputs": []
    },
    {
      "cell_type": "code",
      "source": [
        "print(\"\\n Misclassified Positive Reviews (Should be Positive, Predicted as Negative):\")\n",
        "for idx, review in enumerate(misclassified_pos):\n",
        "    print(f\"{idx+1}. {review}\")\n",
        "\n",
        "print(\"\\n Misclassified Negative Reviews (Should be Negative, Predicted as Positive):\")\n",
        "for idx, review in enumerate(misclassified_neg):\n",
        "    print(f\"{idx+1}. {review}\")"
      ],
      "metadata": {
        "colab": {
          "base_uri": "https://localhost:8080/"
        },
        "id": "oeAXrFGUqjHD",
        "outputId": "41dba6d0-d491-4095-ddb5-ce281bcd20b8"
      },
      "execution_count": null,
      "outputs": [
        {
          "output_type": "stream",
          "name": "stdout",
          "text": [
            "\n",
            " Misclassified Positive Reviews (Should be Positive, Predicted as Negative):\n",
            "1. film rather comment past br br recently watched truth like watching remake sequel except rather similar message films based young often war films show forced young make killing falls short people theyre fighting ultimately lost war war well br br comment film could easily left mind film message point view would speak audience\n",
            "2. richard character movie hes three times yet beginning film tries make four body almost amazing girl br period piece era red worked plot quite film violent era women sex films makes film women often got different roles type filmbr br film minutes long obviously made features theater sets show budget film script made mad given short wanted br instead became b picture hit script acting better big features year\n",
            "3. im people never say never weak remake yes movies almost films films like remake true opening theme last film one worst entire series film still manages stand despite many even weak title song made pretty dialogue filmbr br sure getting little age movie filmed least james plenty makes clear exactly filmmakers james near spent time even pay attention getting james remember guy supposed kind human fans getting hes got guy end film poor hilarious tell without free world people cant get fact hes young man come could still play james good ever could least better anyone else ever able br film hold world dr evil would say oh hell lets always theres clearly much new one films better one theres scene could lot good sexual mr especially later happens face making face good attempt comic especially since guy sort could cut pretty much anything course stars film one best girls entire br secret never say never badly one things worst special effects one obviously still beginning film totally without effect watch one worst things entire movie second put sort weird scene classic line one simple course room scene episode obviously another br video game created films villain especially memorable scene film also probably best entire series far one never despite many films left audiences mind end film due large part one obvious parts never mind fact left alive dr ill leave without actually death everything went expected action film never take place atmosphere br br never say never highly james end film well two lines time may still return another turn clearly hope\n",
            "4. must say thought show would really ridiculous stupid since part didnt want make look br think hilarious yes cute br characters pretty cant stand good brother sister doesnt love guy like character brings much show room played hilarious br definitely fun watch season cant wait back\n",
            "5. make tv series based movies us make films based tv never work character actor sometimes play one great comic kind would turned instead\n",
            "\n",
            " Misclassified Negative Reviews (Should be Negative, Predicted as Positive):\n",
            "1. mother young children say many feel well comment version br family seen episodes get may enjoyed light nothing special cartoon problem light old im sure may return im sure long buy old young real lost year old son seeing new version really without said looked really badly wasnt anything like last br still better lets hope get producers\n",
            "2. major film major makes life living hell small group boys film really lot several hilarious moments watch dont expect memorable film however expect laugh way film people major boy hilarious thats really remember film except boys major great film probably best watched day need\n",
            "3. movie funny directors movie moments needed dont know give\n",
            "4. dont think anyone view film would expecting anything like classic story ask ever doesnt really work level cast try hard film doesnt one happy story american couple write book brings along wife george daughter friend works american find house live finds one years earlier house found wife kills still house doesnt take long strange things start br br times start act like japanese people starts leads starts goes ask help unfortunately get play death scene like happened years br film directed known good television director made horror science films worked never comes close scary atmosphere two things liked first doesnt one couple instead ends fight everyone evil george cast ive always fan even though mostly performances always top also usually appears two scenes doesnt classic features unique like look one reasons popular silly films think getting business working isnt bad film never convincing watching around gives two line silly hope george decides career\n",
            "5. thought going watch scary movie ended laughing way throughout movie scene human thought ten times better low budget comment would recommend jack good movie good special effects human unless wish good laugh would recommend watch movie movie joke\n"
          ]
        }
      ]
    },
    {
      "cell_type": "code",
      "source": [
        "'''\n",
        "PROVIDE YOUR ANSWER BELOW\n",
        "\n",
        "Misclassified Positive Review:\n",
        "1. film rather comment past br br recently watched truth like watching remake sequel except rather similar message films based young often war films show forced young make\n",
        "killing falls short people theyre fighting ultimately lost war war well br br comment film could easily left mind film message point view would speak audience\n",
        "- The review contains neutral and negative phrases like \"falls short\" and \"lost war,\" which might have confused the model.\n",
        "\n",
        "2. richard character movie hes three times yet beginning film tries make four body almost amazing girl br period piece era red worked plot quite\n",
        "film violent era women sex films makes film women often got different roles type filmbr br film minutes long obviously made features theater sets\n",
        "show budget film script made mad given short wanted br instead became b picture hit script acting better big features year\n",
        "- The structure is very unclear, and the model may have struggled with the complex phrasing.\n",
        "\n",
        "3. im people never say never weak remake yes movies almost films films like remake true opening theme last film one worst entire series film still manages\n",
        "stand despite many even weak title song made pretty dialogue filmbr br sure getting little age movie filmed least james plenty makes clear exactly filmmakers\n",
        "james near spent time even pay attention getting james remember guy supposed kind human fans getting hes got guy end film poor hilarious tell without free world\n",
        "people cant get fact hes young man come could still play james good ever could least better anyone else ever able br film hold world dr evil would say oh hell\n",
        "lets always theres clearly much new one films better one theres scene could lot good sexual mr especially later happens face making face good attempt comic especially\n",
        "since guy sort could cut pretty much anything course stars film one best girls entire br secret never say never badly one things worst special effects one obviously\n",
        "still beginning film totally without effect watch one worst things entire movie second put sort weird scene classic line one simple course room scene episode obviously\n",
        "another br video game created films villain especially memorable scene film also probably best entire series far one never despite many films left audiences mind end film\n",
        "due large part one obvious parts never mind fact left alive dr ill leave without actually death everything went expected action film never take place atmosphere br\n",
        "br never say never highly james end film well two lines time may still return another turn clearly hope\n",
        "- Words like \"weak remake\", \"worst\", and \"bad effects\" may have led the model to misclassify it as negative.\n",
        "\n",
        "4. must say thought show would really ridiculous stupid since part didnt want make look br think hilarious yes cute br characters pretty cant stand\n",
        "good brother sister doesnt love guy like character brings much show room played hilarious br definitely fun watch season cant wait back\n",
        "- The review starts negatively (\"ridiculous, stupid\"), and the model may have focused on those words.\n",
        "\n",
        "5. make tv series based movies us make films based tv never work character actor sometimes play one great comic kind would turned instead\n",
        "- Lacks explicit sentiment words, making it difficult for the model to interpret.\n",
        "\n",
        "Misclassified Negative Reviews\n",
        "1. mother young children say many feel well comment version br family seen episodes get may enjoyed light nothing special cartoon problem light\n",
        "old im sure may return im sure long buy old young real lost year old son seeing new version really without said looked really badly wasnt\n",
        "anything like last br still better lets hope get producers\n",
        "- Words like \"enjoyed\" and \"nothing special\" might have made the model see this as a neutral/positive review rather than negative.\n",
        "\n",
        "2. major film major makes life living hell small group boys film really lot several hilarious moments watch dont expect memorable film however expect laugh\n",
        "way film people major boy hilarious thats really remember film except boys major great film probably best watched day need\n",
        "- The presence of words like \"hilarious\" and \"laugh\" may have misled the model to think the review is positive, despite criticism of the film.\n",
        "\n",
        "3. movie funny directors movie moments needed dont know give\n",
        "- The model likely focused on \"funny\" instead of the confusion in the sentence.\n",
        "\n",
        "4. dont think anyone view film would expecting anything like classic story ask ever doesnt really work level cast try hard film doesnt one happy story\n",
        "american couple write book brings along wife george daughter friend works american find house live finds one years earlier house found wife kills still house\n",
        "doesnt take long strange things start br br times start act like japanese people starts leads starts goes ask help unfortunately get play death scene like happened\n",
        "years br film directed known good television director made horror science films worked never comes close scary atmosphere two things liked first doesnt one couple instead\n",
        "ends fight everyone evil george cast ive always fan even though mostly performances always top also usually appears two scenes doesnt classic features unique like look one\n",
        "reasons popular silly films think getting business working isnt bad film never convincing watching around gives two line silly hope george decides career\n",
        "- The complex phrasing and neutral description might have confused the model. The review doesn’t explicitly use strong negative words.\n",
        "\n",
        "5. thought going watch scary movie ended laughing way throughout movie scene human thought ten times better low budget comment would recommend jack good\n",
        "movie good special effects human unless wish good laugh would recommend watch movie movie joke\n",
        "- The model likely picked up on \"good movie\" and \"recommend\" instead of the sarcastic negative tone.\n",
        "\n",
        "'''"
      ],
      "metadata": {
        "id": "Fyr16MISBwd5"
      },
      "outputs": [],
      "execution_count": null
    },
    {
      "cell_type": "markdown",
      "metadata": {
        "id": "0jGHtQFpa91b"
      },
      "source": [
        "### Part (iii) [2pt RESULT]\n",
        "\n",
        "What is your model's prediction of the **probability** that\n",
        "the review message provided below is a positive review?\n",
        "\n",
        "Hint: You will need to apply the same processing on the review as was done on the the train, val, and test data sets."
      ]
    },
    {
      "cell_type": "code",
      "metadata": {
        "id": "h_2nSJq8a91b"
      },
      "source": [
        "review = \"\"\" Man.... I wish I loved this movie more than I did. Don't get me wrong,\n",
        "it's a solid action movie with jaw-dropping stunts (some of the best in the series),\n",
        "but as a Mission: Impossible movie, it felt like a small step backward for the franchise.\n",
        "Fallout had mind-blowing action sequences and stunt work, along with developing Ethan's\n",
        "relationship with Ilsa, providing closure with Julia, showing the lengths Ethan would\n",
        "go to protect those closest to him, and battling an imposing villain. Dead Reckoning:\n",
        "Part One stretches the movie across two films only to seemingly showcase action\n",
        "spectacle after action spectacle while sacrificing character development.\n",
        "Characters I have grown to love over a decade of films felt sidelined, ignored,\n",
        "or wasted. Hayley Atwell's new character chewed up most of the screen time, and\n",
        "while she was fantastic, I wanted to see more of the original team. The new villain\n",
        "had an inconsistent ability that confused more than intimidated. There were some\n",
        "important emotional moments that I just didn't feel the weight of when I definitely\n",
        "should have. Part Two might tie everything together and make me enjoy Part One\n",
        "more in retrospect, but unfortunately, I left wanting more from this one. \"\"\""
      ],
      "outputs": [],
      "execution_count": null
    },
    {
      "cell_type": "code",
      "source": [
        "# TO BE COMPLETED\n",
        "tokens = review.lower().split()\n",
        "token_indices = [stoi.get(word, 0) for word in tokens]\n",
        "\n",
        "# Pad or truncate to a fixed length\n",
        "max_length = 1000\n",
        "if len(token_indices) < max_length:\n",
        "    token_indices += [stoi.get('<pad>', 0)] * (max_length - len(token_indices))  # Padding\n",
        "else:\n",
        "    token_indices = token_indices[:max_length]  # Truncation\n",
        "\n",
        "# Convert to tensor and move to the correct device (CPU or CUDA)\n",
        "input_tensor = torch.tensor([token_indices], dtype=torch.long).to(device)\n",
        "\n",
        "# get prediction\n",
        "model.eval()\n",
        "with torch.no_grad():\n",
        "    output = model(input_tensor)\n",
        "    probabilities = F.softmax(output, dim=1)  # Convert logits to probabilities\n",
        "    positive_prob = probabilities[:, 1].item()  # Extract positive class probability\n",
        "\n",
        "print(f\"Probability that the review is positive: {positive_prob:.4f}\")"
      ],
      "metadata": {
        "id": "CB-82EtwBmKb",
        "colab": {
          "base_uri": "https://localhost:8080/"
        },
        "outputId": "9f2f89f2-9a6b-4892-e687-8d8bb933b25b"
      },
      "outputs": [
        {
          "output_type": "stream",
          "name": "stdout",
          "text": [
            "Probability that the review is positive: 0.3986\n"
          ]
        }
      ],
      "execution_count": null
    },
    {
      "cell_type": "markdown",
      "metadata": {
        "id": "QD1zgYJpa91f"
      },
      "source": [
        "### Part (iv) [2pt DISCUSSION]\n",
        "\n",
        "Do you think that detecting positive and negative reviews is an easy or difficult task?\n",
        "\n",
        "Since machine learning models are expensive to train and deploy, it is very\n",
        "important to compare our models against baseline models: a simple\n",
        "model that is easy to build and inexpensive to run that we can compare our\n",
        "recurrent neural network model against.\n",
        "\n",
        "Explain how you might build a simple baseline model. This baseline model\n",
        "can be a simple neural network (with very few weights), a hand-written algorithm,\n",
        "or any other strategy that is easy to build and test.\n",
        "\n",
        "**Do not actually build a baseline model. Instead, provide instructions on\n",
        "how to build it.**"
      ]
    },
    {
      "cell_type": "code",
      "metadata": {
        "id": "7dwiiZYdvz34"
      },
      "source": [
        "'''\n",
        "PROVIDE YOUR ANSWER BELOW\n",
        "\n",
        "Detecting positive and negative reviews is challenging due to mixed sentiment and contextual meaning. A baseline model helps compare performance against complex models like RNNs.\n",
        "A rule-based classifier can count positive and negative words in a review and classify sentiment based on word frequency, but it struggles with negation and sarcasm.\n",
        "A logistic regression model using Bag of Words (BoW) or TF-IDF provides a more effective alternative by learning from labeled data.\n",
        "However, these baselines are easy to build and computationally cheap, they fail to capture deep contextual meaning.\n",
        "For quick and cheap sentiment analysis, a logistic regression model is a good baseline.\n",
        "For high accuracy and complex understanding, a Recurrent Neural Network (LSTM) or Transformer (BERT) is necessary.\n",
        "\n",
        "Training process idea:\n",
        "Train & Test Baseline Model\n",
        "Run the rule-based or logistic regression model on the test dataset.\n",
        "Measure accuracy, precision, and recall.\n",
        "\n",
        "Train & Test RNN (LSTM) Model\n",
        "Train a Recurrent Neural Network (LSTM) using the same dataset.\n",
        "Measure its accuracy, precision, and recall.\n",
        "\n",
        "Compare Performance\n",
        "If the baseline model performs nearly as well as the RNN, the deep model might not be necessary.\n",
        "If the RNN significantly outperforms the baseline, it justifies the computational cost.\n",
        "'''"
      ],
      "outputs": [],
      "execution_count": null
    },
    {
      "cell_type": "markdown",
      "metadata": {
        "id": "zIR3Q5l0v1HP"
      },
      "source": [
        "# PART B - Transfer Learning\n",
        "\n",
        "For many natural language processing tasks, it is generally not a good idea to train a very large deep neural network model from scratch due to enormous compute requirements and lack of sufficient amounts of training data. Instead, you should always try to take advantage of an existing model that performs similar tasks as the one you need to solve.\n",
        "\n",
        "In this part of the assignment we will be using pretrained models to improve the performance on identifying positive and negative reviews. There are several pretrained models that are available to us, here we will use a pretrained BERT model that comes with the hugging face transformer library.\n",
        "\n",
        "Provided below is sample code to get you started. For more details please visit the hugging face tutorial on using pretrained models using PyTorch: https://huggingface.co/docs/transformers/training\n",
        "\n",
        "#### Sample Code"
      ]
    },
    {
      "cell_type": "code",
      "metadata": {
        "id": "5R-_BQyiAMoo"
      },
      "source": [
        "# install relevant libraries\n",
        "!pip install -qq transformers"
      ],
      "outputs": [],
      "execution_count": 2
    },
    {
      "cell_type": "code",
      "metadata": {
        "id": "316Xs5WBv0kg",
        "colab": {
          "base_uri": "https://localhost:8080/",
          "height": 281,
          "referenced_widgets": [
            "74ef5e2c615e49dcaaafb79ed9f23af0",
            "8949a95c8df849cbbcadc2fad41daa1f",
            "7063deadbbe34fddbc0234418d913950",
            "1fbd6d219e0b4448b0f6b02c1c735d3a",
            "e94bd988119e4aa4a48e742f97b46c97",
            "4e3466c3bae642cea973b53d4c2e969a",
            "ffe5991a37bf464e83f0d3da03720e50",
            "bc943ddbfc1d42ca98824b51bfeab0e2",
            "9ac7840869714b16b2f2053b640f8e85",
            "b247cb3c39d4482381608c4fd67ecfe2",
            "355c3b2da4314eedb9f4c04f6c2903fd",
            "b514863ad4c44b8b9cffdd50a65aef1c",
            "4b43ecdababe41a4ad36596dd11fa9ae",
            "ced3c8f2454d4f64bf7b2593ac64dd2c",
            "cf6ecadf3f98428ba317fc796e5a450b",
            "091f48c3335a4d80b6370a19a31efa21",
            "57a4c42e83234b938d535fe3448f9dab",
            "d2770fb1531e42a9a2036271b937e88d",
            "bdc6732edcc64b94b138cdf13f05d382",
            "faf0ad0675a44d15813afd1ebbd166df",
            "5e81a2a2d6b34cb4860d7ff3ed2415d9",
            "8672effee8eb4492befe8c36fcfe3203",
            "e86e11b9dc384c56b6504b73c508c7bd",
            "28d7dcf2c247479688edda4d694de63b",
            "baa9a62b90b74b87b3dbaf98f696a9c3",
            "bd06860e6ef94e6e9e308893304c7698",
            "309d118bd4964b2a85fa214d9d895493",
            "12ad67b0d0b241169f943846a1d288bc",
            "647325379c2d4f53a9f4510e59b57a1f",
            "74d0b3bdb5d14cf8ae0597c85d397cce",
            "4f8ab2411ba84540bf64b6bb7b78f10b",
            "67af8d7fc1384a1ab9c51a9cdfcfc27f",
            "cf49d04553ce4ab49a31c5f790a7fe0c",
            "eca0e3435e2c4b279385cea84dc909c5",
            "6d8f4118326c42f79497139c52a1ebc8",
            "0f97998999154d4e9edd8adb2f8763fb",
            "0565e63185154e5f9f44ac5d20cc79ac",
            "b7eebcd3e86d40899d4f006db858c0c3",
            "c55c25040d8248c7bf0019691ae412f3",
            "0781401a4e7240b7ab14571bb8646f97",
            "07baef2ec23d4f919b92202d6ce34d2a",
            "03ba616377424c7e916fe51343f05857",
            "f7af78f32b2148c1bbf90af341414a9f",
            "49afdfd71d3646ef8cb1d6e78b345916",
            "b3624746a525403ebce35a718c9fec78",
            "086c024a6e1e4fab9dcdd8cd8ad98a09",
            "f662ac4b43854fbdb673cde8ca7115f1",
            "59e90e1c93654cb08db9a7339d917e6f",
            "2462f5e81a7d4fb3ac1ce46b95d334d7",
            "39b4c5bd1b744bf6a959a9f8922bdd7e",
            "27514c96832f4ae1a5a8ed7cedc7be48",
            "809ad1cdfb0b446599db03c357d93da8",
            "a747b6d6a72f4e2e8e5c64b881f1c83f",
            "1a3cd27cfbed43daa108d2d37055b251",
            "33939ce1855e41bfa6f8c1367bc60a5f"
          ]
        },
        "outputId": "c80856c8-93a2-4866-8e7a-058889650787"
      },
      "source": [
        "# load relevant libraries\n",
        "import transformers\n",
        "from transformers import BertModel, BertTokenizer, AdamW, get_linear_schedule_with_warmup\n",
        "\n",
        "PRE_TRAINED_MODEL_NAME = 'bert-base-cased'\n",
        "\n",
        "tokenizer = BertTokenizer.from_pretrained(PRE_TRAINED_MODEL_NAME)\n",
        "bert_model = BertModel.from_pretrained(PRE_TRAINED_MODEL_NAME)\n",
        "\n",
        "################### SUBMISSION NOTE ####################################\n",
        "#  - output of this cell creates issues for converting ipynb to HTML\n",
        "#  - you may want to delete this output when you are ready to submit"
      ],
      "outputs": [
        {
          "output_type": "stream",
          "name": "stderr",
          "text": [
            "/usr/local/lib/python3.11/dist-packages/huggingface_hub/utils/_auth.py:94: UserWarning: \n",
            "The secret `HF_TOKEN` does not exist in your Colab secrets.\n",
            "To authenticate with the Hugging Face Hub, create a token in your settings tab (https://huggingface.co/settings/tokens), set it as secret in your Google Colab and restart your session.\n",
            "You will be able to reuse this secret in all of your notebooks.\n",
            "Please note that authentication is recommended but still optional to access public models or datasets.\n",
            "  warnings.warn(\n"
          ]
        },
        {
          "output_type": "display_data",
          "data": {
            "text/plain": [
              "tokenizer_config.json:   0%|          | 0.00/49.0 [00:00<?, ?B/s]"
            ],
            "application/vnd.jupyter.widget-view+json": {
              "version_major": 2,
              "version_minor": 0,
              "model_id": "74ef5e2c615e49dcaaafb79ed9f23af0"
            }
          },
          "metadata": {}
        },
        {
          "output_type": "display_data",
          "data": {
            "text/plain": [
              "vocab.txt:   0%|          | 0.00/213k [00:00<?, ?B/s]"
            ],
            "application/vnd.jupyter.widget-view+json": {
              "version_major": 2,
              "version_minor": 0,
              "model_id": "b514863ad4c44b8b9cffdd50a65aef1c"
            }
          },
          "metadata": {}
        },
        {
          "output_type": "display_data",
          "data": {
            "text/plain": [
              "tokenizer.json:   0%|          | 0.00/436k [00:00<?, ?B/s]"
            ],
            "application/vnd.jupyter.widget-view+json": {
              "version_major": 2,
              "version_minor": 0,
              "model_id": "e86e11b9dc384c56b6504b73c508c7bd"
            }
          },
          "metadata": {}
        },
        {
          "output_type": "display_data",
          "data": {
            "text/plain": [
              "config.json:   0%|          | 0.00/570 [00:00<?, ?B/s]"
            ],
            "application/vnd.jupyter.widget-view+json": {
              "version_major": 2,
              "version_minor": 0,
              "model_id": "eca0e3435e2c4b279385cea84dc909c5"
            }
          },
          "metadata": {}
        },
        {
          "output_type": "display_data",
          "data": {
            "text/plain": [
              "model.safetensors:   0%|          | 0.00/436M [00:00<?, ?B/s]"
            ],
            "application/vnd.jupyter.widget-view+json": {
              "version_major": 2,
              "version_minor": 0,
              "model_id": "b3624746a525403ebce35a718c9fec78"
            }
          },
          "metadata": {}
        }
      ],
      "execution_count": 3
    },
    {
      "cell_type": "code",
      "source": [
        "sample_txt = 'I want to learn how to do sentiment analysis using BERT and tokenizer.'\n",
        "\n",
        "encoding = tokenizer.encode_plus(\n",
        "  sample_txt,\n",
        "  max_length=32,\n",
        "  add_special_tokens=True, # Add '[CLS]' and '[SEP]'\n",
        "  return_token_type_ids=False,\n",
        "  pad_to_max_length=True,\n",
        "  return_attention_mask=True,\n",
        "  return_tensors='pt',  # Return PyTorch tensors\n",
        "  truncation = True\n",
        ")"
      ],
      "metadata": {
        "id": "_20pdf-tYySb",
        "colab": {
          "base_uri": "https://localhost:8080/"
        },
        "outputId": "f2a70f64-21cc-4774-8b0e-9f4beadb73a7"
      },
      "outputs": [
        {
          "output_type": "stream",
          "name": "stderr",
          "text": [
            "/usr/local/lib/python3.11/dist-packages/transformers/tokenization_utils_base.py:2681: FutureWarning: The `pad_to_max_length` argument is deprecated and will be removed in a future version, use `padding=True` or `padding='longest'` to pad to the longest sequence in the batch, or use `padding='max_length'` to pad to a max length. In this case, you can give a specific length with `max_length` (e.g. `max_length=45`) or leave max_length to None to pad to the maximal input size of the model (e.g. 512 for Bert).\n",
            "  warnings.warn(\n"
          ]
        }
      ],
      "execution_count": null
    },
    {
      "cell_type": "code",
      "source": [
        "encoding['input_ids']"
      ],
      "metadata": {
        "id": "O1B4RiOOcbGY",
        "colab": {
          "base_uri": "https://localhost:8080/"
        },
        "outputId": "ada2a951-6eba-40f3-86bb-9d933f8a3513"
      },
      "outputs": [
        {
          "output_type": "execute_result",
          "data": {
            "text/plain": [
              "tensor([[  101,   146,  1328,  1106,  3858,  1293,  1106,  1202, 17024,  3622,\n",
              "          1606,   139,  9637,  1942,  1105, 22559, 17260,   119,   102,     0,\n",
              "             0,     0,     0,     0,     0,     0,     0,     0,     0,     0,\n",
              "             0,     0]])"
            ]
          },
          "metadata": {},
          "execution_count": 5
        }
      ],
      "execution_count": null
    },
    {
      "cell_type": "code",
      "source": [
        "encoding['attention_mask']"
      ],
      "metadata": {
        "id": "7sZ1j9PfceFF",
        "colab": {
          "base_uri": "https://localhost:8080/"
        },
        "outputId": "4add2d59-3746-4098-c7ea-7ea1ff6aa733"
      },
      "outputs": [
        {
          "output_type": "execute_result",
          "data": {
            "text/plain": [
              "tensor([[1, 1, 1, 1, 1, 1, 1, 1, 1, 1, 1, 1, 1, 1, 1, 1, 1, 1, 1, 0, 0, 0, 0, 0,\n",
              "         0, 0, 0, 0, 0, 0, 0, 0]])"
            ]
          },
          "metadata": {},
          "execution_count": 6
        }
      ],
      "execution_count": null
    },
    {
      "cell_type": "code",
      "source": [
        "hidden_states = bert_model(input_ids=encoding['input_ids'],\n",
        "                           attention_mask=encoding['attention_mask'])[0]\n",
        "pooled_output = bert_model(input_ids=encoding['input_ids'],\n",
        "                           attention_mask=encoding['attention_mask'])[1]"
      ],
      "metadata": {
        "id": "dZ458Q_uYzxu"
      },
      "outputs": [],
      "execution_count": null
    },
    {
      "cell_type": "code",
      "source": [
        "hidden_size = bert_model.config.hidden_size\n",
        "\n",
        "print(hidden_size)\n",
        "print(hidden_states.shape)\n",
        "print(pooled_output.shape)\n"
      ],
      "metadata": {
        "id": "GqwUAEIzZNBO",
        "colab": {
          "base_uri": "https://localhost:8080/"
        },
        "outputId": "675e61f4-780f-40e1-fea2-100b4f7f85b3"
      },
      "outputs": [
        {
          "output_type": "stream",
          "name": "stdout",
          "text": [
            "768\n",
            "torch.Size([1, 32, 768])\n",
            "torch.Size([1, 768])\n"
          ]
        }
      ],
      "execution_count": null
    },
    {
      "cell_type": "markdown",
      "source": [
        "In the sample code provided we loaded a short text sequence, tokenized it using the same tokenization that was used in the pretrained BERT model, and fed the tokenized input into the BERT model to obtain the embeddings.\n",
        "\n",
        "The model output consists of two forms of embeddings:\n",
        "- **hidden_states** are the final layer of outputs that has a shape sequence_length x embeddings, much like the hidden states of a recurrent neural network\n",
        "- **pooled_output** is the result of applying max pooling on the hidden states to effectively collapse the sequence dimenension and ensure the same output size for any given sequence before feeding into the classification stage\n",
        "\n",
        "Note that we preprocess all of the data prior to training a classifier stage for sentiment analysis to help speed up the training process. This is no different from the process we applied in an earlier assignment using AlexNet and image data."
      ],
      "metadata": {
        "id": "7HCaqLDaZo2l"
      }
    },
    {
      "cell_type": "markdown",
      "source": [
        "## Part 1. Data Loading [5 pt]\n",
        "\n",
        "We will be using the same \"IMDB Movie Review Dataset\" that we used earlier. Reload the data and complete Part B of the assignment. You should be able to complete part B independently from Part A.\n",
        "\n",
        "### Part (i) [1pt EXPLORATORY]\n",
        "\n",
        "Provided below is a DataLoader for your training and test datasets so you can iterate over batches of data. Run the DataLoader to create your training, validation, and test data."
      ],
      "metadata": {
        "id": "4le9bqnuc2JZ"
      }
    },
    {
      "cell_type": "code",
      "source": [
        "from torch.utils.data import Dataset, DataLoader\n",
        "\n",
        "class MovieReviewDataset(Dataset):\n",
        "    def __init__(\n",
        "        self,\n",
        "        reviews,\n",
        "        targets,\n",
        "        tokenizer,\n",
        "        max_len,\n",
        "        bert_model=None,\n",
        "        embed_folder='embeddings',\n",
        "        precompute=True\n",
        "    ):\n",
        "        \"\"\"\n",
        "        reviews     : array/list of text data\n",
        "        targets     : array/list of 'positive'/'negative' labels\n",
        "        tokenizer   : BERT tokenizer\n",
        "        max_len     : maximum sequence length for tokenization\n",
        "        bert_model  : a BERT model for generating embeddings (if precompute=True)\n",
        "        embed_folder: folder to store .pt files of precomputed embeddings\n",
        "        precompute  : True -> generate & save embeddings, False -> load from disk only\n",
        "        \"\"\"\n",
        "        self.reviews = reviews\n",
        "        self.targets = targets\n",
        "        self.tokenizer = tokenizer\n",
        "        self.max_len = max_len\n",
        "        self.bert_model = bert_model\n",
        "        self.embed_folder = embed_folder\n",
        "        self.precompute = precompute\n",
        "\n",
        "        # Create the folder if it doesn't exist\n",
        "        if not os.path.exists(self.embed_folder):\n",
        "            os.makedirs(self.embed_folder)\n",
        "\n",
        "        if self.precompute and (self.bert_model is not None):\n",
        "            self._precompute_embeddings()\n",
        "\n",
        "    def __len__(self):\n",
        "        return len(self.reviews)\n",
        "\n",
        "    def __getitem__(self, idx):\n",
        "        \"\"\"\n",
        "        Returns a dictionary with:\n",
        "          - 'review_text'   : original text (optional, for reference)\n",
        "          - 'pooled_output' : [768]-dim embedding from BERT\n",
        "          - 'last_hidden'   : [seq_len, 768] from the last hidden layer\n",
        "          - 'targets'       : 0 or 1\n",
        "        \"\"\"\n",
        "        review = str(self.reviews[idx])\n",
        "        target = 1 if self.targets[idx] == 'positive' else 0\n",
        "\n",
        "        embed_path = os.path.join(self.embed_folder, f'embedding_{idx}.pt')\n",
        "        # Load precomputed embeddings\n",
        "        embedding_dict = torch.load(embed_path)\n",
        "\n",
        "        return {\n",
        "            'review_text': review,\n",
        "            'pooled_output': embedding_dict['pooled'],\n",
        "            'last_hidden': embedding_dict['last'],\n",
        "            'targets': torch.tensor(target, dtype=torch.long)\n",
        "        }\n",
        "\n",
        "\n",
        "    def _precompute_embeddings(self, batch_size=256, device=\"cuda\"):\n",
        "        \"\"\"\n",
        "        Precompute embeddings in batches rather than one by one.\n",
        "        \"\"\"\n",
        "        # Move the model to device (CPU/GPU)\n",
        "        self.bert_model = self.bert_model.to(device)\n",
        "        self.bert_model.eval()\n",
        "\n",
        "        print(\"Precomputing BERT embeddings (batched)...\")\n",
        "\n",
        "        # 1) Tokenize everything\n",
        "        encodings = [self.tokenizer.encode_plus(\n",
        "            str(review),\n",
        "            add_special_tokens=True,\n",
        "            max_length=self.max_len,\n",
        "            return_token_type_ids=False,\n",
        "            pad_to_max_length=True,\n",
        "            return_attention_mask=True,\n",
        "            return_tensors='pt',\n",
        "            truncation=True\n",
        "        ) for review in self.reviews]\n",
        "        input_ids = torch.cat([e['input_ids'] for e in encodings], dim=0)\n",
        "        attention_masks = torch.cat([e['attention_mask'] for e in encodings], dim=0)\n",
        "\n",
        "        # 2) Create a TensorDataset and DataLoader\n",
        "        dataset_tensors = TensorDataset(input_ids, attention_masks)\n",
        "        dataloader = DataLoader(dataset_tensors, batch_size=batch_size, shuffle=False)\n",
        "\n",
        "        # We'll need to index back into `self.reviews` to save each sample’s .pt\n",
        "        idx_offset = 0\n",
        "\n",
        "        for batch in tqdm(dataloader, total=len(dataloader)):\n",
        "            input_ids, attention_mask = [t.to(device) for t in batch]\n",
        "\n",
        "            with torch.no_grad():\n",
        "                outputs = self.bert_model(\n",
        "                    input_ids=input_ids,\n",
        "                    attention_mask=attention_mask,\n",
        "                    output_hidden_states=True\n",
        "                )\n",
        "            # outputs.pooler_output.shape is [batch_size, hidden_dim]\n",
        "            # outputs.hidden_states[-1].shape is [batch_size, seq_len, hidden_dim]\n",
        "\n",
        "            pooled_output_batch = outputs.pooler_output.detach().cpu()\n",
        "            last_hidden_batch = outputs.hidden_states[-1].detach().cpu()\n",
        "\n",
        "            # 3) Save each sample in the batch\n",
        "            for i in range(len(input_ids)):\n",
        "                sample_idx = idx_offset + i\n",
        "                embed_path = os.path.join(self.embed_folder, f'embedding_{sample_idx}.pt')\n",
        "\n",
        "                # Skip if already exists (optional check)\n",
        "                if os.path.isfile(embed_path):\n",
        "                    continue\n",
        "\n",
        "                embedding_dict = {\n",
        "                    'pooled': pooled_output_batch[i].detach().cpu().clone(),\n",
        "                    'last': last_hidden_batch[i].detach().cpu().clone()\n",
        "                }\n",
        "\n",
        "                torch.save(embedding_dict, embed_path)\n",
        "\n",
        "            idx_offset += len(input_ids)\n",
        "\n",
        "        print(\"Done precomputing embeddings.\")"
      ],
      "metadata": {
        "id": "LzlpaXmteHQd"
      },
      "outputs": [],
      "execution_count": 4
    },
    {
      "cell_type": "code",
      "source": [
        "df = pd.read_csv(\"IMDB Dataset.csv\")\n",
        "train_df, temp_df = train_test_split(df, test_size=0.4, random_state=123, stratify=df['sentiment'])\n",
        "valid_df, test_df = train_test_split(temp_df, test_size=0.5, random_state=123, stratify=temp_df['sentiment'])"
      ],
      "metadata": {
        "id": "uYtFjzQIFkeX"
      },
      "execution_count": 5,
      "outputs": []
    },
    {
      "cell_type": "code",
      "source": [
        "# prepare data loaders\n",
        "MAX_LEN = 400\n",
        "BATCH_SIZE = 16\n",
        "\n",
        "#training data\n",
        "train_dataset = MovieReviewDataset(\n",
        "    reviews=train_df['review'].values,\n",
        "    targets=train_df['sentiment'].values,\n",
        "    tokenizer=tokenizer,\n",
        "    max_len=MAX_LEN,\n",
        "    bert_model=bert_model,       # required if we want to precompute now\n",
        "    embed_folder='train_embeds', # folder to save embeddings\n",
        "    precompute=True              # set to True so we generate them\n",
        ")\n",
        "\n",
        "train_data_loader = DataLoader(\n",
        "    train_dataset,\n",
        "    batch_size=BATCH_SIZE,\n",
        "    num_workers=4\n",
        ")\n",
        "\n",
        "#validation data\n",
        "valid_dataset = MovieReviewDataset(\n",
        "    reviews=valid_df['review'].values,\n",
        "    targets=valid_df['sentiment'].values,\n",
        "    tokenizer=tokenizer,\n",
        "    max_len=MAX_LEN,\n",
        "    bert_model=bert_model,       # required if we want to precompute now\n",
        "    embed_folder='valid_embeds', # folder to save embeddings\n",
        "    precompute=True)              # set to True so we generate them\n",
        "\n",
        "valid_data_loader = DataLoader(\n",
        "    valid_dataset,\n",
        "    batch_size=BATCH_SIZE,\n",
        "    num_workers=4)\n",
        "\n",
        "#test data\n",
        "test_dataset = MovieReviewDataset(\n",
        "    reviews=test_df['review'].values,\n",
        "    targets=test_df['sentiment'].values,\n",
        "    tokenizer=tokenizer,\n",
        "    max_len=MAX_LEN,\n",
        "    bert_model=bert_model,       # required if we want to precompute now\n",
        "    embed_folder='test_embeds', # folder to save embeddings\n",
        "    precompute=True)              # set to True so we generate them\n",
        "\n",
        "test_data_loader = DataLoader(\n",
        "    test_dataset,\n",
        "    batch_size=BATCH_SIZE,\n",
        "    num_workers=4)"
      ],
      "metadata": {
        "colab": {
          "base_uri": "https://localhost:8080/"
        },
        "id": "SZt9Xr2BIL16",
        "outputId": "9361d11b-5cee-4177-a068-7dd8c54769d1"
      },
      "execution_count": null,
      "outputs": [
        {
          "output_type": "stream",
          "name": "stdout",
          "text": [
            "Precomputing BERT embeddings (batched)...\n"
          ]
        },
        {
          "output_type": "stream",
          "name": "stderr",
          "text": [
            "/usr/local/lib/python3.11/dist-packages/transformers/tokenization_utils_base.py:2681: FutureWarning: The `pad_to_max_length` argument is deprecated and will be removed in a future version, use `padding=True` or `padding='longest'` to pad to the longest sequence in the batch, or use `padding='max_length'` to pad to a max length. In this case, you can give a specific length with `max_length` (e.g. `max_length=45`) or leave max_length to None to pad to the maximal input size of the model (e.g. 512 for Bert).\n",
            "  warnings.warn(\n",
            "100%|██████████| 32/32 [03:56<00:00,  7.40s/it]\n",
            "/usr/local/lib/python3.11/dist-packages/torch/utils/data/dataloader.py:624: UserWarning: This DataLoader will create 4 worker processes in total. Our suggested max number of worker in current system is 2, which is smaller than what this DataLoader is going to create. Please be aware that excessive worker creation might get DataLoader running slow or even freeze, lower the worker number to avoid potential slowness/freeze if necessary.\n",
            "  warnings.warn(\n"
          ]
        },
        {
          "output_type": "stream",
          "name": "stdout",
          "text": [
            "Done precomputing embeddings.\n",
            "Precomputing BERT embeddings (batched)...\n"
          ]
        },
        {
          "output_type": "stream",
          "name": "stderr",
          "text": [
            "100%|██████████| 32/32 [03:58<00:00,  7.46s/it]"
          ]
        },
        {
          "output_type": "stream",
          "name": "stdout",
          "text": [
            "Done precomputing embeddings.\n"
          ]
        },
        {
          "output_type": "stream",
          "name": "stderr",
          "text": [
            "\n"
          ]
        }
      ]
    },
    {
      "cell_type": "markdown",
      "source": [
        "### Part (ii) [1pt EXPLORATORY]\n",
        "\n",
        "Use the **train_data_loader** to load one sample. What are the different attributes provided with the sample and how are they used?"
      ],
      "metadata": {
        "id": "g0ymyMvzfdVv"
      }
    },
    {
      "cell_type": "code",
      "source": [
        "# TO BE COMPLETED\n",
        "# Get one batch\n",
        "sample_batch = next(iter(train_data_loader))\n",
        "\n",
        "# For example, if your DataLoader returns a dictionary where each key maps to a batch of values:\n",
        "sample = {key: value[0] for key, value in sample_batch.items()}\n",
        "\n",
        "print(\"Review Text:\", sample['review_text'])\n",
        "print(\"Pooled Output shape:\", sample['pooled_output'].shape)\n",
        "print(\"Last Hidden shape:\", sample['last_hidden'].shape)\n",
        "print(\"Target:\", sample['targets'])"
      ],
      "metadata": {
        "id": "UgdwGNtik1ZR",
        "colab": {
          "base_uri": "https://localhost:8080/"
        },
        "outputId": "1bb72536-28e8-49cc-ff50-5f8b998d2314"
      },
      "outputs": [
        {
          "output_type": "stream",
          "name": "stdout",
          "text": [
            "Review Text: Sorry my fellow Nevada City neighbors, but this one is bad.<br /><br />Brian must have had too much botox because he had very little facial expressions through out the entire movie.<br /><br />Alice looked like she had a board strapped to her backside. She was stiff throughout the movie.<br /><br />I looked up both Alice and Brian and was surprised to see the extensive bio of work. I would have guessed that they were first-year students.<br /><br />Ed Asner and Peter Jason carried the movie frankly with their banter and ease with every line. Ed certainly has not lost his charisma. I wish I'd taken the time to meet him while he was here.<br /><br />I love the snow scenes and scenes of stores and the church because I've been there. I make Nevada City my home and was anxiously awaiting the premiere. I was sadly disappointed.<br /><br />Sorry.\n",
            "Pooled Output shape: torch.Size([768])\n",
            "Last Hidden shape: torch.Size([400, 768])\n",
            "Target: tensor(0)\n"
          ]
        }
      ],
      "execution_count": null
    },
    {
      "cell_type": "code",
      "source": [
        "'''\n",
        "PROVIDE YOUR ANSWER BELOW\n",
        "\n",
        "pooled_output: It is used as the input for a classifier (like a fully connected layer) to perform sentiment analysis.\n",
        "It encapsulates the overall semantic representation of the review.\n",
        "\n",
        "last_hidden: can be further processed.\n",
        "For instance, might use attention mechanisms, pooling strategies (mean or max pooling), or additional layers to extract token-level features.\n",
        "\n",
        "Targets are used during training to compute the loss against the model’s predictions.\n",
        "\n",
        "This structure allows to effectively decouple the heavy computation (BERT embeddings) from the training loop, speeding up training while retaining useful metadata for analysis.\n",
        "'''"
      ],
      "metadata": {
        "id": "OOVKM8kPdPwC"
      },
      "outputs": [],
      "execution_count": null
    },
    {
      "cell_type": "markdown",
      "source": [
        "### Part (iii) [1pt EXPLORATORY]\n",
        "\n",
        "Determine the range of values for the tokens in the training data. How are the tokens obtained?\n",
        "\n",
        "Hint: You can apply your intuition here, or do some additional research to find how the \"bert-base-cased\" tokenization is done."
      ],
      "metadata": {
        "id": "GXQt2HiGfh4p"
      }
    },
    {
      "cell_type": "code",
      "source": [
        "# TO BE COMPLETED\n",
        "from transformers import BertTokenizer\n",
        "tokenizer = BertTokenizer.from_pretrained(\"bert-base-cased\")\n",
        "\n",
        "training_reviews = train_df['review']\n",
        "\n",
        "# Tokenize all reviews\n",
        "encoded_inputs = tokenizer.batch_encode_plus(\n",
        "    training_reviews,\n",
        "    add_special_tokens=True,  # Add [CLS] and [SEP] tokens\n",
        "    max_length=512,  # Set max token length\n",
        "    padding=True,  # Pad sequences to the same length\n",
        "    truncation=True,  # Truncate if longer than max_length\n",
        "    return_attention_mask=True,  # Return attention masks\n",
        "    return_tensors='pt'  # Return PyTorch tensors\n",
        ")\n",
        "\n",
        "# Extract tokenized data\n",
        "input_ids = encoded_inputs[\"input_ids\"]\n",
        "attention_masks = encoded_inputs[\"attention_mask\"]\n",
        "\n",
        "print(\"Token IDs:\", input_ids)\n",
        "print(\"Attention Masks:\", attention_masks)"
      ],
      "metadata": {
        "colab": {
          "base_uri": "https://localhost:8080/"
        },
        "id": "ofAA9Cz5fxHX",
        "outputId": "116965ef-3d99-4574-d76b-29c420d43364"
      },
      "execution_count": null,
      "outputs": [
        {
          "output_type": "stream",
          "name": "stdout",
          "text": [
            "Token IDs: tensor([[ 101, 6502, 1139,  ...,    0,    0,    0],\n",
            "        [ 101, 1188, 2523,  ...,    0,    0,    0],\n",
            "        [ 101,  146,  112,  ...,    0,    0,    0],\n",
            "        ...,\n",
            "        [ 101, 3446,  146,  ...,    0,    0,    0],\n",
            "        [ 101,  138, 1263,  ...,    0,    0,    0],\n",
            "        [ 101,  120, 1109,  ...,    0,    0,    0]])\n",
            "Attention Masks: tensor([[1, 1, 1,  ..., 0, 0, 0],\n",
            "        [1, 1, 1,  ..., 0, 0, 0],\n",
            "        [1, 1, 1,  ..., 0, 0, 0],\n",
            "        ...,\n",
            "        [1, 1, 1,  ..., 0, 0, 0],\n",
            "        [1, 1, 1,  ..., 0, 0, 0],\n",
            "        [1, 1, 1,  ..., 0, 0, 0]])\n"
          ]
        }
      ]
    },
    {
      "cell_type": "code",
      "source": [
        "# Convert to NumPy array\n",
        "token_ids = input_ids.numpy().flatten()\n",
        "\n",
        "# Get min and max token ID\n",
        "min_token_id = np.min(token_ids)\n",
        "max_token_id = np.max(token_ids)\n",
        "vocab_size = tokenizer.vocab_size\n",
        "\n",
        "# Print results\n",
        "print(f\"Minimum Token ID: {min_token_id}\")\n",
        "print(f\"Maximum Token ID: {max_token_id}\")\n",
        "print(f\"Range of token IDs: {min_token_id} to {max_token_id}\")\n",
        "print(f\"Vocabulary Size: {vocab_size}\")"
      ],
      "metadata": {
        "colab": {
          "base_uri": "https://localhost:8080/"
        },
        "id": "z2HMIFHtf0a7",
        "outputId": "576ae56c-0719-4b7e-c088-a8e974c4a1a5"
      },
      "execution_count": null,
      "outputs": [
        {
          "output_type": "stream",
          "name": "stdout",
          "text": [
            "Minimum Token ID: 0\n",
            "Maximum Token ID: 28466\n",
            "Range of token IDs: 0 to 28466\n",
            "Vocabulary Size: 28996\n"
          ]
        }
      ]
    },
    {
      "cell_type": "code",
      "source": [
        "'''\n",
        "PROVIDE YOUR ANSWER BELOW\n",
        "\n",
        "The tokens are obtained by passing each review through the bert-base-cased tokenizer. This tokenizer uses the WordPiece algorithm, which breaks words into subword units when a word isn’t in its vocabulary.\n",
        "Each (sub)token is then converted to its corresponding index from the tokenizer’s vocabulary. For bert-base-cased, the vocabulary size is 28,996.\n",
        "For the training dataset, the range of token is from 0 to 28466\n",
        "\n",
        "'''"
      ],
      "metadata": {
        "id": "Im2KNoOPdYHU"
      },
      "outputs": [],
      "execution_count": null
    },
    {
      "cell_type": "markdown",
      "source": [
        "### Part (iv) [1pt EXPLORATORY]\n",
        "\n",
        "Generate histograms of all the token values in the training data. Repeat for the validation and test data. What are the top 5 occuring tokens in the training_dataset? What do these tokens represent?"
      ],
      "metadata": {
        "id": "6CYKglzbfTmw"
      }
    },
    {
      "cell_type": "code",
      "source": [
        "# TO BE COMPLETED\n",
        "# Generate histogram for training data\n",
        "plt.figure(figsize=(12, 6))\n",
        "plt.hist(token_ids, bins=50, color='blue', alpha=0.7, edgecolor='black')\n",
        "plt.xlabel(\"Token ID\")\n",
        "plt.ylabel(\"Frequency\")\n",
        "plt.title(\"Histogram of Token Values in Training Data\")\n",
        "plt.show()"
      ],
      "metadata": {
        "id": "HTZdkR7ukhRg",
        "colab": {
          "base_uri": "https://localhost:8080/",
          "height": 564
        },
        "outputId": "d4456b3a-48a5-4d91-fbc3-b5abf16910ab"
      },
      "outputs": [
        {
          "output_type": "display_data",
          "data": {
            "text/plain": [
              "<Figure size 1200x600 with 1 Axes>"
            ],
            "image/png": "[encoded data removed]"
          },
          "metadata": {}
        }
      ],
      "execution_count": null
    },
    {
      "cell_type": "code",
      "source": [
        "import numpy as np\n",
        "import matplotlib.pyplot as plt\n",
        "from collections import Counter\n",
        "from transformers import BertTokenizer\n",
        "\n",
        "tokenizer = BertTokenizer.from_pretrained(\"bert-base-cased\")\n",
        "training_reviews = train_df['review'].tolist()\n",
        "encoded_inputs = tokenizer.batch_encode_plus(\n",
        "    training_reviews,\n",
        "    add_special_tokens=True,  # Adds [CLS] and [SEP] tokens\n",
        "    max_length=512,  # Standard BERT max length\n",
        "    padding=True,  # Pads sequences to the same length\n",
        "    truncation=True,  # Truncates long sequences\n",
        "    return_tensors='pt'  # Returns PyTorch tensors\n",
        ")\n",
        "\n",
        "token_ids = encoded_inputs[\"input_ids\"].cpu().numpy().flatten()\n",
        "token_counts = Counter(token_ids)\n",
        "top_5_tokens = token_counts.most_common(6)\n",
        "top_5_tokens_with_text = [(tokenizer.convert_ids_to_tokens([t[0]])[0], t[0], t[1]) for t in top_5_tokens]\n",
        "\n",
        "# Extract token names, IDs, and frequencies\n",
        "tokens = [t[0] for t in top_5_tokens_with_text]  # Extract token names\n",
        "token_ids = [t[1] for t in top_5_tokens_with_text]  # Extract token IDs\n",
        "frequencies = [t[2] for t in top_5_tokens_with_text]  # Extract frequencies\n",
        "\n",
        "# Print results\n",
        "print(\"Top 5 Most Frequent Tokens in Training Data:\")\n",
        "for token_text, token_id, count in top_5_tokens_with_text:\n",
        "    print(f\"Token: {token_text} (ID: {token_id}) - Frequency: {count}\")\n",
        "\n",
        "# Plot histogram of top 5 tokens\n",
        "plt.figure(figsize=(10, 5))\n",
        "plt.bar(tokens, frequencies, color='blue', alpha=0.7, edgecolor='black')\n",
        "plt.xlabel(\"Token\")\n",
        "plt.ylabel(\"Frequency\")\n",
        "plt.title(\"Top 5 Most Frequent Tokens in Training Data\")\n",
        "plt.xticks(rotation=45)\n",
        "plt.show()"
      ],
      "metadata": {
        "colab": {
          "base_uri": "https://localhost:8080/",
          "height": 631
        },
        "id": "scbo9I8YnAHi",
        "outputId": "c0f5b8e5-a815-4479-e1f4-a79eb19e3d92"
      },
      "execution_count": null,
      "outputs": [
        {
          "output_type": "stream",
          "name": "stdout",
          "text": [
            "Top 5 Most Frequent Tokens in Training Data:\n",
            "Token: [PAD] (ID: 0) - Frequency: 5587446\n",
            "Token: . (ID: 119) - Frequency: 275755\n",
            "Token: the (ID: 1103) - Frequency: 240615\n",
            "Token: , (ID: 117) - Frequency: 226975\n",
            "Token: a (ID: 170) - Frequency: 133257\n",
            "Token: and (ID: 1105) - Frequency: 131270\n"
          ]
        },
        {
          "output_type": "display_data",
          "data": {
            "text/plain": [
              "<Figure size 1000x500 with 1 Axes>"
            ],
            "image/png": "[encoded data removed]"
          },
          "metadata": {}
        }
      ]
    },
    {
      "cell_type": "code",
      "source": [
        "import numpy as np\n",
        "from transformers import BertTokenizer\n",
        "\n",
        "# Load BERT tokenizer\n",
        "tokenizer = BertTokenizer.from_pretrained(\"bert-base-cased\")\n",
        "\n",
        "training_reviews = valid_df['review'].tolist()  # Ensure it's a list of strings\n",
        "\n",
        "# Tokenize all reviews\n",
        "encoded_inputs = tokenizer.batch_encode_plus(\n",
        "    training_reviews,\n",
        "    add_special_tokens=True,  # Add [CLS] and [SEP] tokens\n",
        "    max_length=512,  # Set max token length\n",
        "    padding=True,  # Pad sequences to the same length\n",
        "    truncation=True,  # Truncate if longer than max_length\n",
        "    return_tensors='pt'  # Return PyTorch tensors\n",
        ")\n",
        "\n",
        "# Extract tokenized data (Ensure it's on CPU before converting to NumPy)\n",
        "input_ids = encoded_inputs[\"input_ids\"]\n",
        "token_ids = input_ids.numpy().flatten()\n",
        "\n",
        "plt.figure(figsize=(12, 6))\n",
        "plt.hist(token_ids, bins=50, color='blue', alpha=0.7, edgecolor='black')\n",
        "plt.xlabel(\"Token ID\")\n",
        "plt.ylabel(\"Frequency\")\n",
        "plt.title(\"Histogram of Token Values in Validation Data\")\n",
        "plt.show()\n"
      ],
      "metadata": {
        "colab": {
          "base_uri": "https://localhost:8080/",
          "height": 564
        },
        "id": "2wAezmNjjC72",
        "outputId": "afcf2347-016b-48f0-b1cc-5b13d11725aa"
      },
      "execution_count": null,
      "outputs": [
        {
          "output_type": "display_data",
          "data": {
            "text/plain": [
              "<Figure size 1200x600 with 1 Axes>"
            ],
            "image/png": "[encoded data removed]"
          },
          "metadata": {}
        }
      ]
    },
    {
      "cell_type": "code",
      "source": [
        "import numpy as np\n",
        "from transformers import BertTokenizer\n",
        "\n",
        "# Load BERT tokenizer\n",
        "tokenizer = BertTokenizer.from_pretrained(\"bert-base-cased\")\n",
        "\n",
        "training_reviews = test_df['review'].tolist()  # Ensure it's a list of strings\n",
        "\n",
        "# Tokenize all reviews\n",
        "encoded_inputs = tokenizer.batch_encode_plus(\n",
        "    training_reviews,\n",
        "    add_special_tokens=True,  # Add [CLS] and [SEP] tokens\n",
        "    max_length=512,  # Set max token length\n",
        "    padding=True,  # Pad sequences to the same length\n",
        "    truncation=True,  # Truncate if longer than max_length\n",
        "    return_tensors='pt'  # Return PyTorch tensors\n",
        ")\n",
        "\n",
        "# Extract tokenized data (Ensure it's on CPU before converting to NumPy)\n",
        "input_ids = encoded_inputs[\"input_ids\"]\n",
        "token_ids = input_ids.numpy().flatten()\n",
        "\n",
        "plt.figure(figsize=(12, 6))\n",
        "plt.hist(token_ids, bins=50, color='blue', alpha=0.7, edgecolor='black')\n",
        "plt.xlabel(\"Token ID\")\n",
        "plt.ylabel(\"Frequency\")\n",
        "plt.title(\"Histogram of Token Values in Test Data\")\n",
        "plt.show()"
      ],
      "metadata": {
        "colab": {
          "base_uri": "https://localhost:8080/",
          "height": 564
        },
        "id": "3KyL2zUhjgkv",
        "outputId": "08977050-f5c4-4e3d-bbfb-a665c042531a"
      },
      "execution_count": null,
      "outputs": [
        {
          "output_type": "display_data",
          "data": {
            "text/plain": [
              "<Figure size 1200x600 with 1 Axes>"
            ],
            "image/png": "[encoded data removed]"
          },
          "metadata": {}
        }
      ]
    },
    {
      "cell_type": "code",
      "source": [
        "'''\n",
        "PROVIDE YOUR ANSWER BELOW\n",
        "\n",
        "The most common token is [PAD] (ID: 0) because BERT requires padding to handle variable-length inputs.\n",
        "Punctuation (. and ,) ranks highly because reviews contain a lot of structured text.\n",
        "Basic English words like \"the\", \"a\", and \"and\" are frequent because they are essential to sentence formation.\n",
        "The results match expectations, showing that preprocessing steps like tokenization and padding significantly affect token frequency.\n",
        "\n",
        "'''"
      ],
      "metadata": {
        "id": "fS1c0a6wddHl"
      },
      "outputs": [],
      "execution_count": null
    },
    {
      "cell_type": "markdown",
      "source": [
        "### Part (v) [1pt EXPLORATORY]\n",
        "\n",
        "Select a single sample from your training DataLoader and feed it through the **bert_model** to obtain the hidden_states and pooled_output. Briefly describe what each tensor dimension represents and what affects the size of each dimension."
      ],
      "metadata": {
        "id": "3ElnJDdgcaiy"
      }
    },
    {
      "cell_type": "code",
      "source": [
        "# TO BE COMPLETED\n",
        "import torch\n",
        "from transformers import BertModel, BertTokenizer\n",
        "\n",
        "# Load the BERT model and tokenizer\n",
        "bert_model = BertModel.from_pretrained(\"bert-base-cased\")\n",
        "tokenizer = BertTokenizer.from_pretrained(\"bert-base-cased\")\n",
        "\n",
        "# Select a single sample from the DataLoader\n",
        "sample_text = train_df['review'].iloc[0]  # Selecting the first review\n",
        "encoded_sample = tokenizer.encode_plus(\n",
        "    sample_text,\n",
        "    add_special_tokens=True,\n",
        "    max_length=512,\n",
        "    padding=\"max_length\",\n",
        "    truncation=True,\n",
        "    return_tensors=\"pt\")\n",
        "\n",
        "# Extract input IDs and attention mask\n",
        "input_ids = encoded_sample[\"input_ids\"]\n",
        "attention_mask = encoded_sample[\"attention_mask\"]\n",
        "\n",
        "# Pass through BERT to get hidden states & pooled output\n",
        "with torch.no_grad():\n",
        "    outputs = bert_model(input_ids, attention_mask=attention_mask)\n",
        "    hidden_states = outputs.last_hidden_state # Shape: (batch_size, seq_length, hidden_dim)\n",
        "    pooled_output = outputs.pooler_output # Shape: (batch_size, hidden_dim)\n",
        "\n",
        "# Print tensor shapes\n",
        "print(f\"Hidden States Shape: {hidden_states.shape}\")\n",
        "print(f\"Pooled Output Shape: {pooled_output.shape}\")"
      ],
      "metadata": {
        "id": "1HOknY9Ncai9",
        "colab": {
          "base_uri": "https://localhost:8080/"
        },
        "outputId": "4c61e27b-e744-412d-97c3-8570a654f1a9"
      },
      "outputs": [
        {
          "output_type": "stream",
          "name": "stdout",
          "text": [
            "Hidden States Shape: torch.Size([1, 512, 768])\n",
            "Pooled Output Shape: torch.Size([1, 768])\n"
          ]
        }
      ],
      "execution_count": null
    },
    {
      "cell_type": "code",
      "source": [
        "'''\n",
        "PROVIDE YOUR ANSWER BELOW\n",
        "\n",
        "Hidden States (torch.Size([1, 512, 768]))\n",
        "1 is the batch size\n",
        "512 is the sequence length\n",
        "768 is hidden dimension\n",
        "hidden states store contextualized word representations for each token in the input sequence. Each token (word or subword) gets a 768-dimensional vector that changes depending on the context.\n",
        "\n",
        "Pooled Output (torch.Size([1, 768]))\n",
        "1 is batch size\n",
        "768 is hidden size\n",
        "\n",
        "The pooled output represents the [CLS] token embedding, which serves as a summary representation of the entire input sequence. It is commonly used for classification tasks.\n",
        "\n",
        "'''"
      ],
      "metadata": {
        "id": "34OnAb9EdjtW"
      },
      "outputs": [],
      "execution_count": null
    },
    {
      "cell_type": "markdown",
      "source": [
        "## Part 2. Model Architecture [2 pt]\n",
        "\n",
        "### Part (i) [1pt MODEL]\n",
        "\n",
        "Prepare a review classifier model that builds on the pooled output from the Bert model to identify positive and negative reviews.\n",
        "\n",
        "\n",
        "An example is provided below in `BaselineSentimentClassifierPooled`, which you can use for inspiration. However, you should build your own model."
      ],
      "metadata": {
        "id": "rDbQ7nRBek5S"
      }
    },
    {
      "cell_type": "code",
      "source": [
        "class BaselineSentimentClassifierPooled(nn.Module):\n",
        "    def __init__(self, n_classes):\n",
        "        super(BaselineSentimentClassifierPooled, self).__init__()\n",
        "        self.linear = nn.Linear(768, n_classes)\n",
        "\n",
        "    def forward(self, pooled_embedding):\n",
        "        \"\"\"\n",
        "        pooled_embedding: shape [batch_size, 768]\n",
        "        \"\"\"\n",
        "        outputs = self.linear(pooled_embedding)\n",
        "        return outputs"
      ],
      "metadata": {
        "id": "gNDd-010GSnM"
      },
      "execution_count": null,
      "outputs": []
    },
    {
      "cell_type": "code",
      "source": [
        "class SentimentClassifierPooled(nn.Module):\n",
        "    def __init__(self, n_classes):\n",
        "        super(SentimentClassifierPooled, self).__init__()\n",
        "        self.fc1 = nn.Linear(768, 256)  # First hidden layer\n",
        "        self.relu = nn.ReLU()\n",
        "        self.dropout = nn.Dropout(p=0.3)  # Dropout for regularization\n",
        "        self.fc2 = nn.Linear(256, n_classes)  # Output layer\n",
        "\n",
        "    def forward(self, pooled_embedding):\n",
        "        \"\"\"\n",
        "        pooled_embedding: shape [batch_size, 768] (from BERT)\n",
        "        \"\"\"\n",
        "        x = self.fc1(pooled_embedding)  # First FC layer\n",
        "        x = self.relu(x)  # Apply ReLU activation\n",
        "        x = self.dropout(x)  # Apply dropout\n",
        "        x = self.fc2(x)  # Output layer\n",
        "        return x  # Output logits (before softmax)"
      ],
      "metadata": {
        "id": "Y_k06uaQvxFJ"
      },
      "execution_count": null,
      "outputs": []
    },
    {
      "cell_type": "markdown",
      "source": [
        "### Part (ii) [1pt MODEL]\n",
        "\n",
        "Construct the architecture for a review classifier model that uses the last hidden output from the Bert model to identify positive and negative reviews.\n",
        "\n",
        "An example is provided below in `BaselineSentimentClassifierLast`, which you can use for inspiration . However, you should build your own model.\n"
      ],
      "metadata": {
        "id": "RLFzooLUgn3c"
      }
    },
    {
      "cell_type": "code",
      "source": [
        "class BaselineSentimentClassifierLast(nn.Module):\n",
        "    def __init__(self, n_classes):\n",
        "        super(BaselineSentimentClassifierLast, self).__init__()\n",
        "        # Again, no BERT directly needed if using precomputed data\n",
        "        self.linear = nn.Linear(768, n_classes)\n",
        "\n",
        "\n",
        "    def forward(self, last_hidden):\n",
        "        \"\"\"\n",
        "        last_hidden: shape [batch_size, seq_len, 768]\n",
        "        We'll do a simple max-pool across seq_len dimension => shape [batch_size, 768]\n",
        "        \"\"\"\n",
        "        # last_hidden has shape [B, T, 768]\n",
        "        # we want max across T => shape [B, 768]\n",
        "        x, _ = torch.max(last_hidden, dim=1)\n",
        "        x = self.dropout(x)\n",
        "        outputs = self.linear(x)\n",
        "        return outputs\n"
      ],
      "metadata": {
        "id": "pqDKQse6H-Y6"
      },
      "execution_count": null,
      "outputs": []
    },
    {
      "cell_type": "code",
      "source": [
        "class SentimentClassifierLast(nn.Module):\n",
        "    def __init__(self, n_classes):\n",
        "        super(SentimentClassifierLast, self).__init__()\n",
        "        self.dropout = nn.Dropout(p=0.3)  # Dropout for regularization\n",
        "        self.fc1 = nn.Linear(768, 256)  # First fully connected layer\n",
        "        self.relu = nn.ReLU()\n",
        "        self.fc2 = nn.Linear(256, n_classes)  # Output layer\n",
        "\n",
        "    def forward(self, last_hidden):\n",
        "        \"\"\"\n",
        "        last_hidden: shape [batch_size, seq_length, 768]\n",
        "        We'll apply max-pooling + mean-pooling across the seq_length dimension\n",
        "        to get a sentence representation of shape [batch_size, 768]\n",
        "        \"\"\"\n",
        "        # Max pooling across sequence length\n",
        "        max_pooled, _ = torch.max(last_hidden, dim=1)  # Shape: [batch_size, 768]\n",
        "\n",
        "        # Mean pooling across sequence length\n",
        "        mean_pooled = torch.mean(last_hidden, dim=1)  # Shape: [batch_size, 768]\n",
        "\n",
        "        # Combine both pooling strategies\n",
        "        x = (max_pooled + mean_pooled) / 2  # Shape: [batch_size, 768]\n",
        "\n",
        "        # Apply dropout\n",
        "        x = self.dropout(x)\n",
        "\n",
        "        # Pass through fully connected layers\n",
        "        x = self.fc1(x)\n",
        "        x = self.relu(x)\n",
        "        x = self.dropout(x)\n",
        "        x = self.fc2(x)  # Output logits (before softmax)\n",
        "\n",
        "        return x"
      ],
      "metadata": {
        "id": "Q34oWGhoe38H"
      },
      "outputs": [],
      "execution_count": null
    },
    {
      "cell_type": "markdown",
      "metadata": {
        "id": "nqkKp1CgiYZb"
      },
      "source": [
        "## Part 3. Training [3 pt]\n",
        "\n",
        "### Part (i) [1pt MODEL]\n",
        "\n",
        "Complete the `get_accuracy` function, which will compute the\n",
        "accuracy (rate) of your model across a dataset (e.g. validation set)."
      ]
    },
    {
      "cell_type": "code",
      "source": [
        "def get_accuracy(model, data_loader, device):\n",
        "    \"\"\" Compute the accuracy of the `model` across a dataset `data`\n",
        "\n",
        "    Example usage:\n",
        "\n",
        "    >>> model = MyRNN() # to be defined\n",
        "    >>> get_accuracy(model, valid_loader) # the variable `valid_loader` is from above\n",
        "    \"\"\"\n",
        "    model.eval()  # Set model to evaluation mode\n",
        "    correct_predictions = 0\n",
        "    total_samples = 0\n",
        "\n",
        "    with torch.no_grad():  # Disable gradient calculation for efficiency\n",
        "        for batch in data_loader:\n",
        "            inputs, labels = batch  # Unpack batch\n",
        "            inputs, labels = inputs.to(device), labels.to(device)  # Move to device\n",
        "\n",
        "            outputs = model(inputs)  # Forward pass\n",
        "            _, predicted = torch.max(outputs, dim=1)  # Get class with highest probability\n",
        "\n",
        "            correct_predictions += (predicted == labels).sum().item()  # Count correct preds\n",
        "            total_samples += labels.size(0)  # Count total samples\n",
        "\n",
        "    accuracy = correct_predictions / total_samples  # Compute accuracy\n",
        "\n",
        "    return accuracy"
      ],
      "metadata": {
        "id": "dfli39-uwczR"
      },
      "execution_count": null,
      "outputs": []
    },
    {
      "cell_type": "markdown",
      "metadata": {
        "id": "ruaRg5JCiYZm"
      },
      "source": [
        "### Part (ii) [1pt MODEL]\n",
        "\n",
        "Write a function **train_model** to train your model. Plot the training curve of your final model.\n",
        "Your training curve should have the training/validation loss and\n",
        "accuracy plotted periodically."
      ]
    },
    {
      "cell_type": "code",
      "metadata": {
        "id": "wuqypAPxiYZm"
      },
      "source": [
        "def train_model(model, train_loader, valid_loader, criterion, optimizer, device, num_epochs=10):\n",
        "    model.to(device)\n",
        "    train_losses, train_accuracies = [], []\n",
        "    valid_losses, valid_accuracies = [], []\n",
        "\n",
        "    for epoch in range(num_epochs):\n",
        "        model.train()\n",
        "        running_loss = 0.0\n",
        "        correct_train, total_train = 0, 0\n",
        "\n",
        "        for batch in train_loader:\n",
        "            # ✅ Use correct keys for input embeddings\n",
        "            if isinstance(batch, dict):\n",
        "                if \"pooled_output\" in batch:\n",
        "                    inputs = batch[\"pooled_output\"]  # Use pooled BERT embeddings\n",
        "                elif \"last_hidden\" in batch:\n",
        "                    inputs = batch[\"last_hidden\"]  # Use last hidden state\n",
        "                else:\n",
        "                    raise KeyError(f\"Unexpected keys in batch: {batch.keys()}\")\n",
        "                labels = batch[\"targets\"]  # Correct labels key\n",
        "            elif len(batch) >= 2:\n",
        "                inputs, labels = batch[0], batch[1]\n",
        "            else:\n",
        "                raise ValueError(f\"Unexpected batch format: {batch}\")\n",
        "\n",
        "            inputs, labels = inputs.to(device), labels.to(device)\n",
        "\n",
        "            optimizer.zero_grad()\n",
        "            outputs = model(inputs)\n",
        "            loss = criterion(outputs, labels)\n",
        "            loss.backward()\n",
        "            optimizer.step()\n",
        "\n",
        "            running_loss += loss.item()\n",
        "            _, predicted = torch.max(outputs, dim=1)\n",
        "            correct_train += (predicted == labels).sum().item()\n",
        "            total_train += labels.size(0)\n",
        "\n",
        "        train_loss = running_loss / len(train_loader)\n",
        "        train_acc = correct_train / total_train\n",
        "        train_losses.append(train_loss)\n",
        "        train_accuracies.append(train_acc)\n",
        "\n",
        "        # Validation\n",
        "        model.eval()\n",
        "        correct_valid, total_valid, valid_loss = 0, 0, 0.0\n",
        "        with torch.no_grad():\n",
        "            for batch in valid_loader:\n",
        "                if isinstance(batch, dict):\n",
        "                    if \"pooled_output\" in batch:\n",
        "                        inputs = batch[\"pooled_output\"]\n",
        "                    elif \"last_hidden\" in batch:\n",
        "                        inputs = batch[\"last_hidden\"]\n",
        "                    else:\n",
        "                        raise KeyError(f\"Unexpected keys in batch: {batch.keys()}\")\n",
        "                    labels = batch[\"targets\"]\n",
        "                elif len(batch) >= 2:\n",
        "                    inputs, labels = batch[0], batch[1]\n",
        "                else:\n",
        "                    raise ValueError(f\"Unexpected batch format: {batch}\")\n",
        "\n",
        "                inputs, labels = inputs.to(device), labels.to(device)\n",
        "                outputs = model(inputs)\n",
        "                loss = criterion(outputs, labels)\n",
        "\n",
        "                valid_loss += loss.item()\n",
        "                _, predicted = torch.max(outputs, dim=1)\n",
        "                correct_valid += (predicted == labels).sum().item()\n",
        "                total_valid += labels.size(0)\n",
        "\n",
        "        valid_loss /= len(valid_loader)\n",
        "        valid_acc = correct_valid / total_valid\n",
        "        valid_losses.append(valid_loss)\n",
        "        valid_accuracies.append(valid_acc)\n",
        "\n",
        "        print(f\"Epoch {epoch+1}/{num_epochs} | Train Loss: {train_loss:.4f} | Train Acc: {train_acc:.4f} | \"\n",
        "              f\"Val Loss: {valid_loss:.4f} | Val Acc: {valid_acc:.4f}\")\n",
        "\n",
        "    return model\n"
      ],
      "outputs": [],
      "execution_count": null
    },
    {
      "cell_type": "code",
      "source": [
        "# Define model, loss function, and optimizer\n",
        "device = torch.device(\"cuda\" if torch.cuda.is_available() else \"cpu\")\n",
        "print(f\"Using device: {device}\")\n",
        "model = SentimentClassifierPooled(n_classes=2) # Use the classifier model\n",
        "criterion = nn.CrossEntropyLoss()  # Loss function\n",
        "optimizer = optim.Adam(model.parameters(), lr=0.0001) # Optimizer\n",
        "\n",
        "# Train the model and plot training curve\n",
        "trained_model = train_model(model, train_data_loader, valid_data_loader, criterion, optimizer, device, num_epochs=5)"
      ],
      "metadata": {
        "colab": {
          "base_uri": "https://localhost:8080/"
        },
        "id": "LQDiC5JDw_sN",
        "outputId": "575eb791-6a56-41cf-dec9-19ed3c5445bc"
      },
      "execution_count": null,
      "outputs": [
        {
          "output_type": "stream",
          "name": "stdout",
          "text": [
            "Using device: cuda\n",
            "Epoch 1/10 | Train Loss: 0.6272 | Train Acc: 0.6461 | Val Loss: 0.5780 | Val Acc: 0.7097\n",
            "Epoch 2/10 | Train Loss: 0.5651 | Train Acc: 0.7101 | Val Loss: 0.5411 | Val Acc: 0.7361\n",
            "Epoch 3/10 | Train Loss: 0.5367 | Train Acc: 0.7360 | Val Loss: 0.5161 | Val Acc: 0.7524\n",
            "Epoch 4/10 | Train Loss: 0.5183 | Train Acc: 0.7485 | Val Loss: 0.5085 | Val Acc: 0.7605\n"
          ]
        }
      ]
    },
    {
      "cell_type": "markdown",
      "metadata": {
        "id": "XVvzpQRWiYZm"
      },
      "source": [
        "### Part (iii) [1pt MODEL]\n",
        "\n",
        "Choose at least 4 hyperparameters to tune. Explain how you tuned the hyperparameters. You don't need to include your training curve for every model you trained.\n",
        "Instead, explain what hyperparemters you tuned, what the best validation accuracy was,\n",
        "and the reasoning behind the hyperparameter decisions you made.\n",
        "\n",
        "For this assignment, you should tune more than just your learning rate and epoch.\n",
        "Choose at least 2 hyperparameters that are unrelated to the optimizer."
      ]
    },
    {
      "cell_type": "code",
      "metadata": {
        "id": "WeCZtA9iiYZm"
      },
      "source": [
        "# TO BE COMPLETED\n",
        "\n",
        "\n",
        "\n"
      ],
      "outputs": [],
      "execution_count": null
    },
    {
      "cell_type": "code",
      "source": [
        "'''\n",
        "PROVIDE YOUR ANSWER BELOW\n",
        "\n",
        "\n",
        "\n",
        "\n",
        "\n",
        "\n",
        "'''"
      ],
      "metadata": {
        "id": "N9o-7udJmahe"
      },
      "outputs": [],
      "execution_count": null
    },
    {
      "cell_type": "markdown",
      "source": [
        "## Part 4. Evaluation [10 pt]\n",
        "\n",
        "### Part (i) [3pt RESULT]\n",
        "\n",
        "Report the final test accuracy of your best BERT-based model. Then summarize in a pandas dataframe the accuracy obtained on the training, validation, and test data of your best models from Part A and B.\n",
        "\n",
        "How does the BERT model compare to the approach in part A using only LSTM? Are the results what you expected? Explain.\n",
        "\n"
      ],
      "metadata": {
        "id": "ecKaJIpQe9UV"
      }
    },
    {
      "cell_type": "code",
      "source": [
        "# TO BE COMPLETED\n",
        "\n",
        "\n",
        "\n"
      ],
      "metadata": {
        "id": "AoweZb8i2cRb"
      },
      "outputs": [],
      "execution_count": null
    },
    {
      "cell_type": "code",
      "source": [
        "'''\n",
        "PROVIDE YOUR ANSWER BELOW\n",
        "\n",
        "\n",
        "\n",
        "\n",
        "\n",
        "\n",
        "'''"
      ],
      "metadata": {
        "id": "1RIZ3JWzm2a_"
      },
      "outputs": [],
      "execution_count": null
    },
    {
      "cell_type": "markdown",
      "metadata": {
        "id": "ybdyEKx5Ww4F"
      },
      "source": [
        "### Part (ii) [2pt RESULT]\n",
        "\n",
        "Report the false positive rate and false negative rate of your model across the test set. Then summarize in a pandas dataframe the false postive and false negative rate of your model obtained on the training, validation, and test data of your best models from Part A and B.\n",
        "\n",
        "How does the BERT model compare to the approach in part A using only LSTM? Are the results what you expected? Explain."
      ]
    },
    {
      "cell_type": "code",
      "metadata": {
        "id": "vuxLCHhFWw4F"
      },
      "source": [
        "# TO BE COMPLETED\n",
        "\n",
        "\n"
      ],
      "outputs": [],
      "execution_count": null
    },
    {
      "cell_type": "code",
      "source": [
        "'''\n",
        "PROVIDE YOUR ANSWER BELOW\n",
        "\n",
        "\n",
        "\n",
        "\n",
        "\n",
        "\n",
        "'''"
      ],
      "metadata": {
        "id": "vIu8lB9jm3X_"
      },
      "outputs": [],
      "execution_count": null
    },
    {
      "cell_type": "markdown",
      "metadata": {
        "id": "646WjsAwWw4F"
      },
      "source": [
        "### Part (iii) [3pt DISCUSSION]\n",
        "Examine some of the misclassified reviews from you best BERT and LSTM models to better identify the differences in the models. Try to provide some justification for any differences in the misclassifications observed in the models.\n",
        "\n",
        "Is there any part of the review that you could modify to make the classifications correct? Try to make small changes to the review to see if you can make the model make the correct classification while keeping the review as close to the original as possible."
      ]
    },
    {
      "cell_type": "code",
      "metadata": {
        "id": "0OvvnW8OWw4G"
      },
      "source": [
        "# TO BE COMPLETED\n",
        "\n",
        "\n",
        "\n"
      ],
      "outputs": [],
      "execution_count": null
    },
    {
      "cell_type": "code",
      "source": [
        "'''\n",
        "PROVIDE YOUR ANSWER BELOW\n",
        "\n",
        "\n",
        "\n",
        "\n",
        "\n",
        "\n",
        "'''"
      ],
      "metadata": {
        "id": "7TWkK5Sgm4YM"
      },
      "outputs": [],
      "execution_count": null
    },
    {
      "cell_type": "markdown",
      "metadata": {
        "id": "H4FlSj_Mn2yY"
      },
      "source": [
        "### Part (iv) [2pt DISCUSSION]\n",
        "Find 5 samples of positive and negative reviews on IMDB that were posted recently and evaluate them with your best BERT and LSTM models from parts A and B. How well do they perform?"
      ]
    },
    {
      "cell_type": "code",
      "metadata": {
        "id": "y3DCyMW_n05f"
      },
      "source": [
        "# TO BE COMPLETED\n",
        "\n",
        "\n",
        "\n"
      ],
      "outputs": [],
      "execution_count": null
    },
    {
      "cell_type": "code",
      "source": [
        "'''\n",
        "PROVIDE YOUR ANSWER BELOW\n",
        "\n",
        "\n",
        "\n",
        "\n",
        "\n",
        "\n",
        "'''"
      ],
      "metadata": {
        "id": "0kLt9a5Xm5cO"
      },
      "outputs": [],
      "execution_count": null
    },
    {
      "cell_type": "markdown",
      "source": [
        "# PART C (Optional) - Bonus Challenge!\n",
        "\n",
        "This is an optional exercise for those that finish the assignment early and would like to take on a challenging task.\n",
        "\n",
        "In part A we constructed and trained an LSTM model to identify the sentiment in movie reviews. In Part B we used the embeddings of a BERT model pretrained on a large corpus of text to demonstrate how transfer learning can be used to improve our movie sentiment model. The BERT model is one of many language models that we could have used to implement transfer learning.\n",
        "\n",
        "For this bonus challenge you are asked to implement a generative character-level LSTM model to produce IMDB movie reviews. Once the model is sufficiently trained you can then use its hidden states as the embedding for training a movie sentiment model. Construct your new movie sentiment analysis model and compare the performance against the model from part A and B.\n",
        "\n",
        "There are many variants of a generative LSTM model that you can consider. As a starting point you can use the generative LSTM sample code provided in the lecture notes. Specifically, the one used to generate Shakeaspeare. More advanced versions of a generative LSTM can be found in the Universal Language Model Fine-turing for Text Classification (ULMfit) paper (https://arxiv.org/abs/1801.06146).\n",
        "\n",
        "Tasks:\n",
        "\n",
        "1. Create a generative character-level LSTM model trained to create IMDB reviews\n",
        "2. Create a classifier using the embeddings from the generative LSTM model (from step 1) to identify positive and negative reviews.\n",
        "3. Compare the performance of the model with the results in parts A and B of the assignment.\n",
        "4. Upgrade the generative LSTM model using the techniques listed in the ULMfit paper (e.g., bi-directional LSTM, pretraining with wikipedia text and fine-tuning on IMDBT reviews, etc.).\n",
        "\n",
        "Bonus marks will be provided based on the number of steps completed. Summarize below your results and anything intersting you learned from the steps that you completed. Bonus marks cannot be accumulated beyond a maximum assignment grade.\n"
      ],
      "metadata": {
        "id": "ARDyU7N2mWFh"
      }
    },
    {
      "cell_type": "code",
      "source": [
        "# TO BE COMPLETED\n",
        "\n",
        "\n"
      ],
      "metadata": {
        "id": "9eUKPfCumdpW"
      },
      "outputs": [],
      "execution_count": null
    },
    {
      "cell_type": "code",
      "source": [
        "'''\n",
        "PROVIDE YOUR ANSWER BELOW\n",
        "\n",
        "\n",
        "\n",
        "\n",
        "\n",
        "\n",
        "'''"
      ],
      "metadata": {
        "id": "ryS5uR0NB8pE"
      },
      "outputs": [],
      "execution_count": null
    },
    {
      "cell_type": "markdown",
      "metadata": {
        "id": "FYwI4RmFS2RB"
      },
      "source": [
        "### Saving to HTML\n",
        "Detailed instructions for saving to HTML can be found <a href=\"https://stackoverflow.com/questions/53460051/convert-ipynb-notebook-to-html-in-google-colab/64487858#64487858\">here</a>. Provided below are a summary of the instructions:\n",
        "\n",
        "(1) download your ipynb file by clicking on File->Download.ipynb\n",
        "\n",
        "(2) reupload your file to the temporary Google Colab storage (you can access the temporary storage from the tab to the left)\n",
        "\n",
        "(3) run the following:"
      ]
    },
    {
      "cell_type": "code",
      "metadata": {
        "id": "2TrsqdNgS5ex"
      },
      "source": [
        "# #!pip install nbconvert\n",
        "\n",
        "# %%shell\n",
        "# jupyter nbconvert --to html /content/A4.ipynb\n"
      ],
      "outputs": [],
      "execution_count": null
    },
    {
      "cell_type": "markdown",
      "metadata": {
        "id": "nuXhlFlPTY7F"
      },
      "source": [
        "(4) the html file will be available for download in the temporary Google Colab storage\n",
        "\n",
        "(5) review the html file and make sure all the results are visible before submitting your assignment to Quercus"
      ]
    },
    {
      "cell_type": "markdown",
      "source": [
        "# Assignment Grading Rubric\n",
        "The grading of the assignment will be based on the following categories:\n",
        "\n",
        "(1) **10 Pt - EXPLORATORY QUESTIONS** These are basic questions that in most cases can be answered without requiring a fully working and trained neural network model. For example, data loading, processing and visualization, summary statistics, data exploration, model and training setup, etc.\n",
        "\n",
        "(2) **10 Pt - MODEL** Student has successfully implemented all the required neural network models and has demonstrated successful training of the model without any errors.\n",
        "\n",
        "(3) **10 Pt - RESULT** Students are evaluated based on the results achieved in comparison to the expected results of the assignment.\n",
        "\n",
        "(4) **10 Pt - DISCUSSION QUESTIONS** Student demonstrated understanding beyond the basic exploratory questions, can answer some of the more challenging questions, and provide arguments for their model selection decisions.\n",
        "\n",
        "(5) **10 Pt - COMMUNICATION** Student has provided a quality submission that is easy to read without too many unnecessary output statements that distract the reading of the document. The code has been well commented and all the answers are communicated clearly and concisely.\n",
        "\n",
        "(6) **10 Pt - BONUS** Student has completed the assignment and has taken on the challenging bonus tasks listed in PART C. The student has demonstrated a good understanding of all aspects of the assignment and has exceeded expectations for the assignment.\n",
        "\n",
        "\n",
        "\n",
        "**TOTAL GRADE = _____ of 50 Pts**"
      ],
      "metadata": {
        "id": "Oo8xLbm4mggI"
      }
    }
  ]
}